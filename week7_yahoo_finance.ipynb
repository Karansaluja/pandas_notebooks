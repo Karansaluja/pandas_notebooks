{
 "cells": [
  {
   "cell_type": "markdown",
   "metadata": {},
   "source": [
    "# Scraping Yahoo Finance"
   ]
  },
  {
   "cell_type": "markdown",
   "metadata": {},
   "source": [
    "## Week 7. Practice Programming Assignment 1"
   ]
  },
  {
   "cell_type": "markdown",
   "metadata": {},
   "source": [
    "In this assignment you are required to look at historical data for 30 companies from [Dow Jones Index](https://en.wikipedia.org/wiki/Dow_Jones_Industrial_Average). Tickers for companies from the index can be found in *dow_jones_tickers.txt*. For each company you should get historical daily stock prices for 2019 from https://finance.yahoo.com/, and then use the data to answer the questions you will find below. "
   ]
  },
  {
   "cell_type": "markdown",
   "metadata": {},
   "source": [
    "###### Import coursera grader tools"
   ]
  },
  {
   "cell_type": "code",
   "execution_count": 1,
   "metadata": {},
   "outputs": [],
   "source": [
    "import sys\n",
    "sys.path.append(\"..\")\n",
    "import grading\n",
    "grader = grading.Grader(assignment_key=\"FpZrXMbETcuStX7z6jFv2Q\", \n",
    "                      all_parts=[\"RbP2k\", \"LLRai\", \"hgIbw\", \"Tx3OG\", \"Y05pG\",\n",
    "                                 \"lFPeF\", \"htUtf\", \"Xri0I\", \"4JfUm\", \"oD7pP\"])"
   ]
  },
  {
   "cell_type": "code",
   "execution_count": 12,
   "metadata": {},
   "outputs": [],
   "source": [
    "# token expires every 30 min\n",
    "COURSERA_EMAIL = 'fancycreative246@gmail.com'\n",
    "COURSERA_TOKEN = 'zHXrbkM81MmNn7Kq'"
   ]
  },
  {
   "cell_type": "markdown",
   "metadata": {},
   "source": [
    "<br><br><br><br>"
   ]
  },
  {
   "cell_type": "markdown",
   "metadata": {},
   "source": [
    "### Coding part"
   ]
  },
  {
   "cell_type": "code",
   "execution_count": 3,
   "metadata": {},
   "outputs": [],
   "source": [
    "# you can start your web-scraping here\n",
    "from selenium import webdriver\n",
    "import requests\n",
    "import re\n",
    "from bs4 import BeautifulSoup\n",
    "from selenium.webdriver.support.ui import WebDriverWait\n",
    "from selenium.webdriver.common.by import By\n",
    "from selenium.webdriver.support import expected_conditions as EC\n",
    "from selenium.webdriver.common.keys import Keys\n",
    "import time"
   ]
  },
  {
   "cell_type": "code",
   "execution_count": 101,
   "metadata": {},
   "outputs": [],
   "source": [
    "driver = webdriver.Chrome(\"/Users/joyceliu/Downloads/chromedriver\")\n",
    "mainSite = driver.get('https://finance.yahoo.com/')\n",
    "def downloadCSV(stock):\n",
    "    searchInput = WebDriverWait(driver, 10).until(EC.presence_of_element_located((By.ID, 'yfin-usr-qry')))\n",
    "    searchInput.send_keys(\"{0}\".format(stock))\n",
    "    time.sleep(10)\n",
    "    searchInput.send_keys(Keys.ENTER)\n",
    "    \n",
    "    \n",
    "    time.sleep(10)\n",
    "    histData = driver.find_element_by_xpath('//span[text()=\"Historical Data\"]').click()\n",
    "    \n",
    "    drop_down = WebDriverWait(driver, 20).until(EC.element_to_be_clickable((By.XPATH, '//span[text()=\"Oct 30, 2019 - Oct 30, 2020\"]')))\n",
    "    drop_down.click()\n",
    "    \n",
    "    start_date = driver.find_element(By.XPATH, '//input[@name=\"startDate\"]')\n",
    "    start_date.send_keys('01/01/2019')\n",
    "\n",
    "    end_date = driver.find_element(By.XPATH, '//input[@name= \"endDate\"]')\n",
    "    end_date.send_keys('01/01/2020')\n",
    "\n",
    "    done_button = driver.find_element(By.XPATH, '//span[text()=\"Done\"]')\n",
    "    done_button.click()\n",
    "\n",
    "    apply_button = driver.find_element(By.XPATH, '//span[text()=\"Apply\"]')\n",
    "    apply_button.click()\n",
    "\n",
    "    download_link = driver.find_element(By.XPATH, '//span[text()=\"Download\"]')\n",
    "    download_link.click()"
   ]
  },
  {
   "cell_type": "code",
   "execution_count": 2,
   "metadata": {},
   "outputs": [],
   "source": [
    "dow_jones_companies = []\n",
    "\n",
    "with open('dow_jones_tickers.txt') as f:\n",
    "    for ticker in f:\n",
    "        dow_jones_companies.append(ticker.strip())"
   ]
  },
  {
   "cell_type": "code",
   "execution_count": 5,
   "metadata": {
    "scrolled": true
   },
   "outputs": [
    {
     "name": "stdout",
     "output_type": "stream",
     "text": [
      "['AXP', 'AAPL', 'BA', 'CAT', 'CSCO', 'CVX', 'XOM', 'GS', 'HD', 'IBM', 'INTC', 'JNJ', 'KO', 'JPM', 'MCD', 'MMM', 'MRK', 'MSFT', 'NKE', 'PFE', 'PG', 'TRV', 'UNH', 'RTX', 'VZ', 'V', 'WBA', 'WMT', 'DIS', 'DOW']\n"
     ]
    },
    {
     "data": {
      "text/plain": [
       "['AXP',\n",
       " 'AAPL',\n",
       " 'BA',\n",
       " 'CAT',\n",
       " 'CSCO',\n",
       " 'CVX',\n",
       " 'XOM',\n",
       " 'GS',\n",
       " 'HD',\n",
       " 'IBM',\n",
       " 'INTC',\n",
       " 'JNJ',\n",
       " 'KO',\n",
       " 'JPM',\n",
       " 'MCD',\n",
       " 'MMM',\n",
       " 'MRK',\n",
       " 'MSFT',\n",
       " 'NKE',\n",
       " 'PFE',\n",
       " 'PG',\n",
       " 'TRV',\n",
       " 'UNH',\n",
       " 'RTX',\n",
       " 'VZ',\n",
       " 'V',\n",
       " 'WBA',\n",
       " 'WMT',\n",
       " 'DIS',\n",
       " 'DOW']"
      ]
     },
     "execution_count": 5,
     "metadata": {},
     "output_type": "execute_result"
    }
   ],
   "source": [
    "print(dow_jones_companies)\n",
    "dow_jones_companies"
   ]
  },
  {
   "cell_type": "code",
   "execution_count": 104,
   "metadata": {
    "scrolled": true
   },
   "outputs": [],
   "source": [
    "for stock in dow_jones_companies:\n",
    "    downloadCSV(stock)"
   ]
  },
  {
   "cell_type": "code",
   "execution_count": 4,
   "metadata": {},
   "outputs": [],
   "source": [
    "import pandas as pd"
   ]
  },
  {
   "cell_type": "code",
   "execution_count": 67,
   "metadata": {},
   "outputs": [
    {
     "name": "stdout",
     "output_type": "stream",
     "text": [
      "93.910004 124.489998\n"
     ]
    }
   ],
   "source": [
    "axp_df = pd.read_csv('AXP.csv')\n",
    "axp_df.head(5)\n",
    "open = axp_df.iloc[0]['Open']\n",
    "close = axp_df.iloc[-1]['Close']\n",
    "print(open, close)"
   ]
  },
  {
   "cell_type": "code",
   "execution_count": 8,
   "metadata": {
    "scrolled": true
   },
   "outputs": [
    {
     "data": {
      "text/plain": [
       "32.56308454634929"
      ]
     },
     "execution_count": 8,
     "metadata": {},
     "output_type": "execute_result"
    }
   ],
   "source": [
    "(close/open-1)*100"
   ]
  },
  {
   "cell_type": "code",
   "execution_count": 87,
   "metadata": {},
   "outputs": [
    {
     "name": "stdout",
     "output_type": "stream",
     "text": [
      "[9.36001770375816, 5.2045638041377185, 0.8302592097738204, 6.292503343072764, -2.349537734319085, 7.7514002749895505, -0.7422186574089773, -2.7470260017862014, -1.318206229616159, -1.1962915213889924, 1.4441338926058922, 3.474357966492536]\n"
     ]
    }
   ],
   "source": [
    "axp_df['month'] = axp_df['Date'].str.split('-', expand = True)[1].astype(int)\n",
    "ret = []\n",
    "# axp_df.head(5)\n",
    "for i in range(1, 13):\n",
    "    open = axp_df.loc[axp_df['month'] == i].iloc[0]['Open']\n",
    "    close = axp_df.loc[axp_df['month'] == i].iloc[-1]['Close']\n",
    "    ret.append((close/open-1)*100)\n",
    "print(ret)"
   ]
  },
  {
   "cell_type": "code",
   "execution_count": 7,
   "metadata": {},
   "outputs": [],
   "source": [
    "def average_change_of_price(df):\n",
    "    df = pd.read_csv(stock + '.csv')\n",
    "    open = df.iloc[0]['Open']\n",
    "    close = df.iloc[-1]['Close']\n",
    "    return (close/open-1)*100\n",
    "\n",
    "def calculate_rows(df):\n",
    "    return len(df.index)\n",
    "\n",
    "def get_largest_volume(df):\n",
    "    return df['Volume'].max()\n",
    "\n",
    "def get_largest_daily_increase(df):\n",
    "    df['daily_increase'] = (df['Close']/df['Open'] - 1)*100\n",
    "    return (df['daily_increase'].max(), df['daily_increase'].min())\n",
    "\n",
    "def get_average_monthly_price_increase(df):\n",
    "    df['month'] = df['Date'].str.split('-', expand = True)[1].astype(int)\n",
    "    ret = []\n",
    "    for i in range(1, 13):\n",
    "        open = df.loc[df['month'] == i].iloc[0]['Open']\n",
    "        close = df.loc[df['month'] == i].iloc[-1]['Close']\n",
    "        ret.append((close/open-1)*100)\n",
    "    return ret"
   ]
  },
  {
   "cell_type": "code",
   "execution_count": 9,
   "metadata": {
    "scrolled": true
   },
   "outputs": [
    {
     "name": "stdout",
     "output_type": "stream",
     "text": [
      "AXP -3.475408196721308\n",
      "BA -6.77506775067751\n",
      "UNH -7.163559664794761\n",
      "23.664689872548923\n",
      "[32.56308454634929, 89.58615275356708, 3.0266636957104076, 19.067962743432744, 13.434248189078723, 12.269430306295149, 3.6080194092953155, 39.919667864423204, 28.67833126658228, 19.667878409644146, 30.221930596647752, 13.845305008768216, 17.916487386375945, 45.284000373652944, 12.656060939374925, -6.069645711385796, 20.799569387706597, 58.412850072942724, 39.18120154992166, -9.137289172942697, 37.20751771072743, 16.563111185004864, 19.991841224489782, 42.41156899627585, 9.330487891737892, 44.53845692307692, -12.261902333120645, 29.681358900931464, 33.79279155953363, 3.7535545023696715]\n",
      "AAPL\n",
      "WBA\n",
      "7507\n",
      "AAPL\n",
      "BA\n",
      "UNH\n"
     ]
    }
   ],
   "source": [
    "ret = []\n",
    "maxValue = 0\n",
    "company = ''\n",
    "numRows = 0\n",
    "minValue = float('inf')\n",
    "company2 = ''\n",
    "maxVolume = 0\n",
    "company3 = ''\n",
    "max_daily_increase = 0\n",
    "company4 = ''\n",
    "min_daily_decrease = float('inf')\n",
    "company5 = ''\n",
    "\n",
    "for stock in dow_jones_companies:\n",
    "    df = pd.read_csv(stock + '.csv')\n",
    "    ans = average_change_of_price(df)\n",
    "    numRows += calculate_rows(df)\n",
    "    volume = get_largest_volume(df)\n",
    "    daily_increase, daily_decrease = get_largest_daily_increase(df)\n",
    "    ret.append(ans)\n",
    "    \n",
    "    if maxValue < ans:\n",
    "        maxValue = ans\n",
    "        company = stock\n",
    "\n",
    "    if minValue > ans:\n",
    "        minValue = ans\n",
    "        company2 = stock\n",
    "    \n",
    "    if volume > maxVolume:\n",
    "        maxVolume = volume\n",
    "        company3 = stock\n",
    "    \n",
    "    if daily_increase > max_daily_increase:\n",
    "        max_daily_increase = daily_increase\n",
    "        company4 = stock\n",
    "    \n",
    "    if daily_decrease < min_daily_decrease:\n",
    "        min_daily_decrease = daily_decrease\n",
    "        company5 = stock\n",
    "        print(company5, daily_decrease)\n",
    "\n",
    "print(sum(ret)/len(ret))\n",
    "print(ret)\n",
    "print(company)\n",
    "print(company2)\n",
    "print(numRows)\n",
    "print(company3)\n",
    "print(company4)\n",
    "print(company5)"
   ]
  },
  {
   "cell_type": "code",
   "execution_count": 90,
   "metadata": {
    "scrolled": true
   },
   "outputs": [
    {
     "name": "stdout",
     "output_type": "stream",
     "text": [
      "[[9.36001770375816, 5.2045638041377185, 0.8302592097738204, 6.292503343072764, -2.349537734319085, 7.7514002749895505, -0.7422186574089773, -2.7470260017862014, -1.318206229616159, -1.1962915213889924, 1.4441338926058922, 3.474357966492536], [7.456907482729691, 3.70746508349471, 8.991276107413348, 4.71195992485911, -16.585665778813308, 12.710701015457815, 4.857996751488902, -2.4123366961135706, 8.496831216270163, 10.525608547541342, 7.097062021225042, 9.87017068298741], [21.958313849531528, 13.946804820393343, -14.481737080295575, -2.102121890164499, -9.753523920834617, 7.631578085218993, -6.495289321211217, 6.48708482949214, 7.444019405439795, -10.94839053869351, 7.51343178030397, -11.256396007227709], [7.361126399751083, 3.239868475079799, -2.4269018981211254, 1.2564427154267976, -14.163922995215328, 13.660235554658119, -5.477390406086357, -9.601944010953689, 7.133160184339937, 8.163265962900068, 3.8458787345152734, 1.707986261184291], [11.849579277426203, 9.2885815767064, 3.8269269230769343, 2.698239720998541, -7.089287500000008, 5.1488973131392335, 0.253355058029503, -16.17120164756447, 5.961824877507493, -4.310179081160969, -3.2870801830130247, 5.988948066298327], [6.810141859889773, 2.511787355134376, 2.3174690781416096, -3.07580924172578, -4.966615067613988, 8.49172210527609, -1.7948308727278928, -3.508195901639344, 2.444502957013972, -2.6242962008291126, 1.4200355255006514, 2.144430357405569], [8.80475304542696, 5.48585305621605, 1.7888713198112027, -1.1695235318408104, -11.47110929519367, 7.792940373776358, -3.5913342509270474, -7.133164012290861, 4.006484077279171, -4.602572226385105, -0.38017546980809724, 1.8686116788321216], [20.49534022399635, -0.6565671717171706, -3.4012553459119466, 6.144328865979376, -11.584297332876858, 12.60319723615626, 5.831733173076925, -7.038979520246736, 3.0482296455028424, 3.077150936600903, 2.8291420335673445, 4.0548454357838715], [8.143298232260388, 0.6031625311262445, 3.2665976597449964, 5.5495060482536385, -6.5698775576261355, 9.735118515510365, 1.9027205803918035, 6.43037501835424, 2.4597072527229757, 0.6737938430495083, -6.591270190456655, -1.1407827380927937], [20.007138291096528, 2.341263967242635, 1.284909931590117, -0.8762568326004083, -9.647815518011772, 8.497243249366537, 6.189110765510986, -8.97917766202193, 7.83833261379312, -8.146164108693288, -0.037176951672868164, -0.30494905849646203], [2.523933910442433, 12.537182054033513, 0.48653069772699453, -6.072872653662131, -13.816041636635667, 8.180788700564978, 2.5562953427409996, -6.155977830562165, 9.359083390472911, 8.774288844058308, 3.77189853006612, 2.220322838946598], [3.86326138050177, 1.9549283105527948, 1.872898980666804, 0.8643417078240789, -6.952822425388206, 5.916349049429659, -7.118399581706125, -1.4586166689166458, 1.0860278316435323, 1.55359862933091, 4.119653068088147, 5.917799840852456], [2.5351555716905727, -6.476897689768968, 3.0569605661543653, 4.40519027856181, 0.36772215796276875, 3.5801423921887787, 3.0546328568631376, 4.281928842022165, -0.9821771553292002, -0.18338346200958977, -2.2515082875433245, 3.8071980495123725], [7.8686849776556045, 0.34615480769231155, -3.6822027341998687, 13.607440751689847, -8.434153055356441, 5.671077343920294, 2.446345426662222, -4.7429124296729075, 7.992291026088538, 5.506753285358901, 4.405703749739387, 5.358624523597966], [1.9212102634693418, 2.389302661275905, 2.8766445176151345, 3.711289763779524, 1.2253071227167789, 4.688446739824337, 0.890548688640469, 3.2152704920299646, -1.4775322825803183, -6.834655263708244, -1.6685221036936149, 1.1413634675667028], [6.644657403297827, 2.928181971110666, -0.49327092086846047, -9.70984996764901, -15.694761842451799, 8.507039749608758, -0.4217519494342792, -7.477540204489841, 1.8587361285775428, -0.006057575757578704, 1.6952210171891524, 3.6788868434676214], [-1.142251279821338, 7.002764156867669, 1.7245547523347504, -5.99546616521679, 0.6608171137166607, 5.273064525472337, -1.5890003180600076, 4.1054696389470235, -2.3886804821122487, 2.94607270135423, 0.12633513265190022, 3.8953575063358725], [4.902056105412678, 7.949508652433113, 4.473383864588398, 9.794038918723146, -5.247835020668312, 8.163107923506008, -0.2634860475925538, 0.6277379562043883, 1.7714647407110373, 2.656444861622642, 4.935540168291297, 3.879849204661734], [12.487973451188704, 4.765979353147265, -3.1289554814218468, 3.2808101683818203, -12.07113146912806, 8.687207630430027, 1.2951830919580853, -0.8913933640301797, 11.809521428571411, -4.865605169412679, 3.670434686183177, 7.673506543671227], [-1.5537987373329898, 1.1196617942538234, -2.6140792796588097, -4.626587382499414, 2.291204730229124, 4.059569924103523, -10.73316068642428, -7.204390310509257, 0.8986211485924933, 6.790979682716403, -0.43938744997124024, 1.0054111625312778], [5.976054113765272, 2.2833472191665205, 5.516683850353066, 2.158687455856634, -3.0522825614266114, 6.30150254383901, 7.387193547801929, 1.408573741710084, 3.831702113434332, 0.12061836506418455, -2.2190210331006877, 2.4274232831323017], [6.851649618719047, 5.459021704824418, 2.7261832616481962, 4.499856128232849, 1.3577580196963535, 2.7699490422039563, -2.836314890774616, 0.4580039866431962, 1.6753261188687807, -12.19937396129499, 3.9537688882673727, -0.029205050397651533], [10.28571918367347, -9.777628748919332, 1.5191316432840551, -6.663729739913871, 3.745653982839592, 1.0435173083043647, 1.2441545181234526, -6.09575098442352, -6.2224897250692575, 15.28810378860257, 10.189373396799638, 4.329623125593085], [12.27653798954471, 5.0840427418819445, 1.5041702927433898, 9.7084366548009, -11.678317814803618, 2.9655928796918696, 1.8447855697389048, -2.302899781395984, 6.100880740949455, 4.848845123377532, 2.735646398972569, 0.9232401335620866], [-1.958687678062676, 3.0972632330603878, 3.7004577341283706, -3.704327390205875, -5.032329197973084, 4.480616313094377, -3.744336598548814, 1.8385553871729021, 4.248702789336689, 0.11589238026847859, -1.7131652518654672, 1.9933571097449088], [3.853842307692301, 9.40246406235663, 4.502873467682877, 4.3801142917546665, -2.543186648558071, 7.434697610764429, 1.522841481516668, 0.909651756128671, -4.714163977084773, 3.3753305195854733, 2.4315715752075695, 1.9865332721848317], [7.529769681388543, -1.6440937404294087, -10.698656618169554, -15.704168618476299, -7.89621056561508, 10.399834410339249, -1.5715299571616659, -6.245419642689365, 7.921953170731699, -0.8686192858711306, 8.206237901008073, -0.5733558275439532], [4.572242520430403, 3.2005838865843295, -1.9503387760094526, 4.970904307738033, -1.2941471624252299, 8.717899499691995, -0.8266001574141923, 3.5714303843364714, 4.398311048557346, -1.3378174394247822, 0.9921964211702328, -0.26018127972838867], [3.1637364137601542, 0.7769893652139981, -2.133096574696247, 22.743978770283313, -3.963933232819372, 5.771848787400424, 1.8227113240878223, -4.241663994465283, -4.436450994956765, -0.6727866818168282, 15.718754266785485, -5.43350130203345]]\n"
     ]
    }
   ],
   "source": [
    "ans = []\n",
    "for stock in dow_jones_companies[:-1]:\n",
    "    df = pd.read_csv(stock + '.csv')\n",
    "    ans.append(get_average_monthly_price_increase(df))\n",
    "print(ans)"
   ]
  },
  {
   "cell_type": "markdown",
   "metadata": {},
   "source": [
    "<br><br>\n",
    "\n",
    "### Questions\n",
    "\n",
    "<br><br>\n",
    "\n",
    "**Question 1.** What is the average change of price over the year (in %)?\n",
    "\n",
    "*Note 1*. The opening price is the price at which a stock first trades upon the opening of an exchange on a trading day.\n",
    "\n",
    "*Note 2*. The closing price for any stock is the final price at which it trades during regular market hours on any given day.\n",
    "\n",
    "*Note 3*. Here by the price change we going to mean a ratio of a closing price in the last day of the period to an opening price in the first day of that period, subtracted one and multiplied by 100.\n",
    "\n",
    "Example: if a price of a stock in day 1 opened at \\\\$100, and its close price in the last day was \\\\$120, then the price change during the period is: $$\\left(\\dfrac{120}{100}-1\\right) * 100 = (1.2 - 1) * 100=20.$$\n",
    "\n",
    "The price grew by 20%."
   ]
  },
  {
   "cell_type": "code",
   "execution_count": 14,
   "metadata": {},
   "outputs": [],
   "source": [
    "answer_part_1 = 23.664689872548923"
   ]
  },
  {
   "cell_type": "code",
   "execution_count": 15,
   "metadata": {},
   "outputs": [],
   "source": [
    "# Setting our answers to grader. Do not change!\n",
    "grader.set_answer(\"RbP2k\", answer_part_1)"
   ]
  },
  {
   "cell_type": "markdown",
   "metadata": {},
   "source": [
    "<br>\n",
    "\n",
    "**Question 2.** What company's stock price grew the most (in %)? Enter ticker of the company as an answer)"
   ]
  },
  {
   "cell_type": "code",
   "execution_count": 16,
   "metadata": {},
   "outputs": [],
   "source": [
    "answer_part_2 = 'AAPL'"
   ]
  },
  {
   "cell_type": "code",
   "execution_count": 17,
   "metadata": {},
   "outputs": [],
   "source": [
    "# Setting our answers to grader. Do not change!\n",
    "grader.set_answer(\"LLRai\", answer_part_2)"
   ]
  },
  {
   "cell_type": "markdown",
   "metadata": {},
   "source": [
    "<br>\n",
    "\n",
    "**Question 3.** What company's stock lost in price the most (in %)? Enter ticker of the company as an answer"
   ]
  },
  {
   "cell_type": "code",
   "execution_count": 18,
   "metadata": {},
   "outputs": [],
   "source": [
    "answer_part_3 = 'WBA'"
   ]
  },
  {
   "cell_type": "code",
   "execution_count": 19,
   "metadata": {},
   "outputs": [],
   "source": [
    "# Setting our answers to grader. Do not change!\n",
    "grader.set_answer(\"hgIbw\", answer_part_3)"
   ]
  },
  {
   "cell_type": "markdown",
   "metadata": {},
   "source": [
    "<br>\n",
    "\n",
    "**Question 4.** What company had the largest summary volume over the year? Enter ticker of the company as an answer"
   ]
  },
  {
   "cell_type": "code",
   "execution_count": 20,
   "metadata": {},
   "outputs": [],
   "source": [
    "answer_part_4 = 'AAPL'"
   ]
  },
  {
   "cell_type": "code",
   "execution_count": 21,
   "metadata": {},
   "outputs": [],
   "source": [
    "# Setting our answers to grader. Do not change!\n",
    "grader.set_answer(\"Tx3OG\", answer_part_4)"
   ]
  },
  {
   "cell_type": "markdown",
   "metadata": {},
   "source": [
    "<br>\n",
    "\n",
    "**Question 5.** What is the biggest stock price daily increase (in %)? Enter the number "
   ]
  },
  {
   "cell_type": "code",
   "execution_count": 22,
   "metadata": {},
   "outputs": [],
   "source": [
    "answer_part_5 = 7.741003003612024"
   ]
  },
  {
   "cell_type": "code",
   "execution_count": 23,
   "metadata": {},
   "outputs": [],
   "source": [
    "# Setting our answers to grader. Do not change!\n",
    "grader.set_answer(\"Y05pG\", answer_part_5)"
   ]
  },
  {
   "cell_type": "markdown",
   "metadata": {},
   "source": [
    "<br><br>\n",
    "\n",
    "**Question 6.** What is the company that had the biggest stock price daily increase? Enter ticker of the company as an answer"
   ]
  },
  {
   "cell_type": "code",
   "execution_count": 31,
   "metadata": {},
   "outputs": [],
   "source": [
    "answer_part_6 = 'BA'"
   ]
  },
  {
   "cell_type": "code",
   "execution_count": 32,
   "metadata": {},
   "outputs": [],
   "source": [
    "# Setting our answers to grader. Do not change!\n",
    "grader.set_answer(\"lFPeF\", answer_part_6)"
   ]
  },
  {
   "cell_type": "markdown",
   "metadata": {},
   "source": [
    "<br>\n",
    "\n",
    "**Question 7.** What is the biggest stock price daily decrease (in %)? Enter the number"
   ]
  },
  {
   "cell_type": "code",
   "execution_count": 33,
   "metadata": {},
   "outputs": [],
   "source": [
    "answer_part_7 = -7.163559664794761"
   ]
  },
  {
   "cell_type": "code",
   "execution_count": 34,
   "metadata": {},
   "outputs": [],
   "source": [
    "# Setting our answers to grader. Do not change!\n",
    "grader.set_answer(\"htUtf\", answer_part_7)"
   ]
  },
  {
   "cell_type": "markdown",
   "metadata": {},
   "source": [
    "<br>\n",
    "\n",
    "**Question 8.** What is the company that had the biggest stock price daily decrese (in %)? Enter ticker of the company as an answer"
   ]
  },
  {
   "cell_type": "code",
   "execution_count": 24,
   "metadata": {},
   "outputs": [],
   "source": [
    "answer_part_8 = 'UNH'"
   ]
  },
  {
   "cell_type": "code",
   "execution_count": 25,
   "metadata": {},
   "outputs": [],
   "source": [
    "# Setting our answers to grader. Do not change!\n",
    "grader.set_answer(\"Xri0I\", answer_part_8)"
   ]
  },
  {
   "cell_type": "markdown",
   "metadata": {},
   "source": [
    "<br>\n",
    "\n",
    "**Question 9.** What was the best month for all companies (i.e. average monthly price increase was the best)? Enter one of the following: January, February, March, April, May, June, July, August, September, October, November, December"
   ]
  },
  {
   "cell_type": "code",
   "execution_count": 26,
   "metadata": {},
   "outputs": [],
   "source": [
    "answer_part_9 = 'January'"
   ]
  },
  {
   "cell_type": "code",
   "execution_count": 27,
   "metadata": {},
   "outputs": [],
   "source": [
    "# Setting our answers to grader. Do not change!\n",
    "grader.set_answer(\"4JfUm\", answer_part_9)"
   ]
  },
  {
   "cell_type": "markdown",
   "metadata": {},
   "source": [
    "<br>\n",
    "\n",
    "**Question 10.** What was the worst month for all companies (i.e. average monthly price increase was the worst)? Enter one of the following: January, February, March, April, May, June, July, August, September, October, November, December"
   ]
  },
  {
   "cell_type": "code",
   "execution_count": 28,
   "metadata": {},
   "outputs": [],
   "source": [
    "answer_part_10 = 'May'"
   ]
  },
  {
   "cell_type": "code",
   "execution_count": 29,
   "metadata": {},
   "outputs": [],
   "source": [
    "# Setting our answers to grader. Do not change!\n",
    "grader.set_answer(\"oD7pP\", answer_part_10)"
   ]
  },
  {
   "cell_type": "markdown",
   "metadata": {},
   "source": [
    "<br>\n",
    "<br>\n",
    "\n",
    "### Submitting answers"
   ]
  },
  {
   "cell_type": "code",
   "execution_count": 35,
   "metadata": {},
   "outputs": [
    {
     "name": "stdout",
     "output_type": "stream",
     "text": [
      "Submitted to Coursera platform. See results on assignment page!\n"
     ]
    }
   ],
   "source": [
    "# you can make submission with answers so far to check yourself at this stage\n",
    "grader.submit(COURSERA_EMAIL, COURSERA_TOKEN)"
   ]
  },
  {
   "cell_type": "code",
   "execution_count": null,
   "metadata": {},
   "outputs": [],
   "source": []
  }
 ],
 "metadata": {
  "kernelspec": {
   "display_name": "Python 3",
   "language": "python",
   "name": "python3"
  },
  "language_info": {
   "codemirror_mode": {
    "name": "ipython",
    "version": 3
   },
   "file_extension": ".py",
   "mimetype": "text/x-python",
   "name": "python",
   "nbconvert_exporter": "python",
   "pygments_lexer": "ipython3",
   "version": "3.6.8"
  }
 },
 "nbformat": 4,
 "nbformat_minor": 4
}
