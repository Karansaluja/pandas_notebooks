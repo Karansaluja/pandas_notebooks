{
 "cells": [
  {
   "cell_type": "markdown",
   "metadata": {},
   "source": [
    "# Wikipedia Edits"
   ]
  },
  {
   "cell_type": "markdown",
   "metadata": {},
   "source": [
    "## Week 6. Practice Programming Assignment 1"
   ]
  },
  {
   "cell_type": "markdown",
   "metadata": {},
   "source": [
    "Let's look at top-5 countries of the European Union by population. They are [Germany](https://en.wikipedia.org/w/index.php?title=Germany), [France](https://en.wikipedia.org/w/index.php?title=France), [Italy](https://en.wikipedia.org/w/index.php?title=Italy), [Spain](https://en.wikipedia.org/w/index.php?title=Spain), [Poland](https://en.wikipedia.org/w/index.php?title=Poland).\n",
    "\n",
    "\n",
    "In this assignment you are required to look at wikipedia pages of these countries. More specifically, at history of edits of the pages (Click on 'View History' at the top right when you are on wikipedia article page). You are free to use any scraping tools we have covered to answer the questions, that you will find below."
   ]
  },
  {
   "cell_type": "markdown",
   "metadata": {},
   "source": [
    "###### Import coursera grader tools"
   ]
  },
  {
   "cell_type": "code",
   "execution_count": 55,
   "metadata": {},
   "outputs": [],
   "source": [
    "import sys\n",
    "sys.path.append(\"..\")\n",
    "import grading\n",
    "grader = grading.Grader(assignment_key=\"Qjww7pPCR5uU7FGL3xV9tw\", \n",
    "                      all_parts=[\"XSHot\", \"dPTWK\", \"JquX6\", \"Yjvdq\", \"L53Sc\",\n",
    "                                 \"XUNG7\", \"hyfsg\", \"8S5EP\", \"ZNeVq\", \"GnJp7\"])"
   ]
  },
  {
   "cell_type": "code",
   "execution_count": 241,
   "metadata": {},
   "outputs": [],
   "source": [
    "# token expires every 30 min\n",
    "COURSERA_EMAIL = 'fancycreative246@gmail.com'\n",
    "COURSERA_TOKEN = 'yvXCRNZHIMZBiksb'"
   ]
  },
  {
   "cell_type": "markdown",
   "metadata": {},
   "source": [
    "<br><br><br><br>"
   ]
  },
  {
   "cell_type": "markdown",
   "metadata": {},
   "source": [
    "### Coding part"
   ]
  },
  {
   "cell_type": "code",
   "execution_count": 2,
   "metadata": {},
   "outputs": [],
   "source": [
    "# you can start your web-scraping here\n",
    "import requests\n",
    "from bs4 import BeautifulSoup"
   ]
  },
  {
   "cell_type": "code",
   "execution_count": 65,
   "metadata": {},
   "outputs": [],
   "source": [
    "germany_url = 'https://en.wikipedia.org/w/index.php?title=Germany&offset=20200101&limit=1000&action=history'\n",
    "france_url = 'https://en.wikipedia.org/w/index.php?title=France&offset=20200101&limit=1000&action=history'\n",
    "italy_url = 'https://en.wikipedia.org/w/index.php?title=Italy&offset=20200101&limit=1000&action=history'\n",
    "spain_url = 'https://en.wikipedia.org/w/index.php?title=Spain&offset=20200101&limit=1000&action=history'\n",
    "poland_url = 'https://en.wikipedia.org/w/index.php?title=Poland&offset=20200101&limit=1000&action=history'"
   ]
  },
  {
   "cell_type": "code",
   "execution_count": 66,
   "metadata": {},
   "outputs": [],
   "source": [
    "germany_response = requests.get(germany_url)\n",
    "france_response = requests.get(france_url)\n",
    "italy_response = requests.get(italy_url)\n",
    "spain_response = requests.get(spain_url)\n",
    "poland_response = requests.get(poland_url)"
   ]
  },
  {
   "cell_type": "code",
   "execution_count": 67,
   "metadata": {},
   "outputs": [],
   "source": [
    "germany_soup = BeautifulSoup(germany_response.text, 'lxml')\n",
    "france_soup = BeautifulSoup(france_response.text, 'lxml')\n",
    "italy_soup = BeautifulSoup(italy_response.text, 'lxml')\n",
    "spain_soup = BeautifulSoup(spain_response.text, 'lxml')\n",
    "poland_soup = BeautifulSoup(poland_response.text, 'lxml')"
   ]
  },
  {
   "cell_type": "code",
   "execution_count": 68,
   "metadata": {},
   "outputs": [],
   "source": [
    "germany_example = germany_soup.prettify()\n",
    "france_example = france_soup.prettify()\n",
    "italy_example = italy_soup.prettify()\n",
    "spain_example = spain_soup.prettify()\n",
    "poland_example = poland_soup.prettify()"
   ]
  },
  {
   "cell_type": "code",
   "execution_count": 69,
   "metadata": {},
   "outputs": [],
   "source": [
    "germany_edit_tags = germany_soup.findAll('a', class_= 'mw-changeslist-date')\n",
    "france_edit_tags = france_soup.findAll('a', class_ = 'mw-changeslist-date')\n",
    "italy_edit_tags = italy_soup.findAll('a', class_ = 'mw-changeslist-date')\n",
    "spain_edit_tags = spain_soup.findAll('a', class_ = 'mw-changeslist-date')\n",
    "poland_edit_tags = poland_soup.findAll('a', class_= 'mw-changeslist-date')"
   ]
  },
  {
   "cell_type": "code",
   "execution_count": 70,
   "metadata": {},
   "outputs": [],
   "source": [
    "def getDate(tag):\n",
    "    text = tag.getText()\n",
    "    date = text.split(',')[1]\n",
    "    year = date.split()[2]\n",
    "    if year == '2019':\n",
    "        return True\n",
    "    else:\n",
    "        return False"
   ]
  },
  {
   "cell_type": "code",
   "execution_count": 71,
   "metadata": {},
   "outputs": [
    {
     "name": "stdout",
     "output_type": "stream",
     "text": [
      "296\n"
     ]
    }
   ],
   "source": [
    "count_germany = 0\n",
    "for tag in germany_edit_tags:\n",
    "    if getDate(tag):\n",
    "        count_germany += 1\n",
    "print(count_germany)"
   ]
  },
  {
   "cell_type": "code",
   "execution_count": 72,
   "metadata": {},
   "outputs": [
    {
     "name": "stdout",
     "output_type": "stream",
     "text": [
      "401\n"
     ]
    }
   ],
   "source": [
    "count_france = 0\n",
    "for tag in france_edit_tags:\n",
    "    if getDate(tag):\n",
    "        count_france += 1\n",
    "print(count_france)"
   ]
  },
  {
   "cell_type": "code",
   "execution_count": 73,
   "metadata": {},
   "outputs": [
    {
     "name": "stdout",
     "output_type": "stream",
     "text": [
      "601\n"
     ]
    }
   ],
   "source": [
    "count_italy = 0\n",
    "for tag in italy_edit_tags:\n",
    "    if getDate(tag):\n",
    "        count_italy += 1\n",
    "print(count_italy)"
   ]
  },
  {
   "cell_type": "code",
   "execution_count": 74,
   "metadata": {},
   "outputs": [
    {
     "name": "stdout",
     "output_type": "stream",
     "text": [
      "375\n"
     ]
    }
   ],
   "source": [
    "count_spain = 0\n",
    "for tag in spain_edit_tags:\n",
    "    if getDate(tag):\n",
    "        count_spain += 1\n",
    "print(count_spain)"
   ]
  },
  {
   "cell_type": "code",
   "execution_count": 75,
   "metadata": {},
   "outputs": [
    {
     "name": "stdout",
     "output_type": "stream",
     "text": [
      "530\n"
     ]
    }
   ],
   "source": [
    "count_poland = 0\n",
    "for tag in poland_edit_tags:\n",
    "    if getDate(tag):\n",
    "        count_poland += 1\n",
    "print(count_poland)"
   ]
  },
  {
   "cell_type": "code",
   "execution_count": 76,
   "metadata": {},
   "outputs": [
    {
     "name": "stdout",
     "output_type": "stream",
     "text": [
      "2203\n"
     ]
    }
   ],
   "source": [
    "total = count_germany + count_france + count_italy + count_spain + count_poland\n",
    "print(total)"
   ]
  },
  {
   "cell_type": "code",
   "execution_count": 85,
   "metadata": {},
   "outputs": [],
   "source": [
    "germany_edit_users_tag = germany_soup.findAll('a', class_='mw-userlink')\n",
    "france_edit_users_tag = france_soup.findAll('a', class_ = 'mw-userlink')\n",
    "italy_edit_users_tag = italy_soup.findAll('a', class_='mw-userlink')\n",
    "spain_edit_users_tag = spain_soup.findAll('a', class_='mw-userlink')\n",
    "poland_edit_users_tag = poland_soup.findAll('a', class_='mw-userlink')"
   ]
  },
  {
   "cell_type": "code",
   "execution_count": 248,
   "metadata": {
    "scrolled": false
   },
   "outputs": [
    {
     "name": "stdout",
     "output_type": "stream",
     "text": [
      "135\n",
      "152\n",
      "139\n",
      "96\n",
      "480\n"
     ]
    }
   ],
   "source": [
    "users_count = dict()\n",
    "germany_users_count = dict()\n",
    "\n",
    "count = 0\n",
    "for tag in germany_edit_tags:\n",
    "    if getDate(tag):\n",
    "        count += 1\n",
    "        user_tag = tag.parent.find('a', class_='mw-userlink')\n",
    "        user = user_tag.getText()\n",
    "        germany_users_count[user] = germany_users_count.get(user, 0) + 1\n",
    "        users_count[user] = users_count.get(user, 0) + 1\n",
    "\n",
    "print(len(germany_users_count.keys())) \n",
    "\n",
    "\n",
    "france_users_count = dict()\n",
    "for tag in france_edit_tags:\n",
    "    if getDate(tag):\n",
    "        user_tag = tag.parent.find('a', class_='mw-userlink')\n",
    "        user = user_tag.getText()\n",
    "        france_users_count[user] = france_users_count.get(user, 0) + 1\n",
    "        users_count[user] = users_count.get(user, 0) + 1\n",
    "\n",
    "print(len(france_users_count.keys()))\n",
    "\n",
    "italy_users_count = dict()\n",
    "for tag in italy_edit_tags:\n",
    "    if getDate(tag):\n",
    "        user_tag = tag.parent.find('a', class_='mw-userlink')\n",
    "        user = user_tag.getText()\n",
    "        italy_users_count[user] = italy_users_count.get(user, 0) + 1\n",
    "        users_count[user] = users_count.get(user, 0) + 1\n",
    "print(len(italy_users_count.keys()))\n",
    "\n",
    "spain_users_count = dict()\n",
    "for tag in spain_edit_tags:\n",
    "    if getDate(tag):\n",
    "        user_tag = tag.parent.find('a', class_='mw-userlink')\n",
    "        user = user_tag.getText()\n",
    "        spain_users_count[user] = spain_users_count.get(user, 0) + 1\n",
    "        users_count[user] = users_count.get(user, 0) + 1\n",
    "\n",
    "poland_users_count = dict()\n",
    "for tag in poland_edit_tags:\n",
    "    if getDate(tag):\n",
    "        user_tag = tag.parent.find('a', class_='mw-userlink')\n",
    "        user = user_tag.getText()\n",
    "        poland_users_count[user] = poland_users_count.get(user, 0) + 1\n",
    "        users_count[user] = users_count.get(user, 0) + 1\n",
    "\n",
    "print(len(poland_users_count.keys()))\n",
    "\n",
    "print(len(users_count.keys()))"
   ]
  },
  {
   "cell_type": "code",
   "execution_count": 207,
   "metadata": {},
   "outputs": [],
   "source": [
    "maxEdit = 0\n",
    "maxUser = ''\n",
    "for key, item in users_count.items():\n",
    "    if item > maxEdit:\n",
    "        maxEdit = item\n",
    "        maxUser = key\n"
   ]
  },
  {
   "cell_type": "code",
   "execution_count": 208,
   "metadata": {},
   "outputs": [
    {
     "name": "stdout",
     "output_type": "stream",
     "text": [
      "154\n",
      "Oliszydlowski\n"
     ]
    }
   ],
   "source": [
    "print(maxEdit)\n",
    "print(maxUser)"
   ]
  },
  {
   "cell_type": "code",
   "execution_count": 138,
   "metadata": {},
   "outputs": [
    {
     "name": "stdout",
     "output_type": "stream",
     "text": [
      "6.035616438356165\n"
     ]
    }
   ],
   "source": [
    "print(total/365)"
   ]
  },
  {
   "cell_type": "code",
   "execution_count": 249,
   "metadata": {},
   "outputs": [
    {
     "name": "stdout",
     "output_type": "stream",
     "text": [
      "4.589583333333334\n"
     ]
    }
   ],
   "source": [
    "print(total/480)"
   ]
  },
  {
   "cell_type": "code",
   "execution_count": 225,
   "metadata": {},
   "outputs": [
    {
     "name": "stdout",
     "output_type": "stream",
     "text": [
      "4.323741007194244\n"
     ]
    }
   ],
   "source": [
    "print(601/139)"
   ]
  },
  {
   "cell_type": "markdown",
   "metadata": {},
   "source": [
    "<br><br>\n",
    "\n",
    "### Questions\n",
    "\n",
    "<br><br>\n",
    "\n",
    "**Question 1.** How many edits overall were made on pages of all the countries in 2019? "
   ]
  },
  {
   "cell_type": "code",
   "execution_count": 77,
   "metadata": {},
   "outputs": [],
   "source": [
    "answer_part_1 = 2203"
   ]
  },
  {
   "cell_type": "code",
   "execution_count": 78,
   "metadata": {},
   "outputs": [],
   "source": [
    "# Setting our answers to grader. Do not change!\n",
    "grader.set_answer(\"XSHot\", answer_part_1)"
   ]
  },
  {
   "cell_type": "markdown",
   "metadata": {},
   "source": [
    "<br>\n",
    "\n",
    "**Question 2.** What is the highest number of edits per country in 2019 among all countries present? "
   ]
  },
  {
   "cell_type": "code",
   "execution_count": 79,
   "metadata": {},
   "outputs": [],
   "source": [
    "answer_part_2 = 601"
   ]
  },
  {
   "cell_type": "code",
   "execution_count": 80,
   "metadata": {},
   "outputs": [],
   "source": [
    "# Setting our answers to grader. Do not change!\n",
    "grader.set_answer(\"dPTWK\", answer_part_2)"
   ]
  },
  {
   "cell_type": "markdown",
   "metadata": {},
   "source": [
    "<br>\n",
    "\n",
    "**Question 3.** What is the lowest number of edits per country in 2019 among all countries present? "
   ]
  },
  {
   "cell_type": "code",
   "execution_count": 81,
   "metadata": {},
   "outputs": [],
   "source": [
    "answer_part_3 = 296"
   ]
  },
  {
   "cell_type": "code",
   "execution_count": 82,
   "metadata": {},
   "outputs": [],
   "source": [
    "# Setting our answers to grader. Do not change!\n",
    "grader.set_answer(\"JquX6\", answer_part_3)"
   ]
  },
  {
   "cell_type": "markdown",
   "metadata": {},
   "source": [
    "<br>\n",
    "\n",
    "**Question 4.** How many users overall made edits on the countries' pages in 2019? "
   ]
  },
  {
   "cell_type": "code",
   "execution_count": 250,
   "metadata": {},
   "outputs": [],
   "source": [
    "answer_part_4 = 480"
   ]
  },
  {
   "cell_type": "code",
   "execution_count": 251,
   "metadata": {},
   "outputs": [],
   "source": [
    "# Setting our answers to grader. Do not change!\n",
    "grader.set_answer(\"Yjvdq\", answer_part_4)"
   ]
  },
  {
   "cell_type": "markdown",
   "metadata": {},
   "source": [
    "<br>\n",
    "\n",
    "**Question 5.** What is the highest number of users made edits on country's page among all countries present in 2019? "
   ]
  },
  {
   "cell_type": "code",
   "execution_count": 205,
   "metadata": {},
   "outputs": [],
   "source": [
    "answer_part_5 = 152"
   ]
  },
  {
   "cell_type": "code",
   "execution_count": 206,
   "metadata": {},
   "outputs": [],
   "source": [
    "# Setting our answers to grader. Do not change!\n",
    "grader.set_answer(\"L53Sc\", answer_part_5)"
   ]
  },
  {
   "cell_type": "markdown",
   "metadata": {},
   "source": [
    "<br><br>\n",
    "\n",
    "**Question 6.** What user made the most edits? "
   ]
  },
  {
   "cell_type": "code",
   "execution_count": 209,
   "metadata": {},
   "outputs": [],
   "source": [
    "answer_part_6 ='Oliszydlowski'"
   ]
  },
  {
   "cell_type": "code",
   "execution_count": 210,
   "metadata": {},
   "outputs": [],
   "source": [
    "# Setting our answers to grader. Do not change!\n",
    "grader.set_answer(\"XUNG7\", answer_part_6)"
   ]
  },
  {
   "cell_type": "markdown",
   "metadata": {},
   "source": [
    "<br>\n",
    "\n",
    "**Question 7.** What is average number of edits per day in 2019? "
   ]
  },
  {
   "cell_type": "code",
   "execution_count": 108,
   "metadata": {},
   "outputs": [],
   "source": [
    "answer_part_7 = 6.035616438356165"
   ]
  },
  {
   "cell_type": "code",
   "execution_count": 109,
   "metadata": {},
   "outputs": [],
   "source": [
    "# Setting our answers to grader. Do not change!\n",
    "grader.set_answer(\"hyfsg\", answer_part_7)"
   ]
  },
  {
   "cell_type": "markdown",
   "metadata": {},
   "source": [
    "<br>\n",
    "\n",
    "**Question 8.** What is average number of edits per user in 2019? "
   ]
  },
  {
   "cell_type": "code",
   "execution_count": 252,
   "metadata": {},
   "outputs": [],
   "source": [
    "answer_part_8 = 4.589583333333334"
   ]
  },
  {
   "cell_type": "code",
   "execution_count": 253,
   "metadata": {},
   "outputs": [],
   "source": [
    "# Setting our answers to grader. Do not change!\n",
    "grader.set_answer(\"8S5EP\", answer_part_8)"
   ]
  },
  {
   "cell_type": "markdown",
   "metadata": {},
   "source": [
    "<br>\n",
    "\n",
    "**Question 9.** What is average number of edits per day in the country with most edits in 2019? "
   ]
  },
  {
   "cell_type": "code",
   "execution_count": 114,
   "metadata": {},
   "outputs": [],
   "source": [
    "answer_part_9 = 1.6465753424657534"
   ]
  },
  {
   "cell_type": "code",
   "execution_count": 115,
   "metadata": {},
   "outputs": [],
   "source": [
    "# Setting our answers to grader. Do not change!\n",
    "grader.set_answer(\"ZNeVq\", answer_part_9)"
   ]
  },
  {
   "cell_type": "markdown",
   "metadata": {},
   "source": [
    "<br>\n",
    "\n",
    "**Question 10.** What is average number of edits per user in the country with most edits in 2019?"
   ]
  },
  {
   "cell_type": "code",
   "execution_count": 231,
   "metadata": {},
   "outputs": [],
   "source": [
    "answer_part_10 = 4.323741007194244"
   ]
  },
  {
   "cell_type": "code",
   "execution_count": 232,
   "metadata": {},
   "outputs": [],
   "source": [
    "# Setting our answers to grader. Do not change!\n",
    "grader.set_answer(\"GnJp7\", answer_part_10)"
   ]
  },
  {
   "cell_type": "markdown",
   "metadata": {},
   "source": [
    "<br>\n",
    "<br>\n",
    "\n",
    "### Submitting answers"
   ]
  },
  {
   "cell_type": "code",
   "execution_count": 254,
   "metadata": {},
   "outputs": [
    {
     "name": "stdout",
     "output_type": "stream",
     "text": [
      "Submitted to Coursera platform. See results on assignment page!\n"
     ]
    }
   ],
   "source": [
    "# you can make submission with answers so far to check yourself at this stage\n",
    "grader.submit(COURSERA_EMAIL, COURSERA_TOKEN)"
   ]
  },
  {
   "cell_type": "code",
   "execution_count": null,
   "metadata": {},
   "outputs": [],
   "source": []
  }
 ],
 "metadata": {
  "kernelspec": {
   "display_name": "Python 3",
   "language": "python",
   "name": "python3"
  },
  "language_info": {
   "codemirror_mode": {
    "name": "ipython",
    "version": 3
   },
   "file_extension": ".py",
   "mimetype": "text/x-python",
   "name": "python",
   "nbconvert_exporter": "python",
   "pygments_lexer": "ipython3",
   "version": "3.6.8"
  }
 },
 "nbformat": 4,
 "nbformat_minor": 4
}
