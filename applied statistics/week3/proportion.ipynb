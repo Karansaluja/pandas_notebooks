{
 "cells": [
  {
   "cell_type": "code",
   "execution_count": 1,
   "metadata": {},
   "outputs": [],
   "source": [
    "import numpy as np\n",
    "import scipy as sc\n",
    "from matplotlib import pyplot as plt\n",
    "\n",
    "from statsmodels.stats.proportion import proportion_confint, proportions_ztest, \\\n",
    "confint_proportions_2indep, test_proportions_2indep"
   ]
  },
  {
   "cell_type": "markdown",
   "metadata": {},
   "source": [
    "## One sample"
   ]
  },
  {
   "cell_type": "markdown",
   "metadata": {},
   "source": [
    "In episode 5 of season 13 of Mythbusters they tested the expression \"know something like the back of one's hand\". \n",
    "\n",
    "12 subjects tried to select a photo of their hand from 10 similar pictures.\n",
    "11 of 12 subjects selected their own hand. "
   ]
  },
  {
   "cell_type": "markdown",
   "metadata": {},
   "source": [
    "### Confidence interval\n",
    "Confidence interval for the proportion of people knowing what the back of their hand looks like:"
   ]
  },
  {
   "cell_type": "code",
   "execution_count": 2,
   "metadata": {},
   "outputs": [
    {
     "name": "stdout",
     "output_type": "stream",
     "text": [
      "Wald's interval: (0.7602897792479355, 1.0)\n",
      "Wilson's interval: (0.646120088858883, 0.9851349055950829)\n"
     ]
    }
   ],
   "source": [
    "print(\"Wald's interval:\", proportion_confint(11, 12, method = 'normal'))\n",
    "print(\"Wilson's interval:\", proportion_confint(11, 12, method = 'wilson'))"
   ]
  },
  {
   "cell_type": "markdown",
   "metadata": {},
   "source": [
    "In this implementation of the Wald's interval the result is trimmed so both limits are within [0,1].\n",
    "\n",
    "How many subjects do we need to test if we want an estimate with +- 5% precision (i.e., 95% confidence interval of the width up to 10%)? statsmodels has a function to calculate that (only for Wald's method, unfortunately):"
   ]
  },
  {
   "cell_type": "code",
   "execution_count": 2,
   "metadata": {},
   "outputs": [],
   "source": [
    "from statsmodels.stats.proportion import samplesize_confint_proportion"
   ]
  },
  {
   "cell_type": "markdown",
   "metadata": {},
   "source": [
    "That number of subjects depends on the unknown true proprotion that we are trying to estimate; let's plot sample size as a function of the unknown proportion:"
   ]
  },
  {
   "cell_type": "code",
   "execution_count": 3,
   "metadata": {},
   "outputs": [
    {
     "data": {
      "image/png": "[encoded data removed]",
      "text/plain": [
       "<Figure size 432x288 with 1 Axes>"
      ]
     },
     "metadata": {
      "needs_background": "light"
     },
     "output_type": "display_data"
    }
   ],
   "source": [
    "prop = np.arange(0.01, 0.99, 0.01)\n",
    "n = [np.ceil(samplesize_confint_proportion(p, 0.05)) for p in prop]\n",
    "\n",
    "plt.plot(prop, n);"
   ]
  },
  {
   "cell_type": "markdown",
   "metadata": {},
   "source": [
    "### Test\n",
    "\n",
    "Let's test a hypothesis now!\n",
    "\n",
    "$H_0$: people do not know what backs of their hands look like and are guessing at random ($p=0.1$).\n",
    "\n",
    "$H_1$: people are able to select a picture of their own hand better than at random ($p>0.1$)."
   ]
  },
  {
   "cell_type": "code",
   "execution_count": 4,
   "metadata": {},
   "outputs": [
    {
     "name": "stdout",
     "output_type": "stream",
     "text": [
      "Z test: (10.235766170195031, 6.85528054545589e-25)\n"
     ]
    }
   ],
   "source": [
    "print('Z test:', proportions_ztest(11, 12, value = 0.1, alternative='larger'))"
   ]
  },
  {
   "cell_type": "markdown",
   "metadata": {},
   "source": [
    "The function outputs the value of Z statistic and the corersponding p-value."
   ]
  },
  {
   "cell_type": "markdown",
   "metadata": {},
   "source": [
    "## Two samples, independent"
   ]
  },
  {
   "cell_type": "markdown",
   "metadata": {},
   "source": [
    "The same experiment was run with the pictures of palms. 7 of 12 subjects selected a picture of their own palm. "
   ]
  },
  {
   "cell_type": "markdown",
   "metadata": {},
   "source": [
    "### Confidence interval\n",
    "\n",
    "Confidence interval for the difference in proportions of people knowing back of their hands and palms:"
   ]
  },
  {
   "cell_type": "code",
   "execution_count": 5,
   "metadata": {
    "scrolled": true
   },
   "outputs": [
    {
     "name": "stdout",
     "output_type": "stream",
     "text": [
      "Wald's interval: (0.013550506137431695, 0.6531161605292348)\n"
     ]
    }
   ],
   "source": [
    "print(\"Wald's interval:\", confint_proportions_2indep(11, 12, 7, 12, method = 'wald', compare='diff'))"
   ]
  },
  {
   "cell_type": "markdown",
   "metadata": {},
   "source": [
    "In theory, the same function implements Wilson's interval too. In practice, at the moment (statsmodels version 0.12.0) this function does not work:"
   ]
  },
  {
   "cell_type": "code",
   "execution_count": 6,
   "metadata": {},
   "outputs": [
    {
     "ename": "ValueError",
     "evalue": "f(a) and f(b) must have different signs",
     "output_type": "error",
     "traceback": [
      "\u001b[0;31m---------------------------------------------------------------------------\u001b[0m",
      "\u001b[0;31mValueError\u001b[0m                                Traceback (most recent call last)",
      "\u001b[0;32m<ipython-input-6-f809fdbc86c1>\u001b[0m in \u001b[0;36m<module>\u001b[0;34m\u001b[0m\n\u001b[0;32m----> 1\u001b[0;31m \u001b[0mprint\u001b[0m\u001b[0;34m(\u001b[0m\u001b[0;34m\"Wilson's interval:\"\u001b[0m\u001b[0;34m,\u001b[0m \u001b[0mconfint_proportions_2indep\u001b[0m\u001b[0;34m(\u001b[0m\u001b[0;36m11\u001b[0m\u001b[0;34m,\u001b[0m \u001b[0;36m12\u001b[0m\u001b[0;34m,\u001b[0m \u001b[0;36m7\u001b[0m\u001b[0;34m,\u001b[0m \u001b[0;36m12\u001b[0m\u001b[0;34m,\u001b[0m \u001b[0mmethod\u001b[0m \u001b[0;34m=\u001b[0m \u001b[0;34m'score'\u001b[0m\u001b[0;34m,\u001b[0m \u001b[0mcompare\u001b[0m\u001b[0;34m=\u001b[0m\u001b[0;34m'diff'\u001b[0m\u001b[0;34m)\u001b[0m\u001b[0;34m)\u001b[0m\u001b[0;34m\u001b[0m\u001b[0;34m\u001b[0m\u001b[0m\n\u001b[0m",
      "\u001b[0;32m~/anaconda3/lib/python3.6/site-packages/statsmodels/stats/proportion.py\u001b[0m in \u001b[0;36mconfint_proportions_2indep\u001b[0;34m(count1, nobs1, count2, nobs2, method, compare, alpha, correction)\u001b[0m\n\u001b[1;32m   1158\u001b[0m             low, upp = _score_confint_inversion(count1, nobs1, count2, nobs2,\n\u001b[1;32m   1159\u001b[0m                                                 \u001b[0mcompare\u001b[0m\u001b[0;34m=\u001b[0m\u001b[0mcompare\u001b[0m\u001b[0;34m,\u001b[0m \u001b[0malpha\u001b[0m\u001b[0;34m=\u001b[0m\u001b[0malpha\u001b[0m\u001b[0;34m,\u001b[0m\u001b[0;34m\u001b[0m\u001b[0;34m\u001b[0m\u001b[0m\n\u001b[0;32m-> 1160\u001b[0;31m                                                 correction=correction)\n\u001b[0m\u001b[1;32m   1161\u001b[0m \u001b[0;34m\u001b[0m\u001b[0m\n\u001b[1;32m   1162\u001b[0m         \u001b[0;32melse\u001b[0m\u001b[0;34m:\u001b[0m\u001b[0;34m\u001b[0m\u001b[0;34m\u001b[0m\u001b[0m\n",
      "\u001b[0;32m~/anaconda3/lib/python3.6/site-packages/statsmodels/stats/proportion.py\u001b[0m in \u001b[0;36m_score_confint_inversion\u001b[0;34m(count1, nobs1, count2, nobs2, compare, alpha, correction)\u001b[0m\n\u001b[1;32m   2025\u001b[0m     \u001b[0;31m# root finding for confint bounds\u001b[0m\u001b[0;34m\u001b[0m\u001b[0;34m\u001b[0m\u001b[0;34m\u001b[0m\u001b[0m\n\u001b[1;32m   2026\u001b[0m     \u001b[0mupp\u001b[0m \u001b[0;34m=\u001b[0m \u001b[0moptimize\u001b[0m\u001b[0;34m.\u001b[0m\u001b[0mbrentq\u001b[0m\u001b[0;34m(\u001b[0m\u001b[0mfunc\u001b[0m\u001b[0;34m,\u001b[0m \u001b[0mparam\u001b[0m\u001b[0;34m,\u001b[0m \u001b[0mub\u001b[0m\u001b[0;34m)\u001b[0m\u001b[0;34m\u001b[0m\u001b[0;34m\u001b[0m\u001b[0m\n\u001b[0;32m-> 2027\u001b[0;31m     \u001b[0mlow\u001b[0m \u001b[0;34m=\u001b[0m \u001b[0moptimize\u001b[0m\u001b[0;34m.\u001b[0m\u001b[0mbrentq\u001b[0m\u001b[0;34m(\u001b[0m\u001b[0mfunc\u001b[0m\u001b[0;34m,\u001b[0m \u001b[0mlb\u001b[0m\u001b[0;34m,\u001b[0m \u001b[0mparam\u001b[0m\u001b[0;34m)\u001b[0m\u001b[0;34m\u001b[0m\u001b[0;34m\u001b[0m\u001b[0m\n\u001b[0m\u001b[1;32m   2028\u001b[0m     \u001b[0;32mreturn\u001b[0m \u001b[0mlow\u001b[0m\u001b[0;34m,\u001b[0m \u001b[0mupp\u001b[0m\u001b[0;34m\u001b[0m\u001b[0;34m\u001b[0m\u001b[0m\n\u001b[1;32m   2029\u001b[0m \u001b[0;34m\u001b[0m\u001b[0m\n",
      "\u001b[0;32m~/anaconda3/lib/python3.6/site-packages/scipy/optimize/zeros.py\u001b[0m in \u001b[0;36mbrentq\u001b[0;34m(f, a, b, args, xtol, rtol, maxiter, full_output, disp)\u001b[0m\n\u001b[1;32m    774\u001b[0m     \u001b[0;32mif\u001b[0m \u001b[0mrtol\u001b[0m \u001b[0;34m<\u001b[0m \u001b[0m_rtol\u001b[0m\u001b[0;34m:\u001b[0m\u001b[0;34m\u001b[0m\u001b[0;34m\u001b[0m\u001b[0m\n\u001b[1;32m    775\u001b[0m         \u001b[0;32mraise\u001b[0m \u001b[0mValueError\u001b[0m\u001b[0;34m(\u001b[0m\u001b[0;34m\"rtol too small (%g < %g)\"\u001b[0m \u001b[0;34m%\u001b[0m \u001b[0;34m(\u001b[0m\u001b[0mrtol\u001b[0m\u001b[0;34m,\u001b[0m \u001b[0m_rtol\u001b[0m\u001b[0;34m)\u001b[0m\u001b[0;34m)\u001b[0m\u001b[0;34m\u001b[0m\u001b[0;34m\u001b[0m\u001b[0m\n\u001b[0;32m--> 776\u001b[0;31m     \u001b[0mr\u001b[0m \u001b[0;34m=\u001b[0m \u001b[0m_zeros\u001b[0m\u001b[0;34m.\u001b[0m\u001b[0m_brentq\u001b[0m\u001b[0;34m(\u001b[0m\u001b[0mf\u001b[0m\u001b[0;34m,\u001b[0m \u001b[0ma\u001b[0m\u001b[0;34m,\u001b[0m \u001b[0mb\u001b[0m\u001b[0;34m,\u001b[0m \u001b[0mxtol\u001b[0m\u001b[0;34m,\u001b[0m \u001b[0mrtol\u001b[0m\u001b[0;34m,\u001b[0m \u001b[0mmaxiter\u001b[0m\u001b[0;34m,\u001b[0m \u001b[0margs\u001b[0m\u001b[0;34m,\u001b[0m \u001b[0mfull_output\u001b[0m\u001b[0;34m,\u001b[0m \u001b[0mdisp\u001b[0m\u001b[0;34m)\u001b[0m\u001b[0;34m\u001b[0m\u001b[0;34m\u001b[0m\u001b[0m\n\u001b[0m\u001b[1;32m    777\u001b[0m     \u001b[0;32mreturn\u001b[0m \u001b[0mresults_c\u001b[0m\u001b[0;34m(\u001b[0m\u001b[0mfull_output\u001b[0m\u001b[0;34m,\u001b[0m \u001b[0mr\u001b[0m\u001b[0;34m)\u001b[0m\u001b[0;34m\u001b[0m\u001b[0;34m\u001b[0m\u001b[0m\n\u001b[1;32m    778\u001b[0m \u001b[0;34m\u001b[0m\u001b[0m\n",
      "\u001b[0;31mValueError\u001b[0m: f(a) and f(b) must have different signs"
     ]
    }
   ],
   "source": [
    "print(\"Wilson's interval:\", confint_proportions_2indep(11, 12, 7, 12, method = 'score', compare='diff'))"
   ]
  },
  {
   "cell_type": "markdown",
   "metadata": {},
   "source": [
    "Oh well! Did I mention that anything statistics related works much better in R?"
   ]
  },
  {
   "cell_type": "markdown",
   "metadata": {},
   "source": [
    "### Test\n",
    "\n",
    "$𝐻_0$ : the same proportion of people are able to select a picture of their palms and backs of their hands( $p_1=p_2$ ).\n",
    "\n",
    "$𝐻_1$ : people are more likely to identify a picture of the back of their hand than of the palm  ( $p_1>p_2$ )."
   ]
  },
  {
   "cell_type": "code",
   "execution_count": 7,
   "metadata": {},
   "outputs": [
    {
     "name": "stdout",
     "output_type": "stream",
     "text": [
      "Z test: (2.0430156738209964, 0.020525443280229438)\n"
     ]
    }
   ],
   "source": [
    "print(\"Z test:\", test_proportions_2indep(11, 12, 7, 12, alternative = 'larger',\n",
    "                                          method = 'wald',  return_results=False))"
   ]
  },
  {
   "cell_type": "code",
   "execution_count": 8,
   "metadata": {},
   "outputs": [
    {
     "name": "stdout",
     "output_type": "stream",
     "text": [
      "Wilson's interval based test: (1.845916413981794, 0.0324521714914821)\n"
     ]
    }
   ],
   "source": [
    "print(\"Wilson's interval based test:\", \n",
    "      test_proportions_2indep(11, 12, 7, 12, alternative = 'larger', \n",
    "                              method = 'score', correction=False, return_results=False))"
   ]
  },
  {
   "cell_type": "markdown",
   "metadata": {},
   "source": [
    "## Two samples, paired"
   ]
  },
  {
   "cell_type": "markdown",
   "metadata": {},
   "source": [
    "We could use confidence interval for paired samples, but the problem is that we don't know the pairings (i.e., how many people correctly guessed the palm, but not back, and vice versa. \n",
    "\n",
    "Given our samples though, there aren't that many options!  \n",
    "\n",
    "Option one:\n",
    "\n",
    "| Back \\ Palm | Right | Wrong | Total |\n",
    "|-------------|-------|-------|-------|\n",
    "| Right       | 6     | 5     | 11    |\n",
    "| Wrong       | 1     | 0     | 1     |\n",
    "| Total       | 7     | 5     | 12    | \n",
    "\n",
    "Option two:\n",
    "\n",
    "| Back \\ Palm | Right | Wrong | Total |\n",
    "|-------------|-------|-------|-------|\n",
    "| Right       | 7     | 6     | 11    |\n",
    "| Wrong       | 0     | 1     | 1     |\n",
    "| Total       | 7     | 5     | 12    | \n",
    "\n",
    "There are no other tables that have the same marginal totals."
   ]
  },
  {
   "cell_type": "markdown",
   "metadata": {},
   "source": [
    "### Confidence interval\n",
    "\n",
    "Let's build confidence intervals for differences in proportions for both!"
   ]
  },
  {
   "cell_type": "code",
   "execution_count": 10,
   "metadata": {},
   "outputs": [
    {
     "name": "stdout",
     "output_type": "stream",
     "text": [
      "Wald's interval for option 1: (-0.019500510056176756, 0.6861671767228434)\n",
      "Wald's interval for option 2: (0.21710356648095708, 0.7828964335190429)\n"
     ]
    }
   ],
   "source": [
    "def confint_proportions_2paired_wald(b, c, n, alpha = 0.05):\n",
    "    z = sc.stats.norm.ppf(1 - alpha / 2.)\n",
    " \n",
    "    CI_l = float(b - c) / n  - z * np.sqrt(float((b + c)) / n**2 - float((b - c)**2) / n**3)\n",
    "    CI_u = float(b - c) / n  + z * np.sqrt(float((b + c)) / n**2 - float((b - c)**2) / n**3)\n",
    "    return (CI_l, CI_u)\n",
    "\n",
    "print(\"Wald's interval for option 1:\", confint_proportions_2paired_wald(5, 1, 12))\n",
    "print(\"Wald's interval for option 2:\", confint_proportions_2paired_wald(6, 0, 12))"
   ]
  },
  {
   "cell_type": "markdown",
   "metadata": {},
   "source": [
    "### Tests\n",
    "We'll test the same hypothesis now, but using a test for paired samples!\n",
    "\n",
    "$𝐻_0$ : the same proportion of people are able to select a picture of their palms and backs of their hands( $p_1=p_2$ ).\n",
    "\n",
    "$𝐻_1$ : people are more likely to identify a picture of the back of their hand than of the palm  ( $p_1>p_2$ )."
   ]
  },
  {
   "cell_type": "code",
   "execution_count": 9,
   "metadata": {},
   "outputs": [
    {
     "name": "stdout",
     "output_type": "stream",
     "text": [
      "Z test for option 1: (1.8516401995451028, 0.03203875322552974)\n",
      "Z test for option 2: (3.464101615137755, 0.00026600275256960515)\n"
     ]
    }
   ],
   "source": [
    "def test_proportions_2paired_wald(b, c, n, alternative = 'two-sided'):  \n",
    "    if alternative not in ('two-sided', 'smaller', 'larger'):\n",
    "        raise ValueError(\"alternative not recognized\\n\"\n",
    "                         \"should be 'two-sided', 'smaller' or 'larger'\")\n",
    "        \n",
    "    z = float(b - c) / np.sqrt(b + c - float((b - c)**2) / n )\n",
    "    \n",
    "    if alternative == 'two-sided':\n",
    "        p = 2 * (1 - sc.stats.norm.cdf(np.abs(z)))\n",
    "    \n",
    "    if alternative == 'smaller':\n",
    "        p = sc.stats.norm.cdf(z)\n",
    "\n",
    "    if alternative == 'larger':\n",
    "        p = 1 - sc.stats.norm.cdf(z)\n",
    "    \n",
    "    return(z,p)\n",
    "    \n",
    "print(\"Z test for option 1:\", test_proportions_2paired_wald(5, 1, 12, alternative = 'larger'))\n",
    "print(\"Z test for option 2:\", test_proportions_2paired_wald(6, 0, 12, alternative = 'larger'))"
   ]
  },
  {
   "cell_type": "code",
   "execution_count": null,
   "metadata": {},
   "outputs": [],
   "source": []
  }
 ],
 "metadata": {
  "anaconda-cloud": {},
  "kernelspec": {
   "display_name": "Python 3",
   "language": "python",
   "name": "python3"
  },
  "language_info": {
   "codemirror_mode": {
    "name": "ipython",
    "version": 3
   },
   "file_extension": ".py",
   "mimetype": "text/x-python",
   "name": "python",
   "nbconvert_exporter": "python",
   "pygments_lexer": "ipython3",
   "version": "3.6.10"
  }
 },
 "nbformat": 4,
 "nbformat_minor": 1
}
