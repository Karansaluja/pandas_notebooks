{
 "cells": [
  {
   "cell_type": "code",
   "execution_count": 1,
   "metadata": {},
   "outputs": [],
   "source": [
    "import numpy as np\n",
    "import pandas as pd\n",
    "import matplotlib.pyplot as plt\n",
    "\n",
    "from sklearn.model_selection import GridSearchCV, train_test_split, cross_val_score\n",
    "from sklearn.preprocessing import StandardScaler\n",
    "from sklearn.preprocessing import OneHotEncoder, OrdinalEncoder\n",
    "from sklearn.compose import ColumnTransformer\n",
    "from sklearn.pipeline import Pipeline, make_pipeline"
   ]
  },
  {
   "cell_type": "markdown",
   "metadata": {},
   "source": [
    "This is a template for your final project. "
   ]
  },
  {
   "cell_type": "code",
   "execution_count": 2,
   "metadata": {
    "scrolled": false
   },
   "outputs": [
    {
     "data": {
      "text/html": [
       "<div>\n",
       "<style scoped>\n",
       "    .dataframe tbody tr th:only-of-type {\n",
       "        vertical-align: middle;\n",
       "    }\n",
       "\n",
       "    .dataframe tbody tr th {\n",
       "        vertical-align: top;\n",
       "    }\n",
       "\n",
       "    .dataframe thead th {\n",
       "        text-align: right;\n",
       "    }\n",
       "</style>\n",
       "<table border=\"1\" class=\"dataframe\">\n",
       "  <thead>\n",
       "    <tr style=\"text-align: right;\">\n",
       "      <th></th>\n",
       "      <th>imdb_title_id</th>\n",
       "      <th>title</th>\n",
       "      <th>original_title</th>\n",
       "      <th>year</th>\n",
       "      <th>date_published</th>\n",
       "      <th>genre</th>\n",
       "      <th>duration</th>\n",
       "      <th>country</th>\n",
       "      <th>language</th>\n",
       "      <th>director</th>\n",
       "      <th>...</th>\n",
       "      <th>actors</th>\n",
       "      <th>description</th>\n",
       "      <th>avg_vote</th>\n",
       "      <th>votes</th>\n",
       "      <th>budget</th>\n",
       "      <th>usa_gross_income</th>\n",
       "      <th>worlwide_gross_income</th>\n",
       "      <th>metascore</th>\n",
       "      <th>reviews_from_users</th>\n",
       "      <th>reviews_from_critics</th>\n",
       "    </tr>\n",
       "  </thead>\n",
       "  <tbody>\n",
       "    <tr>\n",
       "      <th>0</th>\n",
       "      <td>tt0000574</td>\n",
       "      <td>The Story of the Kelly Gang</td>\n",
       "      <td>The Story of the Kelly Gang</td>\n",
       "      <td>1906</td>\n",
       "      <td>1906-12-26</td>\n",
       "      <td>Biography, Crime, Drama</td>\n",
       "      <td>70</td>\n",
       "      <td>Australia</td>\n",
       "      <td>NaN</td>\n",
       "      <td>Charles Tait</td>\n",
       "      <td>...</td>\n",
       "      <td>Elizabeth Tait, John Tait, Norman Campbell, Be...</td>\n",
       "      <td>True story of notorious Australian outlaw Ned ...</td>\n",
       "      <td>6.1</td>\n",
       "      <td>537</td>\n",
       "      <td>$ 2250</td>\n",
       "      <td>NaN</td>\n",
       "      <td>NaN</td>\n",
       "      <td>NaN</td>\n",
       "      <td>7.0</td>\n",
       "      <td>7.0</td>\n",
       "    </tr>\n",
       "    <tr>\n",
       "      <th>1</th>\n",
       "      <td>tt0001892</td>\n",
       "      <td>Den sorte drøm</td>\n",
       "      <td>Den sorte drøm</td>\n",
       "      <td>1911</td>\n",
       "      <td>1911-08-19</td>\n",
       "      <td>Drama</td>\n",
       "      <td>53</td>\n",
       "      <td>Germany, Denmark</td>\n",
       "      <td>NaN</td>\n",
       "      <td>Urban Gad</td>\n",
       "      <td>...</td>\n",
       "      <td>Asta Nielsen, Valdemar Psilander, Gunnar Helse...</td>\n",
       "      <td>Two men of high rank are both wooing the beaut...</td>\n",
       "      <td>5.9</td>\n",
       "      <td>171</td>\n",
       "      <td>NaN</td>\n",
       "      <td>NaN</td>\n",
       "      <td>NaN</td>\n",
       "      <td>NaN</td>\n",
       "      <td>4.0</td>\n",
       "      <td>2.0</td>\n",
       "    </tr>\n",
       "    <tr>\n",
       "      <th>2</th>\n",
       "      <td>tt0002101</td>\n",
       "      <td>Cleopatra</td>\n",
       "      <td>Cleopatra</td>\n",
       "      <td>1912</td>\n",
       "      <td>1912-11-13</td>\n",
       "      <td>Drama, History</td>\n",
       "      <td>100</td>\n",
       "      <td>USA</td>\n",
       "      <td>English</td>\n",
       "      <td>Charles L. Gaskill</td>\n",
       "      <td>...</td>\n",
       "      <td>Helen Gardner, Pearl Sindelar, Miss Fielding, ...</td>\n",
       "      <td>The fabled queen of Egypt's affair with Roman ...</td>\n",
       "      <td>5.2</td>\n",
       "      <td>420</td>\n",
       "      <td>$ 45000</td>\n",
       "      <td>NaN</td>\n",
       "      <td>NaN</td>\n",
       "      <td>NaN</td>\n",
       "      <td>24.0</td>\n",
       "      <td>3.0</td>\n",
       "    </tr>\n",
       "  </tbody>\n",
       "</table>\n",
       "<p>3 rows × 22 columns</p>\n",
       "</div>"
      ],
      "text/plain": [
       "  imdb_title_id                        title               original_title  \\\n",
       "0     tt0000574  The Story of the Kelly Gang  The Story of the Kelly Gang   \n",
       "1     tt0001892               Den sorte drøm               Den sorte drøm   \n",
       "2     tt0002101                    Cleopatra                    Cleopatra   \n",
       "\n",
       "   year date_published                    genre  duration           country  \\\n",
       "0  1906     1906-12-26  Biography, Crime, Drama        70         Australia   \n",
       "1  1911     1911-08-19                    Drama        53  Germany, Denmark   \n",
       "2  1912     1912-11-13           Drama, History       100               USA   \n",
       "\n",
       "  language            director  ...  \\\n",
       "0      NaN        Charles Tait  ...   \n",
       "1      NaN           Urban Gad  ...   \n",
       "2  English  Charles L. Gaskill  ...   \n",
       "\n",
       "                                              actors  \\\n",
       "0  Elizabeth Tait, John Tait, Norman Campbell, Be...   \n",
       "1  Asta Nielsen, Valdemar Psilander, Gunnar Helse...   \n",
       "2  Helen Gardner, Pearl Sindelar, Miss Fielding, ...   \n",
       "\n",
       "                                         description avg_vote votes   budget  \\\n",
       "0  True story of notorious Australian outlaw Ned ...      6.1   537   $ 2250   \n",
       "1  Two men of high rank are both wooing the beaut...      5.9   171      NaN   \n",
       "2  The fabled queen of Egypt's affair with Roman ...      5.2   420  $ 45000   \n",
       "\n",
       "   usa_gross_income worlwide_gross_income metascore reviews_from_users  \\\n",
       "0               NaN                   NaN       NaN                7.0   \n",
       "1               NaN                   NaN       NaN                4.0   \n",
       "2               NaN                   NaN       NaN               24.0   \n",
       "\n",
       "   reviews_from_critics  \n",
       "0                   7.0  \n",
       "1                   2.0  \n",
       "2                   3.0  \n",
       "\n",
       "[3 rows x 22 columns]"
      ]
     },
     "execution_count": 2,
     "metadata": {},
     "output_type": "execute_result"
    }
   ],
   "source": [
    "full_dataset = pd.read_csv('IMDb movies.csv')\n",
    "full_dataset.head(3)"
   ]
  },
  {
   "cell_type": "code",
   "execution_count": 3,
   "metadata": {},
   "outputs": [
    {
     "data": {
      "text/plain": [
       "(60198, 22)"
      ]
     },
     "execution_count": 3,
     "metadata": {},
     "output_type": "execute_result"
    }
   ],
   "source": [
    "full_dataset.shape"
   ]
  },
  {
   "cell_type": "markdown",
   "metadata": {},
   "source": [
    "### Part 1.\n",
    "\n",
    "Task formalization and Evaluation criteria\n",
    "\n",
    "1.1 Select your target variable, explain your choice. Separate target variable from the feature matrix."
   ]
  },
  {
   "cell_type": "markdown",
   "metadata": {},
   "source": [
    "In order to measure the success of a movie, things that come to mind are the monetary value or the movie rating. Candidates for target values are worldwide_gross_income, avg_vote. We begin explore the distribution of the candidates of the target variable. "
   ]
  },
  {
   "cell_type": "markdown",
   "metadata": {},
   "source": [
    "# Explore Worldwide_gross_income"
   ]
  },
  {
   "cell_type": "code",
   "execution_count": 4,
   "metadata": {
    "scrolled": true
   },
   "outputs": [
    {
     "data": {
      "text/plain": [
       "41062"
      ]
     },
     "execution_count": 4,
     "metadata": {},
     "output_type": "execute_result"
    }
   ],
   "source": [
    "full_dataset['worlwide_gross_income'].isnull().sum()"
   ]
  },
  {
   "cell_type": "code",
   "execution_count": 5,
   "metadata": {},
   "outputs": [
    {
     "data": {
      "text/plain": [
       "0.6821156849064753"
      ]
     },
     "execution_count": 5,
     "metadata": {},
     "output_type": "execute_result"
    }
   ],
   "source": [
    "41062/60198"
   ]
  },
  {
   "cell_type": "markdown",
   "metadata": {},
   "source": [
    "Approximately 68% of the variable is missing, so we cannot use this variable as the target variable."
   ]
  },
  {
   "cell_type": "markdown",
   "metadata": {},
   "source": [
    "# Explore Avg_vote"
   ]
  },
  {
   "cell_type": "code",
   "execution_count": 6,
   "metadata": {},
   "outputs": [
    {
     "data": {
      "text/plain": [
       "0"
      ]
     },
     "execution_count": 6,
     "metadata": {},
     "output_type": "execute_result"
    }
   ],
   "source": [
    "full_dataset['avg_vote'].isnull().sum()"
   ]
  },
  {
   "cell_type": "code",
   "execution_count": 7,
   "metadata": {
    "scrolled": true
   },
   "outputs": [
    {
     "data": {
      "text/plain": [
       "6.4     2460\n",
       "6.7     2434\n",
       "6.5     2426\n",
       "6.6     2421\n",
       "6.8     2397\n",
       "        ... \n",
       "9.5        2\n",
       "9.3        1\n",
       "10.0       1\n",
       "9.7        1\n",
       "9.6        1\n",
       "Name: avg_vote, Length: 89, dtype: int64"
      ]
     },
     "execution_count": 7,
     "metadata": {},
     "output_type": "execute_result"
    }
   ],
   "source": [
    "full_dataset['avg_vote'].value_counts()"
   ]
  },
  {
   "cell_type": "code",
   "execution_count": 8,
   "metadata": {},
   "outputs": [
    {
     "data": {
      "image/png": "[encoded data removed]",
      "text/plain": [
       "<Figure size 432x288 with 1 Axes>"
      ]
     },
     "metadata": {
      "needs_background": "light"
     },
     "output_type": "display_data"
    }
   ],
   "source": [
    "full_dataset['avg_vote'].plot(kind = 'box');"
   ]
  },
  {
   "cell_type": "code",
   "execution_count": 9,
   "metadata": {},
   "outputs": [
    {
     "data": {
      "text/plain": [
       "5.997348749127767"
      ]
     },
     "execution_count": 9,
     "metadata": {},
     "output_type": "execute_result"
    }
   ],
   "source": [
    "full_dataset['avg_vote'].mean()"
   ]
  },
  {
   "cell_type": "markdown",
   "metadata": {},
   "source": [
    "We can make $6$ as the breaking point where any avg_vote above $6$ is successful, anything below that is not sccucessful."
   ]
  },
  {
   "cell_type": "code",
   "execution_count": 10,
   "metadata": {},
   "outputs": [
    {
     "data": {
      "text/html": [
       "<div>\n",
       "<style scoped>\n",
       "    .dataframe tbody tr th:only-of-type {\n",
       "        vertical-align: middle;\n",
       "    }\n",
       "\n",
       "    .dataframe tbody tr th {\n",
       "        vertical-align: top;\n",
       "    }\n",
       "\n",
       "    .dataframe thead th {\n",
       "        text-align: right;\n",
       "    }\n",
       "</style>\n",
       "<table border=\"1\" class=\"dataframe\">\n",
       "  <thead>\n",
       "    <tr style=\"text-align: right;\">\n",
       "      <th></th>\n",
       "      <th>imdb_title_id</th>\n",
       "      <th>title</th>\n",
       "      <th>original_title</th>\n",
       "      <th>year</th>\n",
       "      <th>date_published</th>\n",
       "      <th>genre</th>\n",
       "      <th>duration</th>\n",
       "      <th>country</th>\n",
       "      <th>language</th>\n",
       "      <th>director</th>\n",
       "      <th>...</th>\n",
       "      <th>description</th>\n",
       "      <th>avg_vote</th>\n",
       "      <th>votes</th>\n",
       "      <th>budget</th>\n",
       "      <th>usa_gross_income</th>\n",
       "      <th>worlwide_gross_income</th>\n",
       "      <th>metascore</th>\n",
       "      <th>reviews_from_users</th>\n",
       "      <th>reviews_from_critics</th>\n",
       "      <th>success</th>\n",
       "    </tr>\n",
       "  </thead>\n",
       "  <tbody>\n",
       "    <tr>\n",
       "      <th>0</th>\n",
       "      <td>tt0000574</td>\n",
       "      <td>The Story of the Kelly Gang</td>\n",
       "      <td>The Story of the Kelly Gang</td>\n",
       "      <td>1906</td>\n",
       "      <td>1906-12-26</td>\n",
       "      <td>Biography, Crime, Drama</td>\n",
       "      <td>70</td>\n",
       "      <td>Australia</td>\n",
       "      <td>NaN</td>\n",
       "      <td>Charles Tait</td>\n",
       "      <td>...</td>\n",
       "      <td>True story of notorious Australian outlaw Ned ...</td>\n",
       "      <td>6.1</td>\n",
       "      <td>537</td>\n",
       "      <td>$ 2250</td>\n",
       "      <td>NaN</td>\n",
       "      <td>NaN</td>\n",
       "      <td>NaN</td>\n",
       "      <td>7.0</td>\n",
       "      <td>7.0</td>\n",
       "      <td>1</td>\n",
       "    </tr>\n",
       "    <tr>\n",
       "      <th>1</th>\n",
       "      <td>tt0001892</td>\n",
       "      <td>Den sorte drøm</td>\n",
       "      <td>Den sorte drøm</td>\n",
       "      <td>1911</td>\n",
       "      <td>1911-08-19</td>\n",
       "      <td>Drama</td>\n",
       "      <td>53</td>\n",
       "      <td>Germany, Denmark</td>\n",
       "      <td>NaN</td>\n",
       "      <td>Urban Gad</td>\n",
       "      <td>...</td>\n",
       "      <td>Two men of high rank are both wooing the beaut...</td>\n",
       "      <td>5.9</td>\n",
       "      <td>171</td>\n",
       "      <td>NaN</td>\n",
       "      <td>NaN</td>\n",
       "      <td>NaN</td>\n",
       "      <td>NaN</td>\n",
       "      <td>4.0</td>\n",
       "      <td>2.0</td>\n",
       "      <td>0</td>\n",
       "    </tr>\n",
       "    <tr>\n",
       "      <th>2</th>\n",
       "      <td>tt0002101</td>\n",
       "      <td>Cleopatra</td>\n",
       "      <td>Cleopatra</td>\n",
       "      <td>1912</td>\n",
       "      <td>1912-11-13</td>\n",
       "      <td>Drama, History</td>\n",
       "      <td>100</td>\n",
       "      <td>USA</td>\n",
       "      <td>English</td>\n",
       "      <td>Charles L. Gaskill</td>\n",
       "      <td>...</td>\n",
       "      <td>The fabled queen of Egypt's affair with Roman ...</td>\n",
       "      <td>5.2</td>\n",
       "      <td>420</td>\n",
       "      <td>$ 45000</td>\n",
       "      <td>NaN</td>\n",
       "      <td>NaN</td>\n",
       "      <td>NaN</td>\n",
       "      <td>24.0</td>\n",
       "      <td>3.0</td>\n",
       "      <td>0</td>\n",
       "    </tr>\n",
       "    <tr>\n",
       "      <th>3</th>\n",
       "      <td>tt0002130</td>\n",
       "      <td>L'Inferno</td>\n",
       "      <td>L'Inferno</td>\n",
       "      <td>1911</td>\n",
       "      <td>1911-03-06</td>\n",
       "      <td>Adventure, Drama, Fantasy</td>\n",
       "      <td>68</td>\n",
       "      <td>Italy</td>\n",
       "      <td>Italian</td>\n",
       "      <td>Francesco Bertolini, Adolfo Padovan</td>\n",
       "      <td>...</td>\n",
       "      <td>Loosely adapted from Dante's Divine Comedy and...</td>\n",
       "      <td>7.0</td>\n",
       "      <td>2019</td>\n",
       "      <td>NaN</td>\n",
       "      <td>NaN</td>\n",
       "      <td>NaN</td>\n",
       "      <td>NaN</td>\n",
       "      <td>28.0</td>\n",
       "      <td>14.0</td>\n",
       "      <td>1</td>\n",
       "    </tr>\n",
       "    <tr>\n",
       "      <th>4</th>\n",
       "      <td>tt0002199</td>\n",
       "      <td>From the Manger to the Cross; or, Jesus of Naz...</td>\n",
       "      <td>From the Manger to the Cross; or, Jesus of Naz...</td>\n",
       "      <td>1912</td>\n",
       "      <td>1913</td>\n",
       "      <td>Biography, Drama</td>\n",
       "      <td>60</td>\n",
       "      <td>USA</td>\n",
       "      <td>English</td>\n",
       "      <td>Sidney Olcott</td>\n",
       "      <td>...</td>\n",
       "      <td>An account of the life of Jesus Christ, based ...</td>\n",
       "      <td>5.7</td>\n",
       "      <td>438</td>\n",
       "      <td>NaN</td>\n",
       "      <td>NaN</td>\n",
       "      <td>NaN</td>\n",
       "      <td>NaN</td>\n",
       "      <td>12.0</td>\n",
       "      <td>5.0</td>\n",
       "      <td>0</td>\n",
       "    </tr>\n",
       "  </tbody>\n",
       "</table>\n",
       "<p>5 rows × 23 columns</p>\n",
       "</div>"
      ],
      "text/plain": [
       "  imdb_title_id                                              title  \\\n",
       "0     tt0000574                        The Story of the Kelly Gang   \n",
       "1     tt0001892                                     Den sorte drøm   \n",
       "2     tt0002101                                          Cleopatra   \n",
       "3     tt0002130                                          L'Inferno   \n",
       "4     tt0002199  From the Manger to the Cross; or, Jesus of Naz...   \n",
       "\n",
       "                                      original_title  year date_published  \\\n",
       "0                        The Story of the Kelly Gang  1906     1906-12-26   \n",
       "1                                     Den sorte drøm  1911     1911-08-19   \n",
       "2                                          Cleopatra  1912     1912-11-13   \n",
       "3                                          L'Inferno  1911     1911-03-06   \n",
       "4  From the Manger to the Cross; or, Jesus of Naz...  1912           1913   \n",
       "\n",
       "                       genre  duration           country language  \\\n",
       "0    Biography, Crime, Drama        70         Australia      NaN   \n",
       "1                      Drama        53  Germany, Denmark      NaN   \n",
       "2             Drama, History       100               USA  English   \n",
       "3  Adventure, Drama, Fantasy        68             Italy  Italian   \n",
       "4           Biography, Drama        60               USA  English   \n",
       "\n",
       "                              director  ...  \\\n",
       "0                         Charles Tait  ...   \n",
       "1                            Urban Gad  ...   \n",
       "2                   Charles L. Gaskill  ...   \n",
       "3  Francesco Bertolini, Adolfo Padovan  ...   \n",
       "4                        Sidney Olcott  ...   \n",
       "\n",
       "                                         description avg_vote votes   budget  \\\n",
       "0  True story of notorious Australian outlaw Ned ...      6.1   537   $ 2250   \n",
       "1  Two men of high rank are both wooing the beaut...      5.9   171      NaN   \n",
       "2  The fabled queen of Egypt's affair with Roman ...      5.2   420  $ 45000   \n",
       "3  Loosely adapted from Dante's Divine Comedy and...      7.0  2019      NaN   \n",
       "4  An account of the life of Jesus Christ, based ...      5.7   438      NaN   \n",
       "\n",
       "   usa_gross_income  worlwide_gross_income metascore reviews_from_users  \\\n",
       "0               NaN                    NaN       NaN                7.0   \n",
       "1               NaN                    NaN       NaN                4.0   \n",
       "2               NaN                    NaN       NaN               24.0   \n",
       "3               NaN                    NaN       NaN               28.0   \n",
       "4               NaN                    NaN       NaN               12.0   \n",
       "\n",
       "  reviews_from_critics  success  \n",
       "0                  7.0        1  \n",
       "1                  2.0        0  \n",
       "2                  3.0        0  \n",
       "3                 14.0        1  \n",
       "4                  5.0        0  \n",
       "\n",
       "[5 rows x 23 columns]"
      ]
     },
     "execution_count": 10,
     "metadata": {},
     "output_type": "execute_result"
    }
   ],
   "source": [
    "full_dataset['success'] = np.where(full_dataset['avg_vote'] >= 6, 1, 0)\n",
    "full_dataset.head()"
   ]
  },
  {
   "cell_type": "code",
   "execution_count": 11,
   "metadata": {},
   "outputs": [
    {
     "data": {
      "text/html": [
       "<div>\n",
       "<style scoped>\n",
       "    .dataframe tbody tr th:only-of-type {\n",
       "        vertical-align: middle;\n",
       "    }\n",
       "\n",
       "    .dataframe tbody tr th {\n",
       "        vertical-align: top;\n",
       "    }\n",
       "\n",
       "    .dataframe thead th {\n",
       "        text-align: right;\n",
       "    }\n",
       "</style>\n",
       "<table border=\"1\" class=\"dataframe\">\n",
       "  <thead>\n",
       "    <tr style=\"text-align: right;\">\n",
       "      <th></th>\n",
       "      <th>imdb_title_id</th>\n",
       "      <th>title</th>\n",
       "      <th>original_title</th>\n",
       "      <th>year</th>\n",
       "      <th>date_published</th>\n",
       "      <th>genre</th>\n",
       "      <th>duration</th>\n",
       "      <th>country</th>\n",
       "      <th>language</th>\n",
       "      <th>director</th>\n",
       "      <th>...</th>\n",
       "      <th>actors</th>\n",
       "      <th>description</th>\n",
       "      <th>votes</th>\n",
       "      <th>budget</th>\n",
       "      <th>usa_gross_income</th>\n",
       "      <th>worlwide_gross_income</th>\n",
       "      <th>metascore</th>\n",
       "      <th>reviews_from_users</th>\n",
       "      <th>reviews_from_critics</th>\n",
       "      <th>success</th>\n",
       "    </tr>\n",
       "  </thead>\n",
       "  <tbody>\n",
       "    <tr>\n",
       "      <th>0</th>\n",
       "      <td>tt0000574</td>\n",
       "      <td>The Story of the Kelly Gang</td>\n",
       "      <td>The Story of the Kelly Gang</td>\n",
       "      <td>1906</td>\n",
       "      <td>1906-12-26</td>\n",
       "      <td>Biography, Crime, Drama</td>\n",
       "      <td>70</td>\n",
       "      <td>Australia</td>\n",
       "      <td>NaN</td>\n",
       "      <td>Charles Tait</td>\n",
       "      <td>...</td>\n",
       "      <td>Elizabeth Tait, John Tait, Norman Campbell, Be...</td>\n",
       "      <td>True story of notorious Australian outlaw Ned ...</td>\n",
       "      <td>537</td>\n",
       "      <td>$ 2250</td>\n",
       "      <td>NaN</td>\n",
       "      <td>NaN</td>\n",
       "      <td>NaN</td>\n",
       "      <td>7.0</td>\n",
       "      <td>7.0</td>\n",
       "      <td>1</td>\n",
       "    </tr>\n",
       "    <tr>\n",
       "      <th>1</th>\n",
       "      <td>tt0001892</td>\n",
       "      <td>Den sorte drøm</td>\n",
       "      <td>Den sorte drøm</td>\n",
       "      <td>1911</td>\n",
       "      <td>1911-08-19</td>\n",
       "      <td>Drama</td>\n",
       "      <td>53</td>\n",
       "      <td>Germany, Denmark</td>\n",
       "      <td>NaN</td>\n",
       "      <td>Urban Gad</td>\n",
       "      <td>...</td>\n",
       "      <td>Asta Nielsen, Valdemar Psilander, Gunnar Helse...</td>\n",
       "      <td>Two men of high rank are both wooing the beaut...</td>\n",
       "      <td>171</td>\n",
       "      <td>NaN</td>\n",
       "      <td>NaN</td>\n",
       "      <td>NaN</td>\n",
       "      <td>NaN</td>\n",
       "      <td>4.0</td>\n",
       "      <td>2.0</td>\n",
       "      <td>0</td>\n",
       "    </tr>\n",
       "    <tr>\n",
       "      <th>2</th>\n",
       "      <td>tt0002101</td>\n",
       "      <td>Cleopatra</td>\n",
       "      <td>Cleopatra</td>\n",
       "      <td>1912</td>\n",
       "      <td>1912-11-13</td>\n",
       "      <td>Drama, History</td>\n",
       "      <td>100</td>\n",
       "      <td>USA</td>\n",
       "      <td>English</td>\n",
       "      <td>Charles L. Gaskill</td>\n",
       "      <td>...</td>\n",
       "      <td>Helen Gardner, Pearl Sindelar, Miss Fielding, ...</td>\n",
       "      <td>The fabled queen of Egypt's affair with Roman ...</td>\n",
       "      <td>420</td>\n",
       "      <td>$ 45000</td>\n",
       "      <td>NaN</td>\n",
       "      <td>NaN</td>\n",
       "      <td>NaN</td>\n",
       "      <td>24.0</td>\n",
       "      <td>3.0</td>\n",
       "      <td>0</td>\n",
       "    </tr>\n",
       "    <tr>\n",
       "      <th>3</th>\n",
       "      <td>tt0002130</td>\n",
       "      <td>L'Inferno</td>\n",
       "      <td>L'Inferno</td>\n",
       "      <td>1911</td>\n",
       "      <td>1911-03-06</td>\n",
       "      <td>Adventure, Drama, Fantasy</td>\n",
       "      <td>68</td>\n",
       "      <td>Italy</td>\n",
       "      <td>Italian</td>\n",
       "      <td>Francesco Bertolini, Adolfo Padovan</td>\n",
       "      <td>...</td>\n",
       "      <td>Salvatore Papa, Arturo Pirovano, Giuseppe de L...</td>\n",
       "      <td>Loosely adapted from Dante's Divine Comedy and...</td>\n",
       "      <td>2019</td>\n",
       "      <td>NaN</td>\n",
       "      <td>NaN</td>\n",
       "      <td>NaN</td>\n",
       "      <td>NaN</td>\n",
       "      <td>28.0</td>\n",
       "      <td>14.0</td>\n",
       "      <td>1</td>\n",
       "    </tr>\n",
       "    <tr>\n",
       "      <th>4</th>\n",
       "      <td>tt0002199</td>\n",
       "      <td>From the Manger to the Cross; or, Jesus of Naz...</td>\n",
       "      <td>From the Manger to the Cross; or, Jesus of Naz...</td>\n",
       "      <td>1912</td>\n",
       "      <td>1913</td>\n",
       "      <td>Biography, Drama</td>\n",
       "      <td>60</td>\n",
       "      <td>USA</td>\n",
       "      <td>English</td>\n",
       "      <td>Sidney Olcott</td>\n",
       "      <td>...</td>\n",
       "      <td>R. Henderson Bland, Percy Dyer, Gene Gauntier,...</td>\n",
       "      <td>An account of the life of Jesus Christ, based ...</td>\n",
       "      <td>438</td>\n",
       "      <td>NaN</td>\n",
       "      <td>NaN</td>\n",
       "      <td>NaN</td>\n",
       "      <td>NaN</td>\n",
       "      <td>12.0</td>\n",
       "      <td>5.0</td>\n",
       "      <td>0</td>\n",
       "    </tr>\n",
       "  </tbody>\n",
       "</table>\n",
       "<p>5 rows × 22 columns</p>\n",
       "</div>"
      ],
      "text/plain": [
       "  imdb_title_id                                              title  \\\n",
       "0     tt0000574                        The Story of the Kelly Gang   \n",
       "1     tt0001892                                     Den sorte drøm   \n",
       "2     tt0002101                                          Cleopatra   \n",
       "3     tt0002130                                          L'Inferno   \n",
       "4     tt0002199  From the Manger to the Cross; or, Jesus of Naz...   \n",
       "\n",
       "                                      original_title  year date_published  \\\n",
       "0                        The Story of the Kelly Gang  1906     1906-12-26   \n",
       "1                                     Den sorte drøm  1911     1911-08-19   \n",
       "2                                          Cleopatra  1912     1912-11-13   \n",
       "3                                          L'Inferno  1911     1911-03-06   \n",
       "4  From the Manger to the Cross; or, Jesus of Naz...  1912           1913   \n",
       "\n",
       "                       genre  duration           country language  \\\n",
       "0    Biography, Crime, Drama        70         Australia      NaN   \n",
       "1                      Drama        53  Germany, Denmark      NaN   \n",
       "2             Drama, History       100               USA  English   \n",
       "3  Adventure, Drama, Fantasy        68             Italy  Italian   \n",
       "4           Biography, Drama        60               USA  English   \n",
       "\n",
       "                              director  ...  \\\n",
       "0                         Charles Tait  ...   \n",
       "1                            Urban Gad  ...   \n",
       "2                   Charles L. Gaskill  ...   \n",
       "3  Francesco Bertolini, Adolfo Padovan  ...   \n",
       "4                        Sidney Olcott  ...   \n",
       "\n",
       "                                              actors  \\\n",
       "0  Elizabeth Tait, John Tait, Norman Campbell, Be...   \n",
       "1  Asta Nielsen, Valdemar Psilander, Gunnar Helse...   \n",
       "2  Helen Gardner, Pearl Sindelar, Miss Fielding, ...   \n",
       "3  Salvatore Papa, Arturo Pirovano, Giuseppe de L...   \n",
       "4  R. Henderson Bland, Percy Dyer, Gene Gauntier,...   \n",
       "\n",
       "                                         description votes   budget  \\\n",
       "0  True story of notorious Australian outlaw Ned ...   537   $ 2250   \n",
       "1  Two men of high rank are both wooing the beaut...   171      NaN   \n",
       "2  The fabled queen of Egypt's affair with Roman ...   420  $ 45000   \n",
       "3  Loosely adapted from Dante's Divine Comedy and...  2019      NaN   \n",
       "4  An account of the life of Jesus Christ, based ...   438      NaN   \n",
       "\n",
       "   usa_gross_income worlwide_gross_income metascore reviews_from_users  \\\n",
       "0               NaN                   NaN       NaN                7.0   \n",
       "1               NaN                   NaN       NaN                4.0   \n",
       "2               NaN                   NaN       NaN               24.0   \n",
       "3               NaN                   NaN       NaN               28.0   \n",
       "4               NaN                   NaN       NaN               12.0   \n",
       "\n",
       "   reviews_from_critics  success  \n",
       "0                   7.0        1  \n",
       "1                   2.0        0  \n",
       "2                   3.0        0  \n",
       "3                  14.0        1  \n",
       "4                   5.0        0  \n",
       "\n",
       "[5 rows x 22 columns]"
      ]
     },
     "execution_count": 11,
     "metadata": {},
     "output_type": "execute_result"
    }
   ],
   "source": [
    "#We drop avg_vote\n",
    "full_dataset.drop(columns = ['avg_vote'], inplace = True)\n",
    "full_dataset.head()"
   ]
  },
  {
   "cell_type": "markdown",
   "metadata": {},
   "source": [
    "# Explore target variable success"
   ]
  },
  {
   "cell_type": "code",
   "execution_count": 12,
   "metadata": {},
   "outputs": [
    {
     "data": {
      "image/png": "[encoded data removed]",
      "text/plain": [
       "<Figure size 432x288 with 1 Axes>"
      ]
     },
     "metadata": {
      "needs_background": "light"
     },
     "output_type": "display_data"
    }
   ],
   "source": [
    "full_dataset['success'].value_counts().plot(kind = 'bar');"
   ]
  },
  {
   "cell_type": "code",
   "execution_count": 13,
   "metadata": {},
   "outputs": [],
   "source": [
    "y = full_dataset['success']\n",
    "X = full_dataset.drop('success', axis = 1)"
   ]
  },
  {
   "cell_type": "markdown",
   "metadata": {},
   "source": [
    "1.2 Explain which task are you going to solve (is it a regression, classification or something else)? "
   ]
  },
  {
   "cell_type": "markdown",
   "metadata": {},
   "source": [
    "This is a classification problem as we want to predict whether a movie is successful. Here, we want to assign a class label to identity whether movie is successful or not."
   ]
  },
  {
   "cell_type": "markdown",
   "metadata": {},
   "source": [
    "1.3 Select a metric. Is it already implemented in sklearn? If yes, import it. If not, it is time to write a function which will calculate it. "
   ]
  },
  {
   "cell_type": "markdown",
   "metadata": {},
   "source": [
    "We choose f1 score to be the metric, as this metric combines precision and recall. It is implemented in sklearn."
   ]
  },
  {
   "cell_type": "markdown",
   "metadata": {},
   "source": [
    "### Part 2.\n",
    "\n",
    "Explore and preprocess the data\n",
    "\n",
    "2.1 Split data into train and test"
   ]
  },
  {
   "cell_type": "markdown",
   "metadata": {},
   "source": [
    "We can use this function below to drop rows with too many missing values from the dataset. We remove rows that have more than 50% missing values."
   ]
  },
  {
   "cell_type": "code",
   "execution_count": 14,
   "metadata": {},
   "outputs": [],
   "source": [
    "def drop_uninformative_objects(X, y):\n",
    "    # your code here\n",
    "    length = X.shape[0]\n",
    "    row = X.shape[1]\n",
    "    \n",
    "    X_subset = X[X.isnull().sum(axis = 1)/row <= 0.5]\n",
    "    y_subset = y[X.isnull().sum(axis = 1)/row <= 0.5]\n",
    "    \n",
    "    return X_subset, y_subset"
   ]
  },
  {
   "cell_type": "code",
   "execution_count": 15,
   "metadata": {},
   "outputs": [],
   "source": [
    "X, y = drop_uninformative_objects(X, y)"
   ]
  },
  {
   "cell_type": "code",
   "execution_count": 16,
   "metadata": {},
   "outputs": [
    {
     "data": {
      "text/plain": [
       "imdb_title_id                0\n",
       "title                        0\n",
       "original_title               0\n",
       "year                         0\n",
       "date_published               0\n",
       "genre                        0\n",
       "duration                     0\n",
       "country                      5\n",
       "language                   439\n",
       "director                    24\n",
       "writer                     808\n",
       "production_company        2744\n",
       "actors                      30\n",
       "description               1993\n",
       "votes                        0\n",
       "budget                   43379\n",
       "usa_gross_income         48306\n",
       "worlwide_gross_income    41062\n",
       "metascore                51386\n",
       "reviews_from_users        4069\n",
       "reviews_from_critics      8229\n",
       "dtype: int64"
      ]
     },
     "execution_count": 16,
     "metadata": {},
     "output_type": "execute_result"
    }
   ],
   "source": [
    "X.isnull().sum()"
   ]
  },
  {
   "cell_type": "markdown",
   "metadata": {},
   "source": [
    "For category director and production_company, we can fill missing variables with Unknown."
   ]
  },
  {
   "cell_type": "code",
   "execution_count": 17,
   "metadata": {},
   "outputs": [],
   "source": [
    "X['director'].fillna('Unknown', inplace = True)\n",
    "X['production_company'].fillna('Unknown', inplace = True)"
   ]
  },
  {
   "cell_type": "code",
   "execution_count": 18,
   "metadata": {
    "scrolled": true
   },
   "outputs": [
    {
     "data": {
      "text/plain": [
       "imdb_title_id                0\n",
       "title                        0\n",
       "original_title               0\n",
       "year                         0\n",
       "date_published               0\n",
       "genre                        0\n",
       "duration                     0\n",
       "country                      5\n",
       "language                   439\n",
       "director                     0\n",
       "writer                     808\n",
       "production_company           0\n",
       "actors                      30\n",
       "description               1993\n",
       "votes                        0\n",
       "budget                   43379\n",
       "usa_gross_income         48306\n",
       "worlwide_gross_income    41062\n",
       "metascore                51386\n",
       "reviews_from_users        4069\n",
       "reviews_from_critics      8229\n",
       "dtype: int64"
      ]
     },
     "execution_count": 18,
     "metadata": {},
     "output_type": "execute_result"
    }
   ],
   "source": [
    "X.isnull().sum()"
   ]
  },
  {
   "cell_type": "markdown",
   "metadata": {},
   "source": [
    "Create a vector proper_genres which contains all titles with > 1000 observations. For all the movies, which have genre not from the proper_genres list, rename their Genre to Other."
   ]
  },
  {
   "cell_type": "code",
   "execution_count": 19,
   "metadata": {
    "scrolled": true
   },
   "outputs": [
    {
     "name": "stdout",
     "output_type": "stream",
     "text": [
      "Drama                         8498\n",
      "Comedy                        5420\n",
      "Comedy, Drama                 2654\n",
      "Drama, Romance                2529\n",
      "Comedy, Romance               1777\n",
      "                              ... \n",
      "Animation, Comedy, Action        1\n",
      "Romance, Musical, Action         1\n",
      "Drama, Animation, Thriller       1\n",
      "Comedy, Family, Adventure        1\n",
      "Adventure, Action, Sci-Fi        1\n",
      "Name: genre, Length: 1202, dtype: int64\n",
      "['Drama', 'Comedy', 'Comedy, Drama', 'Drama, Romance', 'Comedy, Romance', 'Comedy, Drama, Romance', 'Horror', 'Crime, Drama']\n"
     ]
    }
   ],
   "source": [
    "print(full_dataset.genre.value_counts())\n",
    "genre = full_dataset['genre'].value_counts().keys().tolist()\n",
    "counts = full_dataset['genre'].value_counts().tolist()\n",
    "proper_genre = []\n",
    "\n",
    "for i in range(len(genre)):\n",
    "    if counts[i] > 1000:\n",
    "        proper_genre.append(genre[i])\n",
    "\n",
    "print(proper_genre) "
   ]
  },
  {
   "cell_type": "code",
   "execution_count": 20,
   "metadata": {},
   "outputs": [],
   "source": [
    "full_dataset['genre'].where(full_dataset['genre'].isin(proper_genre), 'Other', inplace = True)"
   ]
  },
  {
   "cell_type": "code",
   "execution_count": 21,
   "metadata": {
    "scrolled": true
   },
   "outputs": [
    {
     "data": {
      "text/plain": [
       "Text(0, 0.5, 'Prop. Success')"
      ]
     },
     "execution_count": 21,
     "metadata": {},
     "output_type": "execute_result"
    },
    {
     "data": {
      "image/png": "[encoded data removed]",
      "text/plain": [
       "<Figure size 1080x288 with 2 Axes>"
      ]
     },
     "metadata": {
      "needs_background": "light"
     },
     "output_type": "display_data"
    }
   ],
   "source": [
    "fig, (ax1, ax2) = plt.subplots(1, 2, figsize = (15,4))\n",
    "fig.suptitle('Genre')\n",
    "genre_total = full_dataset[full_dataset['success'] == 1].genre.value_counts().sort_index(ascending = False)\n",
    "plt.sca(ax1) \n",
    "full_dataset.groupby(['genre']).count()['success'].sort_values(ascending = False).plot(kind = 'bar', grid = True);\n",
    "ax1.set_ylabel('Num. movies')\n",
    "plt.sca(ax2) \n",
    "(genre_total/full_dataset.groupby(['genre']).count()['success']).sort_index().plot(kind = 'bar', grid = True);\n",
    "ax2.set_ylabel('Prop. Success')"
   ]
  },
  {
   "cell_type": "code",
   "execution_count": 22,
   "metadata": {
    "scrolled": true
   },
   "outputs": [
    {
     "data": {
      "text/plain": [
       "<matplotlib.axes._subplots.AxesSubplot at 0x7f83265ac610>"
      ]
     },
     "execution_count": 22,
     "metadata": {},
     "output_type": "execute_result"
    },
    {
     "data": {
      "image/png": "[encoded data removed]",
      "text/plain": [
       "<Figure size 432x288 with 1 Axes>"
      ]
     },
     "metadata": {
      "needs_background": "light"
     },
     "output_type": "display_data"
    }
   ],
   "source": [
    "full_dataset['duration'].plot(kind = 'box')"
   ]
  },
  {
   "cell_type": "code",
   "execution_count": 23,
   "metadata": {},
   "outputs": [
    {
     "data": {
      "text/plain": [
       "95.0"
      ]
     },
     "execution_count": 23,
     "metadata": {},
     "output_type": "execute_result"
    }
   ],
   "source": [
    "full_dataset['duration'].median()"
   ]
  },
  {
   "cell_type": "markdown",
   "metadata": {},
   "source": [
    "We can split duration into several groups. For each group create a binary variable duration_size1, duration_size2 and duration_size3. For movies with duration more than 300, they belong to duration_size1. For movies with duration between 300 and 120, they belong to duration_size2. For movies with duration between 120 and 60, they belong to duration_size3. For movies with duration less than 60, they belong to duration_size4."
   ]
  },
  {
   "cell_type": "code",
   "execution_count": 24,
   "metadata": {},
   "outputs": [],
   "source": [
    "full_dataset['duration_size1'] = np.where(full_dataset['duration'] > 300, 1, 0)\n",
    "full_dataset['duration_size2'] = np.where((full_dataset['duration'] <= 300) & (full_dataset['duration'] > 120), 1, 0)\n",
    "full_dataset['duration_size3'] = np.where((full_dataset['duration'] <= 120)&(full_dataset['duration'] > 60), 1, 0 )\n",
    "full_dataset['duration_size4'] = np.where(full_dataset['duration'] <= 60, 1, 0)"
   ]
  },
  {
   "cell_type": "code",
   "execution_count": 25,
   "metadata": {},
   "outputs": [],
   "source": [
    "full_dataset.drop(columns = ['duration'], inplace = True)"
   ]
  },
  {
   "cell_type": "code",
   "execution_count": 26,
   "metadata": {},
   "outputs": [],
   "source": [
    "y = full_dataset[\"success\"]\n",
    "X = full_dataset.drop(\"success\", axis=1)\n",
    "\n",
    "X_tr, X_te, y_tr, y_te = train_test_split(X, y, test_size=0.3, random_state=1)"
   ]
  },
  {
   "cell_type": "markdown",
   "metadata": {},
   "source": [
    "Note that budget, usa_gross_income and worlwide_gross_income are actually numerical values. We need to get rid of the $ sign."
   ]
  },
  {
   "cell_type": "code",
   "execution_count": 27,
   "metadata": {},
   "outputs": [],
   "source": [
    "X_tr['usa_gross_income'] = X_tr['usa_gross_income'].str.replace('$', '')\n",
    "X_tr['usa_gross_income'] = pd.to_numeric(X_tr['usa_gross_income'], errors='coerce')\n",
    "\n",
    "X_te['usa_gross_income'] = X_te['usa_gross_income'].str.replace('$', '')\n",
    "X_te['usa_gross_income'] = pd.to_numeric(X_te['usa_gross_income'], errors='coerce')"
   ]
  },
  {
   "cell_type": "code",
   "execution_count": 28,
   "metadata": {},
   "outputs": [],
   "source": [
    "X_tr['worlwide_gross_income'] = X_tr['worlwide_gross_income'].str.replace('$','')\n",
    "X_tr['worlwide_gross_income'] = pd.to_numeric(X_tr['worlwide_gross_income'], errors = 'coerce')\n",
    "\n",
    "X_te['worlwide_gross_income'] = X_te['worlwide_gross_income'].str.replace('$','')\n",
    "X_te['worlwide_gross_income'] = pd.to_numeric(X_te['worlwide_gross_income'], errors = 'coerce')"
   ]
  },
  {
   "cell_type": "code",
   "execution_count": 29,
   "metadata": {},
   "outputs": [],
   "source": [
    "X_tr['budget'] = X_tr['budget'].str.replace('$','')\n",
    "X_tr['budget'] = pd.to_numeric(X_tr['budget'], errors = 'coerce')\n",
    "\n",
    "X_te['budget'] = X_te['budget'].str.replace('$','')\n",
    "X_te['budget'] = pd.to_numeric(X_te['budget'], errors = 'coerce')"
   ]
  },
  {
   "cell_type": "markdown",
   "metadata": {},
   "source": [
    "Since we already have index column, we can get rid of imdb_title_id as it serves as the index column for the movies."
   ]
  },
  {
   "cell_type": "code",
   "execution_count": 30,
   "metadata": {},
   "outputs": [],
   "source": [
    "X_tr.drop(columns = ['imdb_title_id'], inplace = True)\n",
    "X_te.drop(columns = ['imdb_title_id'], inplace = True)"
   ]
  },
  {
   "cell_type": "markdown",
   "metadata": {},
   "source": [
    "Consider column Year and Date of publish. We can keep year column because these variables are basically have the same information year."
   ]
  },
  {
   "cell_type": "code",
   "execution_count": 31,
   "metadata": {},
   "outputs": [],
   "source": [
    "X_tr.drop(columns = ['date_published'], inplace = True)\n",
    "X_te.drop(columns = ['date_published'], inplace = True)"
   ]
  },
  {
   "cell_type": "markdown",
   "metadata": {},
   "source": [
    "2.2 Explore you data: make plots, print tables. Make sure to write your observations.  Do not forget to fill-in missing values, define relevant columns transformatios. \n"
   ]
  },
  {
   "cell_type": "markdown",
   "metadata": {},
   "source": [
    "# Explore numerical variables"
   ]
  },
  {
   "cell_type": "code",
   "execution_count": 32,
   "metadata": {
    "scrolled": true
   },
   "outputs": [
    {
     "data": {
      "text/plain": [
       "['year',\n",
       " 'votes',\n",
       " 'budget',\n",
       " 'usa_gross_income',\n",
       " 'worlwide_gross_income',\n",
       " 'metascore',\n",
       " 'reviews_from_users',\n",
       " 'reviews_from_critics',\n",
       " 'duration_size1',\n",
       " 'duration_size2',\n",
       " 'duration_size3',\n",
       " 'duration_size4']"
      ]
     },
     "execution_count": 32,
     "metadata": {},
     "output_type": "execute_result"
    }
   ],
   "source": [
    "num_cols = X_tr.columns[np.logical_or(X_tr.dtypes == \"int64\", X_tr.dtypes == \"float64\")].tolist() #\n",
    "num_cols"
   ]
  },
  {
   "cell_type": "code",
   "execution_count": 33,
   "metadata": {},
   "outputs": [],
   "source": [
    "num_cols = [item for item in num_cols if item != 'duration_size1' and item != 'duration_size2' and item != 'duration_size3' and item != 'duration_size4']\n"
   ]
  },
  {
   "cell_type": "code",
   "execution_count": 34,
   "metadata": {},
   "outputs": [
    {
     "data": {
      "text/plain": [
       "['year',\n",
       " 'votes',\n",
       " 'budget',\n",
       " 'usa_gross_income',\n",
       " 'worlwide_gross_income',\n",
       " 'metascore',\n",
       " 'reviews_from_users',\n",
       " 'reviews_from_critics']"
      ]
     },
     "execution_count": 34,
     "metadata": {},
     "output_type": "execute_result"
    }
   ],
   "source": [
    "num_cols"
   ]
  },
  {
   "cell_type": "code",
   "execution_count": 35,
   "metadata": {
    "scrolled": true
   },
   "outputs": [
    {
     "name": "stdout",
     "output_type": "stream",
     "text": [
      "Distribution of numerical features:\n"
     ]
    },
    {
     "data": {
      "image/png": "[encoded data removed]",
      "text/plain": [
       "<Figure size 1080x720 with 12 Axes>"
      ]
     },
     "metadata": {
      "needs_background": "light"
     },
     "output_type": "display_data"
    }
   ],
   "source": [
    "print(\"Distribution of numerical features:\")\n",
    "X[num_cols].hist(bins=20, grid=True, figsize=(15, 10), layout=(4, 3))\n",
    "plt.show()"
   ]
  },
  {
   "cell_type": "markdown",
   "metadata": {},
   "source": [
    "Note that metascore is normally distributed. "
   ]
  },
  {
   "cell_type": "code",
   "execution_count": 36,
   "metadata": {},
   "outputs": [
    {
     "name": "stdout",
     "output_type": "stream",
     "text": [
      "Number of missing values in each column:\n",
      "\n"
     ]
    },
    {
     "data": {
      "text/plain": [
       "year                         0\n",
       "votes                        0\n",
       "budget                   43379\n",
       "usa_gross_income         48306\n",
       "worlwide_gross_income    41062\n",
       "metascore                51386\n",
       "reviews_from_users        4069\n",
       "reviews_from_critics      8229\n",
       "dtype: int64"
      ]
     },
     "execution_count": 36,
     "metadata": {},
     "output_type": "execute_result"
    }
   ],
   "source": [
    "print(\"Number of missing values in each column:\\n\")\n",
    "X[num_cols].isnull().sum()"
   ]
  },
  {
   "cell_type": "markdown",
   "metadata": {},
   "source": [
    "# Explore categorical variable"
   ]
  },
  {
   "cell_type": "code",
   "execution_count": 37,
   "metadata": {
    "scrolled": true
   },
   "outputs": [
    {
     "name": "stdout",
     "output_type": "stream",
     "text": [
      "Number of categorical features = 10 \n",
      "\n"
     ]
    }
   ],
   "source": [
    "cat_cols = X_tr.columns[X_tr.dtypes == \"object\"].tolist() #\n",
    "print(\"Number of categorical features =\", len(cat_cols), \"\\n\")"
   ]
  },
  {
   "cell_type": "code",
   "execution_count": 38,
   "metadata": {},
   "outputs": [
    {
     "data": {
      "text/plain": [
       "title                    0\n",
       "original_title           0\n",
       "genre                    0\n",
       "country                  5\n",
       "language               439\n",
       "director                24\n",
       "writer                 808\n",
       "production_company    2744\n",
       "actors                  30\n",
       "description           1993\n",
       "dtype: int64"
      ]
     },
     "execution_count": 38,
     "metadata": {},
     "output_type": "execute_result"
    }
   ],
   "source": [
    "X[cat_cols].isnull().sum()"
   ]
  },
  {
   "cell_type": "code",
   "execution_count": 39,
   "metadata": {},
   "outputs": [
    {
     "data": {
      "text/html": [
       "<div>\n",
       "<style scoped>\n",
       "    .dataframe tbody tr th:only-of-type {\n",
       "        vertical-align: middle;\n",
       "    }\n",
       "\n",
       "    .dataframe tbody tr th {\n",
       "        vertical-align: top;\n",
       "    }\n",
       "\n",
       "    .dataframe thead th {\n",
       "        text-align: right;\n",
       "    }\n",
       "</style>\n",
       "<table border=\"1\" class=\"dataframe\">\n",
       "  <thead>\n",
       "    <tr style=\"text-align: right;\">\n",
       "      <th></th>\n",
       "      <th>title</th>\n",
       "      <th>original_title</th>\n",
       "      <th>genre</th>\n",
       "      <th>country</th>\n",
       "      <th>language</th>\n",
       "      <th>director</th>\n",
       "      <th>writer</th>\n",
       "      <th>production_company</th>\n",
       "      <th>actors</th>\n",
       "      <th>description</th>\n",
       "    </tr>\n",
       "  </thead>\n",
       "  <tbody>\n",
       "    <tr>\n",
       "      <th>count</th>\n",
       "      <td>42138</td>\n",
       "      <td>42138</td>\n",
       "      <td>42138</td>\n",
       "      <td>42134</td>\n",
       "      <td>41837</td>\n",
       "      <td>42123</td>\n",
       "      <td>41582</td>\n",
       "      <td>40180</td>\n",
       "      <td>42119</td>\n",
       "      <td>40725</td>\n",
       "    </tr>\n",
       "    <tr>\n",
       "      <th>unique</th>\n",
       "      <td>40591</td>\n",
       "      <td>40596</td>\n",
       "      <td>9</td>\n",
       "      <td>2580</td>\n",
       "      <td>2459</td>\n",
       "      <td>18261</td>\n",
       "      <td>34652</td>\n",
       "      <td>16607</td>\n",
       "      <td>42111</td>\n",
       "      <td>40685</td>\n",
       "    </tr>\n",
       "    <tr>\n",
       "      <th>top</th>\n",
       "      <td>Hamlet</td>\n",
       "      <td>Hamlet</td>\n",
       "      <td>Other</td>\n",
       "      <td>USA</td>\n",
       "      <td>English</td>\n",
       "      <td>Michael Curtiz</td>\n",
       "      <td>Jing Wong</td>\n",
       "      <td>Metro-Goldwyn-Mayer (MGM)</td>\n",
       "      <td>Nobuyo Ôyama, Noriko Ohara, Michiko Nomura, Ka...</td>\n",
       "      <td>Mail</td>\n",
       "    </tr>\n",
       "    <tr>\n",
       "      <th>freq</th>\n",
       "      <td>7</td>\n",
       "      <td>7</td>\n",
       "      <td>24576</td>\n",
       "      <td>15430</td>\n",
       "      <td>18839</td>\n",
       "      <td>64</td>\n",
       "      <td>49</td>\n",
       "      <td>904</td>\n",
       "      <td>5</td>\n",
       "      <td>6</td>\n",
       "    </tr>\n",
       "  </tbody>\n",
       "</table>\n",
       "</div>"
      ],
      "text/plain": [
       "         title original_title  genre country language        director  \\\n",
       "count    42138          42138  42138   42134    41837           42123   \n",
       "unique   40591          40596      9    2580     2459           18261   \n",
       "top     Hamlet         Hamlet  Other     USA  English  Michael Curtiz   \n",
       "freq         7              7  24576   15430    18839              64   \n",
       "\n",
       "           writer         production_company  \\\n",
       "count       41582                      40180   \n",
       "unique      34652                      16607   \n",
       "top     Jing Wong  Metro-Goldwyn-Mayer (MGM)   \n",
       "freq           49                        904   \n",
       "\n",
       "                                                   actors description  \n",
       "count                                               42119       40725  \n",
       "unique                                              42111       40685  \n",
       "top     Nobuyo Ôyama, Noriko Ohara, Michiko Nomura, Ka...        Mail  \n",
       "freq                                                    5           6  "
      ]
     },
     "execution_count": 39,
     "metadata": {},
     "output_type": "execute_result"
    }
   ],
   "source": [
    "X_tr[cat_cols].describe(include='object')"
   ]
  },
  {
   "cell_type": "markdown",
   "metadata": {},
   "source": [
    "Remove categorical variables that have more than $10000$ unique variables."
   ]
  },
  {
   "cell_type": "code",
   "execution_count": 40,
   "metadata": {
    "scrolled": true
   },
   "outputs": [],
   "source": [
    "remove_cols = ['title', 'original_title', 'writer', 'actors', 'description', 'director', 'production_company']\n",
    "\n",
    "X_tr.drop(columns = remove_cols, inplace = True)\n",
    "X_te.drop(columns = remove_cols, inplace = True)\n",
    "\n",
    "cat_cols = [item for item in cat_cols if item not in remove_cols]"
   ]
  },
  {
   "cell_type": "code",
   "execution_count": 41,
   "metadata": {
    "scrolled": false
   },
   "outputs": [
    {
     "data": {
      "text/plain": [
       "['genre', 'country', 'language']"
      ]
     },
     "execution_count": 41,
     "metadata": {},
     "output_type": "execute_result"
    }
   ],
   "source": [
    "cat_cols"
   ]
  },
  {
   "cell_type": "markdown",
   "metadata": {},
   "source": [
    "We can explore the rest of categorical variables, genre, country, language."
   ]
  },
  {
   "cell_type": "code",
   "execution_count": 42,
   "metadata": {
    "scrolled": true
   },
   "outputs": [
    {
     "data": {
      "text/plain": [
       "genre         0\n",
       "country       4\n",
       "language    301\n",
       "dtype: int64"
      ]
     },
     "execution_count": 42,
     "metadata": {},
     "output_type": "execute_result"
    }
   ],
   "source": [
    "X_tr[cat_cols].isnull().sum()"
   ]
  },
  {
   "cell_type": "code",
   "execution_count": 43,
   "metadata": {
    "scrolled": true
   },
   "outputs": [
    {
     "name": "stdout",
     "output_type": "stream",
     "text": [
      "Distribution of categorical features:\n"
     ]
    },
    {
     "data": {
      "image/png": "[encoded data removed]",
      "text/plain": [
       "<Figure size 1080x360 with 3 Axes>"
      ]
     },
     "metadata": {},
     "output_type": "display_data"
    }
   ],
   "source": [
    "cat_cols_plot = ['genre', 'country', 'language']\n",
    "\n",
    "print(\"Distribution of categorical features:\")\n",
    "plt.figure(figsize=(15, 5))\n",
    "for i, col in enumerate(cat_cols_plot):\n",
    "    plt.subplot(1, 3, i + 1)\n",
    "    X_tr[col].value_counts(normalize=True).plot.pie(autopct=lambda x: f\"{round(x, 2)}%\")\n",
    "plt.show()"
   ]
  },
  {
   "cell_type": "markdown",
   "metadata": {},
   "source": [
    "# Column Transformer"
   ]
  },
  {
   "cell_type": "code",
   "execution_count": 44,
   "metadata": {},
   "outputs": [],
   "source": [
    "from sklearn.impute import SimpleImputer\n",
    "from sklearn.preprocessing import OneHotEncoder, StandardScaler"
   ]
  },
  {
   "cell_type": "code",
   "execution_count": 45,
   "metadata": {},
   "outputs": [],
   "source": [
    "num_pipe = make_pipeline(SimpleImputer(), StandardScaler())\n",
    "cat_pipe = make_pipeline(SimpleImputer(strategy=\"most_frequent\"), OneHotEncoder(handle_unknown = 'ignore'))\n",
    "\n",
    "column_transformer = ColumnTransformer([\n",
    " ('num', num_pipe, num_cols),\n",
    " ('cat', cat_pipe, cat_cols)],\n",
    "remainder='passthrough'\n",
    ")"
   ]
  },
  {
   "cell_type": "markdown",
   "metadata": {},
   "source": [
    "### Part 3.\n",
    "\n",
    "Train and compare the models\n",
    "\n",
    "3.1. Select models, you are going to train, select hyperparameters that have to be tunes."
   ]
  },
  {
   "cell_type": "code",
   "execution_count": 46,
   "metadata": {},
   "outputs": [],
   "source": [
    "from sklearn.linear_model import LogisticRegression\n",
    "from sklearn.tree import DecisionTreeClassifier\n",
    "from sklearn.ensemble import GradientBoostingClassifier\n",
    "\n",
    "from sklearn.model_selection import GridSearchCV\n",
    "from sklearn.model_selection import cross_val_score"
   ]
  },
  {
   "cell_type": "markdown",
   "metadata": {},
   "source": [
    "# Model1: Logistic Regression"
   ]
  },
  {
   "cell_type": "code",
   "execution_count": 47,
   "metadata": {},
   "outputs": [],
   "source": [
    "# your code here\n",
    "log_pipe = Pipeline(steps = [\n",
    "    (\"col_transformer\", column_transformer),\n",
    "    (\"estimator\", LogisticRegression(penalty = 'none'))\n",
    "])"
   ]
  },
  {
   "cell_type": "code",
   "execution_count": 48,
   "metadata": {},
   "outputs": [
    {
     "data": {
      "text/plain": [
       "dict_keys(['C', 'class_weight', 'dual', 'fit_intercept', 'intercept_scaling', 'l1_ratio', 'max_iter', 'multi_class', 'n_jobs', 'penalty', 'random_state', 'solver', 'tol', 'verbose', 'warm_start'])"
      ]
     },
     "execution_count": 48,
     "metadata": {},
     "output_type": "execute_result"
    }
   ],
   "source": [
    "log_pipe['estimator'].get_params().keys()"
   ]
  },
  {
   "cell_type": "code",
   "execution_count": 49,
   "metadata": {},
   "outputs": [
    {
     "data": {
      "text/plain": [
       "GridSearchCV(cv=5, error_score=nan,\n",
       "             estimator=Pipeline(memory=None,\n",
       "                                steps=[('col_transformer',\n",
       "                                        ColumnTransformer(n_jobs=None,\n",
       "                                                          remainder='passthrough',\n",
       "                                                          sparse_threshold=0.3,\n",
       "                                                          transformer_weights=None,\n",
       "                                                          transformers=[('num',\n",
       "                                                                         Pipeline(memory=None,\n",
       "                                                                                  steps=[('simpleimputer',\n",
       "                                                                                          SimpleImputer(add_indicator=False,\n",
       "                                                                                                        copy=True,\n",
       "                                                                                                        fill_value=None,\n",
       "                                                                                                        missing_values=nan,\n",
       "                                                                                                        strategy='mean...\n",
       "                                                           fit_intercept=True,\n",
       "                                                           intercept_scaling=1,\n",
       "                                                           l1_ratio=None,\n",
       "                                                           max_iter=100,\n",
       "                                                           multi_class='auto',\n",
       "                                                           n_jobs=None,\n",
       "                                                           penalty='none',\n",
       "                                                           random_state=None,\n",
       "                                                           solver='lbfgs',\n",
       "                                                           tol=0.0001,\n",
       "                                                           verbose=0,\n",
       "                                                           warm_start=False))],\n",
       "                                verbose=False),\n",
       "             iid='deprecated', n_jobs=None,\n",
       "             param_grid={'estimator__C': [1, 10, 100, 1000]},\n",
       "             pre_dispatch='2*n_jobs', refit=True, return_train_score=False,\n",
       "             scoring='f1', verbose=0)"
      ]
     },
     "execution_count": 49,
     "metadata": {},
     "output_type": "execute_result"
    }
   ],
   "source": [
    "param_grid = {\n",
    "    'estimator__C': [1,10,100,1000],\n",
    "}\n",
    "\n",
    "grid_pipe = GridSearchCV(log_pipe,param_grid = param_grid, cv = 5, scoring = \"f1\")\n",
    "grid_pipe.fit(X_tr, y_tr)"
   ]
  },
  {
   "cell_type": "code",
   "execution_count": 50,
   "metadata": {
    "scrolled": true
   },
   "outputs": [
    {
     "data": {
      "text/plain": [
       "Pipeline(memory=None,\n",
       "         steps=[('col_transformer',\n",
       "                 ColumnTransformer(n_jobs=None, remainder='passthrough',\n",
       "                                   sparse_threshold=0.3,\n",
       "                                   transformer_weights=None,\n",
       "                                   transformers=[('num',\n",
       "                                                  Pipeline(memory=None,\n",
       "                                                           steps=[('simpleimputer',\n",
       "                                                                   SimpleImputer(add_indicator=False,\n",
       "                                                                                 copy=True,\n",
       "                                                                                 fill_value=None,\n",
       "                                                                                 missing_values=nan,\n",
       "                                                                                 strategy='mean',\n",
       "                                                                                 verbose=0)),\n",
       "                                                                  ('standardscaler',\n",
       "                                                                   StandardScal...\n",
       "                                                                                 handle_unknown='ignore',\n",
       "                                                                                 sparse=True))],\n",
       "                                                           verbose=False),\n",
       "                                                  ['genre', 'country',\n",
       "                                                   'language'])],\n",
       "                                   verbose=False)),\n",
       "                ('estimator',\n",
       "                 LogisticRegression(C=1, class_weight=None, dual=False,\n",
       "                                    fit_intercept=True, intercept_scaling=1,\n",
       "                                    l1_ratio=None, max_iter=100,\n",
       "                                    multi_class='auto', n_jobs=None,\n",
       "                                    penalty='none', random_state=None,\n",
       "                                    solver='lbfgs', tol=0.0001, verbose=0,\n",
       "                                    warm_start=False))],\n",
       "         verbose=False)"
      ]
     },
     "execution_count": 50,
     "metadata": {},
     "output_type": "execute_result"
    }
   ],
   "source": [
    "grid_pipe.best_estimator_"
   ]
  },
  {
   "cell_type": "code",
   "execution_count": 51,
   "metadata": {},
   "outputs": [
    {
     "data": {
      "text/plain": [
       "0.7919295386479401"
      ]
     },
     "execution_count": 51,
     "metadata": {},
     "output_type": "execute_result"
    }
   ],
   "source": [
    "grid_pipe.best_score_"
   ]
  },
  {
   "cell_type": "markdown",
   "metadata": {},
   "source": [
    "# Model 2: Decision Tree"
   ]
  },
  {
   "cell_type": "code",
   "execution_count": 52,
   "metadata": {},
   "outputs": [],
   "source": [
    "tree_pipe = Pipeline(steps = [\n",
    "    (\"col_transformer\", column_transformer),\n",
    "    (\"estimator\", DecisionTreeClassifier())\n",
    "])"
   ]
  },
  {
   "cell_type": "code",
   "execution_count": 53,
   "metadata": {
    "scrolled": true
   },
   "outputs": [
    {
     "data": {
      "text/plain": [
       "dict_keys(['ccp_alpha', 'class_weight', 'criterion', 'max_depth', 'max_features', 'max_leaf_nodes', 'min_impurity_decrease', 'min_impurity_split', 'min_samples_leaf', 'min_samples_split', 'min_weight_fraction_leaf', 'presort', 'random_state', 'splitter'])"
      ]
     },
     "execution_count": 53,
     "metadata": {},
     "output_type": "execute_result"
    }
   ],
   "source": [
    "tree_pipe['estimator'].get_params().keys()"
   ]
  },
  {
   "cell_type": "code",
   "execution_count": 54,
   "metadata": {},
   "outputs": [
    {
     "data": {
      "text/plain": [
       "GridSearchCV(cv=5, error_score=nan,\n",
       "             estimator=Pipeline(memory=None,\n",
       "                                steps=[('col_transformer',\n",
       "                                        ColumnTransformer(n_jobs=None,\n",
       "                                                          remainder='passthrough',\n",
       "                                                          sparse_threshold=0.3,\n",
       "                                                          transformer_weights=None,\n",
       "                                                          transformers=[('num',\n",
       "                                                                         Pipeline(memory=None,\n",
       "                                                                                  steps=[('simpleimputer',\n",
       "                                                                                          SimpleImputer(add_indicator=False,\n",
       "                                                                                                        copy=True,\n",
       "                                                                                                        fill_value=None,\n",
       "                                                                                                        missing_values=nan,\n",
       "                                                                                                        strategy='mean...\n",
       "                                                               min_samples_split=2,\n",
       "                                                               min_weight_fraction_leaf=0.0,\n",
       "                                                               presort='deprecated',\n",
       "                                                               random_state=None,\n",
       "                                                               splitter='best'))],\n",
       "                                verbose=False),\n",
       "             iid='deprecated', n_jobs=None,\n",
       "             param_grid={'estimator__criterion': ['gini', 'entropy'],\n",
       "                         'estimator__max_depth': [2, 6, 8],\n",
       "                         'estimator__min_samples_split': [10, 20, 40]},\n",
       "             pre_dispatch='2*n_jobs', refit=True, return_train_score=False,\n",
       "             scoring='f1', verbose=0)"
      ]
     },
     "execution_count": 54,
     "metadata": {},
     "output_type": "execute_result"
    }
   ],
   "source": [
    "param_grid = {\n",
    "    'estimator__max_depth': [2,6,8],\n",
    "    'estimator__criterion': ['gini', 'entropy'],\n",
    "    'estimator__min_samples_split': [10, 20, 40],\n",
    "}\n",
    "\n",
    "grid_tree_pipe = GridSearchCV(tree_pipe,param_grid = param_grid, cv = 5, scoring = 'f1')\n",
    "grid_tree_pipe.fit(X_tr, y_tr)"
   ]
  },
  {
   "cell_type": "code",
   "execution_count": 55,
   "metadata": {
    "scrolled": true
   },
   "outputs": [
    {
     "data": {
      "text/plain": [
       "0.786934270919837"
      ]
     },
     "execution_count": 55,
     "metadata": {},
     "output_type": "execute_result"
    }
   ],
   "source": [
    "grid_tree_pipe.best_score_"
   ]
  },
  {
   "cell_type": "code",
   "execution_count": 56,
   "metadata": {
    "scrolled": true
   },
   "outputs": [
    {
     "data": {
      "text/plain": [
       "Pipeline(memory=None,\n",
       "         steps=[('col_transformer',\n",
       "                 ColumnTransformer(n_jobs=None, remainder='passthrough',\n",
       "                                   sparse_threshold=0.3,\n",
       "                                   transformer_weights=None,\n",
       "                                   transformers=[('num',\n",
       "                                                  Pipeline(memory=None,\n",
       "                                                           steps=[('simpleimputer',\n",
       "                                                                   SimpleImputer(add_indicator=False,\n",
       "                                                                                 copy=True,\n",
       "                                                                                 fill_value=None,\n",
       "                                                                                 missing_values=nan,\n",
       "                                                                                 strategy='mean',\n",
       "                                                                                 verbose=0)),\n",
       "                                                                  ('standardscaler',\n",
       "                                                                   StandardScal...\n",
       "                                                   'language'])],\n",
       "                                   verbose=False)),\n",
       "                ('estimator',\n",
       "                 DecisionTreeClassifier(ccp_alpha=0.0, class_weight=None,\n",
       "                                        criterion='gini', max_depth=8,\n",
       "                                        max_features=None, max_leaf_nodes=None,\n",
       "                                        min_impurity_decrease=0.0,\n",
       "                                        min_impurity_split=None,\n",
       "                                        min_samples_leaf=1,\n",
       "                                        min_samples_split=10,\n",
       "                                        min_weight_fraction_leaf=0.0,\n",
       "                                        presort='deprecated', random_state=None,\n",
       "                                        splitter='best'))],\n",
       "         verbose=False)"
      ]
     },
     "execution_count": 56,
     "metadata": {},
     "output_type": "execute_result"
    }
   ],
   "source": [
    "grid_tree_pipe.best_estimator_"
   ]
  },
  {
   "cell_type": "markdown",
   "metadata": {},
   "source": [
    "# Model 3: Gradient Boosting"
   ]
  },
  {
   "cell_type": "code",
   "execution_count": 57,
   "metadata": {},
   "outputs": [],
   "source": [
    "boost_pipe = Pipeline(steps = [\n",
    "    (\"col_transformer\", column_transformer),\n",
    "    (\"estimator\", GradientBoostingClassifier())\n",
    "])"
   ]
  },
  {
   "cell_type": "code",
   "execution_count": 58,
   "metadata": {},
   "outputs": [
    {
     "data": {
      "text/plain": [
       "dict_keys(['ccp_alpha', 'criterion', 'init', 'learning_rate', 'loss', 'max_depth', 'max_features', 'max_leaf_nodes', 'min_impurity_decrease', 'min_impurity_split', 'min_samples_leaf', 'min_samples_split', 'min_weight_fraction_leaf', 'n_estimators', 'n_iter_no_change', 'presort', 'random_state', 'subsample', 'tol', 'validation_fraction', 'verbose', 'warm_start'])"
      ]
     },
     "execution_count": 58,
     "metadata": {},
     "output_type": "execute_result"
    }
   ],
   "source": [
    "boost_pipe['estimator'].get_params().keys()"
   ]
  },
  {
   "cell_type": "code",
   "execution_count": 59,
   "metadata": {
    "scrolled": true
   },
   "outputs": [
    {
     "data": {
      "text/plain": [
       "GridSearchCV(cv=5, error_score=nan,\n",
       "             estimator=Pipeline(memory=None,\n",
       "                                steps=[('col_transformer',\n",
       "                                        ColumnTransformer(n_jobs=None,\n",
       "                                                          remainder='passthrough',\n",
       "                                                          sparse_threshold=0.3,\n",
       "                                                          transformer_weights=None,\n",
       "                                                          transformers=[('num',\n",
       "                                                                         Pipeline(memory=None,\n",
       "                                                                                  steps=[('simpleimputer',\n",
       "                                                                                          SimpleImputer(add_indicator=False,\n",
       "                                                                                                        copy=True,\n",
       "                                                                                                        fill_value=None,\n",
       "                                                                                                        missing_values=nan,\n",
       "                                                                                                        strategy='mean...\n",
       "                                                                   n_estimators=100,\n",
       "                                                                   n_iter_no_change=None,\n",
       "                                                                   presort='deprecated',\n",
       "                                                                   random_state=None,\n",
       "                                                                   subsample=1.0,\n",
       "                                                                   tol=0.0001,\n",
       "                                                                   validation_fraction=0.1,\n",
       "                                                                   verbose=0,\n",
       "                                                                   warm_start=False))],\n",
       "                                verbose=False),\n",
       "             iid='deprecated', n_jobs=None,\n",
       "             param_grid={'estimator__learning_rate': [0.01],\n",
       "                         'estimator__max_depth': [2, 6, 8]},\n",
       "             pre_dispatch='2*n_jobs', refit=True, return_train_score=False,\n",
       "             scoring='f1', verbose=0)"
      ]
     },
     "execution_count": 59,
     "metadata": {},
     "output_type": "execute_result"
    }
   ],
   "source": [
    "params_grid = {\n",
    "    'estimator__max_depth': [2,6,8],\n",
    "    'estimator__learning_rate': [0.01],\n",
    "}\n",
    "\n",
    "grid_boost_pipe = GridSearchCV(boost_pipe, param_grid = params_grid, cv = 5, scoring = 'f1')\n",
    "grid_boost_pipe.fit(X_tr, y_tr)"
   ]
  },
  {
   "cell_type": "code",
   "execution_count": 60,
   "metadata": {},
   "outputs": [
    {
     "data": {
      "text/plain": [
       "0.8112274966278041"
      ]
     },
     "execution_count": 60,
     "metadata": {},
     "output_type": "execute_result"
    }
   ],
   "source": [
    "grid_boost_pipe.best_score_"
   ]
  },
  {
   "cell_type": "code",
   "execution_count": 61,
   "metadata": {},
   "outputs": [
    {
     "data": {
      "text/plain": [
       "Pipeline(memory=None,\n",
       "         steps=[('col_transformer',\n",
       "                 ColumnTransformer(n_jobs=None, remainder='passthrough',\n",
       "                                   sparse_threshold=0.3,\n",
       "                                   transformer_weights=None,\n",
       "                                   transformers=[('num',\n",
       "                                                  Pipeline(memory=None,\n",
       "                                                           steps=[('simpleimputer',\n",
       "                                                                   SimpleImputer(add_indicator=False,\n",
       "                                                                                 copy=True,\n",
       "                                                                                 fill_value=None,\n",
       "                                                                                 missing_values=nan,\n",
       "                                                                                 strategy='mean',\n",
       "                                                                                 verbose=0)),\n",
       "                                                                  ('standardscaler',\n",
       "                                                                   StandardScal...\n",
       "                                            learning_rate=0.01, loss='deviance',\n",
       "                                            max_depth=8, max_features=None,\n",
       "                                            max_leaf_nodes=None,\n",
       "                                            min_impurity_decrease=0.0,\n",
       "                                            min_impurity_split=None,\n",
       "                                            min_samples_leaf=1,\n",
       "                                            min_samples_split=2,\n",
       "                                            min_weight_fraction_leaf=0.0,\n",
       "                                            n_estimators=100,\n",
       "                                            n_iter_no_change=None,\n",
       "                                            presort='deprecated',\n",
       "                                            random_state=None, subsample=1.0,\n",
       "                                            tol=0.0001, validation_fraction=0.1,\n",
       "                                            verbose=0, warm_start=False))],\n",
       "         verbose=False)"
      ]
     },
     "execution_count": 61,
     "metadata": {},
     "output_type": "execute_result"
    }
   ],
   "source": [
    "grid_boost_pipe.best_estimator_"
   ]
  },
  {
   "cell_type": "markdown",
   "metadata": {},
   "source": [
    "3.2 Use cross-validation to compare models and select best set of hyperparameters"
   ]
  },
  {
   "cell_type": "markdown",
   "metadata": {},
   "source": [
    "Gradient Boosting model performs best. "
   ]
  },
  {
   "cell_type": "markdown",
   "metadata": {},
   "source": [
    "3.3 Which model and setup is the best? How does it perform on the test dataset? If you were to present this model to the client, how would you describe it?"
   ]
  },
  {
   "cell_type": "code",
   "execution_count": 65,
   "metadata": {},
   "outputs": [
    {
     "data": {
      "text/plain": [
       "0.811528608027327"
      ]
     },
     "execution_count": 65,
     "metadata": {},
     "output_type": "execute_result"
    }
   ],
   "source": [
    "from sklearn.metrics import f1_score\n",
    "\n",
    "grid_boost_pipe.best_estimator_.fit(X_tr, y_tr)\n",
    "y_pred = grid_boost_pipe.best_estimator_.predict(X_te)\n",
    "f1_score(y_te, y_pred)"
   ]
  },
  {
   "cell_type": "code",
   "execution_count": null,
   "metadata": {},
   "outputs": [],
   "source": []
  }
 ],
 "metadata": {
  "kernelspec": {
   "display_name": "Python 3",
   "language": "python",
   "name": "python3"
  },
  "language_info": {
   "codemirror_mode": {
    "name": "ipython",
    "version": 3
   },
   "file_extension": ".py",
   "mimetype": "text/x-python",
   "name": "python",
   "nbconvert_exporter": "python",
   "pygments_lexer": "ipython3",
   "version": "3.7.6"
  }
 },
 "nbformat": 4,
 "nbformat_minor": 4
}
