{
  "nbformat": 4,
  "nbformat_minor": 0,
  "metadata": {
    "kernelspec": {
      "display_name": "Python [default]",
      "language": "python",
      "name": "python3"
    },
    "language_info": {
      "codemirror_mode": {
        "name": "ipython",
        "version": 3
      },
      "file_extension": ".py",
      "mimetype": "text/x-python",
      "name": "python",
      "nbconvert_exporter": "python",
      "pygments_lexer": "ipython3",
      "version": "3.6.4"
    },
    "colab": {
      "name": "Copy of SGA2_Text Generation.ipynb",
      "provenance": [],
      "collapsed_sections": [],
      "toc_visible": true
    },
    "accelerator": "GPU"
  },
  "cells": [
    {
      "cell_type": "markdown",
      "metadata": {
        "id": "1Oiu5Fabu3ue"
      },
      "source": [
        "# Text Generation\n",
        "## Character-Level LSTM in PyTorch"
      ]
    },
    {
      "cell_type": "markdown",
      "metadata": {
        "id": "1W8R8WgZceEk"
      },
      "source": [
        "In this assignment, you will train a Reccurent Neural Network to generate a text one character at the time. The task is divided into steps for simpler navigation.\n",
        "\n",
        "Let's start!"
      ]
    },
    {
      "cell_type": "code",
      "metadata": {
        "id": "sqUOE2flceEl"
      },
      "source": [
        "import numpy as np\n",
        "import torch\n",
        "from torch import nn\n",
        "import torch.nn.functional as F"
      ],
      "execution_count": 1,
      "outputs": []
    },
    {
      "cell_type": "markdown",
      "metadata": {
        "id": "-JY1C-COvVRb"
      },
      "source": [
        "##Step 0. Data"
      ]
    },
    {
      "cell_type": "markdown",
      "metadata": {
        "id": "_wHfCDyzceEl"
      },
      "source": [
        "As training data, we will use \"War and Peace\" by Leo Tolstoy. The book in plain text format can be downloaded from [Project Gutenberg website ](https://www.gutenberg.org/ebooks/2600).\n",
        "\n",
        "Download and load data."
      ]
    },
    {
      "cell_type": "code",
      "metadata": {
        "id": "CnskyXUl4K3I"
      },
      "source": [
        "# open text file and read in data as `text`\n",
        "with open('2600-0.txt', 'r') as f:\n",
        "    text = f.read()"
      ],
      "execution_count": 3,
      "outputs": []
    },
    {
      "cell_type": "markdown",
      "metadata": {
        "id": "Jp1Ljc4mceEl"
      },
      "source": [
        "Let's view the first 100 symbols:"
      ]
    },
    {
      "cell_type": "code",
      "metadata": {
        "colab": {
          "base_uri": "https://localhost:8080/",
          "height": 35
        },
        "id": "NUb_mCJS5W5i",
        "outputId": "4c86def7-b538-4e15-ea07-fd7260b4af25"
      },
      "source": [
        "text[:100]"
      ],
      "execution_count": 4,
      "outputs": [
        {
          "output_type": "execute_result",
          "data": {
            "application/vnd.google.colaboratory.intrinsic+json": {
              "type": "string"
            },
            "text/plain": [
              "'\\ufeff\\nThe Project Gutenberg EBook of War and Peace, by Leo Tolstoy\\n\\nThis eBook is for the use of anyone '"
            ]
          },
          "metadata": {
            "tags": []
          },
          "execution_count": 4
        }
      ]
    },
    {
      "cell_type": "markdown",
      "metadata": {
        "id": "O4TwJP8f5eOt"
      },
      "source": [
        "The book starts at `7277`:"
      ]
    },
    {
      "cell_type": "code",
      "metadata": {
        "id": "7VctmLQfceEl",
        "colab": {
          "base_uri": "https://localhost:8080/",
          "height": 52
        },
        "outputId": "574c1ca9-5e9a-4303-9ca7-dfa8fb996836"
      },
      "source": [
        "text[7277:7500]"
      ],
      "execution_count": 5,
      "outputs": [
        {
          "output_type": "execute_result",
          "data": {
            "application/vnd.google.colaboratory.intrinsic+json": {
              "type": "string"
            },
            "text/plain": [
              "'CHAPTER I\\n\\n“Well, Prince, so Genoa and Lucca are now just family estates of the\\nBuonapartes. But I warn you, if you don’t tell me that this means war,\\nif you still try to defend the infamies and horrors perpetrated by that\\n'"
            ]
          },
          "metadata": {
            "tags": []
          },
          "execution_count": 5
        }
      ]
    },
    {
      "cell_type": "markdown",
      "metadata": {
        "id": "6iG2vAfmwhWN"
      },
      "source": [
        "##Step 1. Tokenization (15 points)"
      ]
    },
    {
      "cell_type": "markdown",
      "metadata": {
        "id": "4iC21bopceEl"
      },
      "source": [
        "Now let's create dictionaries for converting characters to integers and vice versa. This makes it easier to use symbols as input on the neural network."
      ]
    },
    {
      "cell_type": "code",
      "metadata": {
        "id": "tYVlmnxLceEl"
      },
      "source": [
        "# Create two dictionaries:\n",
        "# int2char -- maps integers to characters\n",
        "# char2int -- maps characters to unique integers\n",
        "\n",
        "## YOUR CODE HERE\n",
        "chars = set(text)\n",
        "int2char = dict(enumerate(chars))\n",
        "char2int = {ch: ii for ii, ch in int2char.items()}\n",
        "\n",
        "# encode the text\n",
        "encoded = np.array([char2int[ch] for ch in text])"
      ],
      "execution_count": 6,
      "outputs": []
    },
    {
      "cell_type": "markdown",
      "metadata": {
        "id": "oJIzwzSwceEl"
      },
      "source": [
        "Let's see how the encoding of characters into integers looks like"
      ]
    },
    {
      "cell_type": "code",
      "metadata": {
        "id": "WK1MYr_9ceEl",
        "colab": {
          "base_uri": "https://localhost:8080/"
        },
        "outputId": "34d1f71c-7121-4eaf-a916-589bbc1f7c6e"
      },
      "source": [
        "encoded[:100]"
      ],
      "execution_count": 7,
      "outputs": [
        {
          "output_type": "execute_result",
          "data": {
            "text/plain": [
              "array([ 48, 103,  87,  79, 107, 110,  54,  47,  16,  11, 107,  57,  12,\n",
              "       110,  96,  76,  12, 107,  84,  26, 107,  47,  72, 110,  27,  18,\n",
              "        16,  16,  90, 110,  16,  86, 110,  67,  63,  47, 110,  63,  84,\n",
              "        80, 110,  54, 107,  63,  57, 107,   5, 110,  26,  88, 110,  61,\n",
              "       107,  16, 110,  87,  16,  70,  83,  12,  16,  88, 103, 103,  87,\n",
              "        79,   6,  83, 110, 107,  18,  16,  16,  90, 110,   6,  83, 110,\n",
              "        86,  16,  47, 110,  12,  79, 107, 110,  76,  83, 107, 110,  16,\n",
              "        86, 110,  63,  84,  88,  16,  84, 107, 110])"
            ]
          },
          "metadata": {
            "tags": []
          },
          "execution_count": 7
        }
      ]
    },
    {
      "cell_type": "markdown",
      "metadata": {
        "id": "VEzrUe5Qyjz8"
      },
      "source": [
        "##Step 2. One-hot encoding (15 points)"
      ]
    },
    {
      "cell_type": "markdown",
      "metadata": {
        "id": "azltQy-gceEl"
      },
      "source": [
        "LSTM expects one-hot encoded input, which means that each character is converted to an integer (via our created dictionary) and then converted to a vector, where a value 1 will be only on a corresponding position and the rest of the vector will be filled with zeros.\n",
        "\n",
        "Implement a function that does this kind of coding.\n"
      ]
    },
    {
      "cell_type": "code",
      "metadata": {
        "id": "OnahALhiceEl"
      },
      "source": [
        "def one_hot_encode(arr, n_labels):\n",
        "    \n",
        "    # arr - array of integers\n",
        "    # n_labels - number of labels (the size of a one-hot-encoded vector)\n",
        "\n",
        "    ## YOUR CODE HERE\n",
        "    one_hot = np.zeros((arr.size, n_labels), dtype = np.float32)\n",
        "\n",
        "    for i in range(one_hot.shape[0]):\n",
        "      one_hot[i][arr.flatten()[i]] = 1\n",
        "    \n",
        "    one_hot = one_hot.reshape((*arr.shape, n_labels))\n",
        "\n",
        "    return one_hot"
      ],
      "execution_count": 8,
      "outputs": []
    },
    {
      "cell_type": "code",
      "metadata": {
        "id": "L3lTdLKfceEl",
        "colab": {
          "base_uri": "https://localhost:8080/"
        },
        "outputId": "34d8d8f0-06a0-421f-d257-f28c8a1d1598"
      },
      "source": [
        "# check that the function works correctly\n",
        "test_indx = np.array([[7, 2, 5]])\n",
        "one_hot = one_hot_encode(test_indx, 8)\n",
        "\n",
        "print(one_hot)"
      ],
      "execution_count": 9,
      "outputs": [
        {
          "output_type": "stream",
          "text": [
            "[[[0. 0. 0. 0. 0. 0. 0. 1.]\n",
            "  [0. 0. 1. 0. 0. 0. 0. 0.]\n",
            "  [0. 0. 0. 0. 0. 1. 0. 0.]]]\n"
          ],
          "name": "stdout"
        }
      ]
    },
    {
      "cell_type": "markdown",
      "metadata": {
        "id": "G7qAGC8R0lF1"
      },
      "source": [
        "The output must be\n",
        "\n",
        "```\n",
        "[[[0. 0. 0. 0. 0. 0. 0. 1.]\n",
        "  [0. 0. 1. 0. 0. 0. 0. 0.]\n",
        "  [0. 0. 0. 0. 0. 1. 0. 0.]]]\n",
        "```"
      ]
    },
    {
      "cell_type": "markdown",
      "metadata": {
        "id": "_Qxw5Dg41HAO"
      },
      "source": [
        "##Step 3. Mini-batches (20 points)"
      ]
    },
    {
      "cell_type": "markdown",
      "metadata": {
        "id": "50zKx6pM43RB"
      },
      "source": [
        "To train the neural network, we will organize mini-batches as follows: divide the entire input sequence 'arr' by the desired number of subsequences (parameter `batch_size`), and send a sequence of length `seq_length` to the input of the network."
      ]
    },
    {
      "cell_type": "markdown",
      "metadata": {
        "id": "9YyL91CuceEl"
      },
      "source": [
        "<img src=\"https://github.com/udacity/deep-learning-v2-pytorch/blob/master/recurrent-neural-networks/char-rnn/assets/sequence_batching@1x.png?raw=1\" width=500px>\n"
      ]
    },
    {
      "cell_type": "markdown",
      "metadata": {
        "id": "xzTSxOr37JyR"
      },
      "source": [
        "### How to create mini-batches\n",
        "\n",
        "\n",
        "1.   Find the total number of batches `n_batches` that fit the text.\n",
        "2.   Discard all unnecessary text that does not fit into full batches.\n",
        "3.   Split text into `n_batches` batches'.\n",
        "4.   Get `x's` and `y`'s for a batch. Therefore, `y` is a version of `x` shifted by 1.\n",
        "\n"
      ]
    },
    {
      "cell_type": "code",
      "metadata": {
        "id": "8vmDKLiOceEl"
      },
      "source": [
        "def get_batches(arr, batch_size, seq_length):\n",
        "    # Create a generator that returns batches of size batch_size x seq_length\n",
        "    \n",
        "    batch_size_total = batch_size * seq_length\n",
        "    ## Get the number of batches we can make\n",
        "    n_batches = len(arr)//batch_size_total\n",
        "    ## YOUR CODE HERE\n",
        "    \n",
        "    ## Keep only enough characters to make full batches\n",
        "    arr = arr[:n_batches*batch_size_total]\n",
        "    ## YOUR CODE HERE\n",
        "    \n",
        "    ## Reshape into batch_size rows\n",
        "    arr = arr.reshape((batch_size, -1))\n",
        "    ## YOUR CODE HERE\n",
        "    \n",
        "    ## Iterate over the batches using a window of size seq_length\n",
        "    for n in range(0, arr.shape[1], seq_length):\n",
        "        x = arr[:, n:n+ seq_length]\n",
        "        ## YOUR CODE HERE\n",
        "        # The target is a version of x shifted by one (do not forget border conditions)\n",
        "        y = np.zeros_like(x)\n",
        "        if n + seq_length < x.shape[1]:\n",
        "          y[:,:-1], y[:,-1] = x[:, 1:], arr[:,n+seq_length]\n",
        "        else:\n",
        "          y[:,:-1], y[:,-1] = x[:, 1:], arr[:, 0]\n",
        "        yield x, y"
      ],
      "execution_count": 10,
      "outputs": []
    },
    {
      "cell_type": "markdown",
      "metadata": {
        "id": "s9uKOvbqceEl"
      },
      "source": [
        "Let's check how our function works."
      ]
    },
    {
      "cell_type": "code",
      "metadata": {
        "id": "qtKlLXi1ceEl"
      },
      "source": [
        "batches = get_batches(encoded, 4, 30)\n",
        "x, y = next(batches)"
      ],
      "execution_count": 11,
      "outputs": []
    },
    {
      "cell_type": "code",
      "metadata": {
        "id": "Rg5MUTqqceEl",
        "colab": {
          "base_uri": "https://localhost:8080/"
        },
        "outputId": "f9c46c53-11b9-4e4e-d040-cb475f357268"
      },
      "source": [
        "# printing out the first 10 items in a sequence\n",
        "print('x\\n', x[:10, :10])\n",
        "print('\\ny\\n', y[:10, :10])"
      ],
      "execution_count": 12,
      "outputs": [
        {
          "output_type": "stream",
          "text": [
            "x\n",
            " [[ 48 103  87  79 107 110  54  47  16  11]\n",
            " [110  27  23  41 107  47  16  47   0  83]\n",
            " [ 83 110  12  16 110  88  16  76  47 110]\n",
            " [107 110  79  63  80 110  12  16   5 110]]\n",
            "\n",
            "y\n",
            " [[103  87  79 107 110  54  47  16  11 107]\n",
            " [ 27  23  41 107  47  16  47   0  83 103]\n",
            " [110  12  16 110  88  16  76  47 110  23]\n",
            " [110  79  63  80 110  12  16   5 110  83]]\n"
          ],
          "name": "stdout"
        }
      ]
    },
    {
      "cell_type": "markdown",
      "metadata": {
        "id": "R_qHIAEIceEl"
      },
      "source": [
        "If you've implemented get_batches correctly, the result should look something like this (exact numbers may vary):\n",
        "```\n",
        "x\n",
        " [[ 48  94  12 110  32  96 107  34  18 106]\n",
        " [ 96  78   1  69  32  34  18  34  27   3]\n",
        " [  3  96   0  18  96  86  18 100  34  96]\n",
        " [ 32  96 110  42 101  96   0  18  19  96]]\n",
        "\n",
        "y\n",
        " [[ 94  12 110  32  96 107  34  18 106  32]\n",
        " [ 78   1  69  32  34  18  34  27   3  94]\n",
        " [ 96   0  18  96  86  18 100  34  96   1]\n",
        " [ 96 110  42 101  96   0  18  19  96   3]]\n",
        " ```\n",
        "Make sure the data is shifted one step for `y`."
      ]
    },
    {
      "cell_type": "markdown",
      "metadata": {
        "id": "tholjONVAJUa"
      },
      "source": [
        "##Step 4. Defining the network (40 points)"
      ]
    },
    {
      "cell_type": "markdown",
      "metadata": {
        "id": "E7s5eRaoceEl"
      },
      "source": [
        "### Model Architecture\n",
        "\n",
        "The proposed architecture is as follows:\n",
        "\n",
        "* Define an [LSTM layer](https://pytorch.org/docs/stable/generated/torch.nn.LSTM.html#torch.nn.LSTM) with `dropout=drop_prob` and `batch_first=True` (since we use batches)\n",
        "* Define a [Dropout layer](https://pytorch.org/docs/stable/generated/torch.nn.Dropout.html#torch.nn.Dropout) with `drop_prob`.\n",
        "* Define a [Linear layer](https://pytorch.org/docs/stable/generated/torch.nn.Linear.html#torch.nn.Linear) with `in_features=n_hidden` and `out_features` equals to number of characters."
      ]
    },
    {
      "cell_type": "code",
      "metadata": {
        "id": "HlTnDntHceEl",
        "colab": {
          "base_uri": "https://localhost:8080/"
        },
        "outputId": "3f5b1ff9-8c94-44be-dcc8-83166196e05b"
      },
      "source": [
        "# check if GPU is available\n",
        "train_on_gpu = torch.cuda.is_available()\n",
        "if(train_on_gpu):\n",
        "    print('Training on GPU')\n",
        "else: \n",
        "    print('No GPU available, training on CPU; consider making n_epochs very small.')"
      ],
      "execution_count": 13,
      "outputs": [
        {
          "output_type": "stream",
          "text": [
            "Training on GPU\n"
          ],
          "name": "stdout"
        }
      ]
    },
    {
      "cell_type": "code",
      "metadata": {
        "id": "lg-SvaGhceEl"
      },
      "source": [
        "class CharRNN(nn.Module):\n",
        "    \n",
        "    def __init__(self, tokens, n_hidden=256, n_layers=2,\n",
        "                               drop_prob=0.5, lr=0.001):\n",
        "        super().__init__()\n",
        "        self.drop_prob = drop_prob\n",
        "        self.n_layers = n_layers\n",
        "        self.n_hidden = n_hidden\n",
        "        self.lr = lr\n",
        "        \n",
        "        # creating character dictionaries\n",
        "        self.chars = tokens\n",
        "        self.int2char = dict(enumerate(self.chars))\n",
        "        self.char2int = {ch: ii for ii, ch in self.int2char.items()}\n",
        "        \n",
        "        # Define the LSTM layer\n",
        "        ## YOUR CODE HERE\n",
        "        self.lstm = nn.LSTM(len(self.chars), n_hidden, n_layers, dropout = drop_prob, batch_first=True)\n",
        "\n",
        "        # Define a dropout layer\n",
        "        ## YOUR CODE HERE\n",
        "        self.dropout = nn.Dropout(drop_prob)\n",
        "\n",
        "        # Define the final, fully-connected output layer\n",
        "        ## YOUR CODE HERE\n",
        "        self.fl = nn.Linear(n_hidden, len(self.chars))\n",
        "      \n",
        "    \n",
        "    def forward(self, x, hidden):\n",
        "        ''' Forward pass through the network. \n",
        "            These inputs are x, and the hidden/cell state `hidden`. '''\n",
        "                \n",
        "        # Get the outputs and the new hidden state from the lstm\n",
        "        ## YOUR CODE HERE\n",
        "        output, hidden = self.lstm(x, hidden)\n",
        "\n",
        "        # Pass through a dropout layer\n",
        "        ## YOUR CODE HERE\n",
        "        output = self.dropout(output)\n",
        "\n",
        "        # Stack up LSTM outputs using view\n",
        "        # you may need to use contiguous to reshape the output\n",
        "        ## YOUR CODE HERE\n",
        "        output = output.contiguous().view(-1, self.n_hidden)\n",
        "\n",
        "        # Put x through the fully-connected layer\n",
        "        ## YOUR CODE HERE\n",
        "        out = self.fl(output)\n",
        "\n",
        "        # return the final output and the hidden state\n",
        "        return out, hidden\n",
        "    \n",
        "    \n",
        "    def init_hidden(self, batch_size):\n",
        "        ''' Initializes hidden state '''\n",
        "        # Create two new tensors with sizes n_layers x batch_size x n_hidden,\n",
        "        # initialized to zero, for hidden state and cell state of LSTM\n",
        "        weight = next(self.parameters()).data\n",
        "        \n",
        "        if (train_on_gpu):\n",
        "            hidden = (weight.new(self.n_layers, batch_size, self.n_hidden).zero_().cuda(),\n",
        "                  weight.new(self.n_layers, batch_size, self.n_hidden).zero_().cuda())\n",
        "        else:\n",
        "            hidden = (weight.new(self.n_layers, batch_size, self.n_hidden).zero_(),\n",
        "                      weight.new(self.n_layers, batch_size, self.n_hidden).zero_())\n",
        "        \n",
        "        return hidden\n",
        "        "
      ],
      "execution_count": 14,
      "outputs": []
    },
    {
      "cell_type": "markdown",
      "metadata": {
        "id": "VPX7bf08EipB"
      },
      "source": [
        "##Step 5. Train the model (10 points)"
      ]
    },
    {
      "cell_type": "markdown",
      "metadata": {
        "id": "zBgcPj1mGOZN"
      },
      "source": [
        "We use Cross Entropy as a loss function, Adam as optimizer, and [`clip_grad_norm_`](https://pytorch.org/docs/stable/_modules/torch/nn/utils/clip_grad.html) to get rid of the gradient explosion."
      ]
    },
    {
      "cell_type": "code",
      "metadata": {
        "id": "lv8VkRI0ceEl"
      },
      "source": [
        "def train(net, data, epochs=10, batch_size=10, seq_length=50, lr=0.001, clip=5, val_frac=0.1, print_every=10):\n",
        "    ''' Training a network \n",
        "    \n",
        "        Arguments\n",
        "        ---------\n",
        "        lr: learning rate\n",
        "        clip: gradient clipping\n",
        "        val_frac: Fraction of data to hold out for validation\n",
        "        print_every: Number of steps for printing training and validation loss\n",
        "    \n",
        "    '''\n",
        "    net.train()\n",
        "    \n",
        "    opt = torch.optim.Adam(net.parameters(), lr=lr)\n",
        "    criterion = nn.CrossEntropyLoss()\n",
        "    \n",
        "    # create training and validation data\n",
        "    val_idx = int(len(data)*(1-val_frac))\n",
        "    data, val_data = data[:val_idx], data[val_idx:]\n",
        "    \n",
        "    if(train_on_gpu):\n",
        "        net.cuda()\n",
        "    \n",
        "    counter = 0\n",
        "    n_chars = len(net.chars)\n",
        "    for e in range(epochs):\n",
        "        # initialize hidden state\n",
        "        h = net.init_hidden(batch_size)\n",
        "        \n",
        "        for x, y in get_batches(data, batch_size, seq_length):\n",
        "            counter += 1\n",
        "            \n",
        "            # One-hot encode our data and make them Torch tensors\n",
        "            x = one_hot_encode(x, n_chars)\n",
        "            inputs, targets = torch.from_numpy(x), torch.from_numpy(y)\n",
        "            \n",
        "            if(train_on_gpu):\n",
        "                inputs, targets = inputs.cuda(), targets.cuda()\n",
        "\n",
        "            # Creating new variables for the hidden state, otherwise\n",
        "            # we'd backprop through the entire training history\n",
        "            h = tuple([each.data for each in h])\n",
        "\n",
        "            net.zero_grad()\n",
        "            \n",
        "            output, h = net(inputs, h)\n",
        "            \n",
        "            loss = criterion(output, targets.view(batch_size*seq_length).long())\n",
        "            loss.backward()\n",
        "\n",
        "            # `clip_grad_norm` helps prevent the exploding gradient problem in RNNs\n",
        "            nn.utils.clip_grad_norm_(net.parameters(), clip)\n",
        "            opt.step()\n",
        "            \n",
        "            # loss stats\n",
        "            if counter % print_every == 0:\n",
        "                # Get validation loss\n",
        "                val_h = net.init_hidden(batch_size)\n",
        "                val_losses = []\n",
        "                net.eval()\n",
        "                for x, y in get_batches(val_data, batch_size, seq_length):\n",
        "                    # One-hot encode our data and make them Torch tensors\n",
        "                    x = one_hot_encode(x, n_chars)\n",
        "                    x, y = torch.from_numpy(x), torch.from_numpy(y)\n",
        "                    \n",
        "                    # Creating new variables for the hidden state, otherwise\n",
        "                    # we'd backprop through the entire training history\n",
        "                    val_h = tuple([each.data for each in val_h])\n",
        "                    \n",
        "                    inputs, targets = x, y\n",
        "                    if(train_on_gpu):\n",
        "                        inputs, targets = inputs.cuda(), targets.cuda()\n",
        "\n",
        "                    output, val_h = net(inputs, val_h)\n",
        "                    val_loss = criterion(output, targets.view(batch_size*seq_length).long())\n",
        "                \n",
        "                    val_losses.append(val_loss.item())\n",
        "                \n",
        "                net.train() # reset to train mode after iterationg through validation data\n",
        "                \n",
        "                print(\"Epoch: {}/{}...\".format(e+1, epochs),\n",
        "                      \"Step: {}...\".format(counter),\n",
        "                      \"Loss: {:.4f}...\".format(loss.item()),\n",
        "                      \"Val Loss: {:.4f}\".format(np.mean(val_losses)))"
      ],
      "execution_count": 15,
      "outputs": []
    },
    {
      "cell_type": "markdown",
      "metadata": {
        "id": "Gt0q4KGEceEm"
      },
      "source": [
        "Initialize the model and set hyperparameters."
      ]
    },
    {
      "cell_type": "code",
      "metadata": {
        "id": "OOgs59nDceEm",
        "colab": {
          "base_uri": "https://localhost:8080/"
        },
        "outputId": "37b427df-81bf-4ee7-dabf-946c811417a1"
      },
      "source": [
        "# Set your model hyperparameters\n",
        "\n",
        "n_hidden = 512\n",
        "## YOUR CODE HERE\n",
        "n_layers =2\n",
        " ## YOUR CODE HERE\n",
        "\n",
        "net = CharRNN(chars, n_hidden, n_layers)\n",
        "print(net)"
      ],
      "execution_count": 16,
      "outputs": [
        {
          "output_type": "stream",
          "text": [
            "CharRNN(\n",
            "  (lstm): LSTM(111, 512, num_layers=2, batch_first=True, dropout=0.5)\n",
            "  (dropout): Dropout(p=0.5, inplace=False)\n",
            "  (fl): Linear(in_features=512, out_features=111, bias=True)\n",
            ")\n"
          ],
          "name": "stdout"
        }
      ]
    },
    {
      "cell_type": "markdown",
      "metadata": {
        "id": "XHy6mECuceEm"
      },
      "source": [
        "Set training hyperparameters."
      ]
    },
    {
      "cell_type": "code",
      "metadata": {
        "scrolled": true,
        "id": "ABqi9klKceEm",
        "colab": {
          "base_uri": "https://localhost:8080/"
        },
        "outputId": "5b4cb0d8-d661-462e-fbcd-ddaa2d630cbe"
      },
      "source": [
        "batch_size = 128\n",
        "## YOUR CODE HERE\n",
        "seq_length = 100\n",
        "## YOUR CODE HERE\n",
        "# start small if you are just testing initial behavior\n",
        "n_epochs = 10\n",
        "## YOUR CODE HERE\n",
        "\n",
        "# train the model\n",
        "train(net, encoded, epochs=n_epochs, batch_size=batch_size, seq_length=seq_length, lr=0.001, print_every=10)"
      ],
      "execution_count": 17,
      "outputs": [
        {
          "output_type": "stream",
          "text": [
            "Epoch: 1/10... Step: 10... Loss: 3.2849... Val Loss: 3.1903\n",
            "Epoch: 1/10... Step: 20... Loss: 3.2222... Val Loss: 3.1240\n",
            "Epoch: 1/10... Step: 30... Loss: 3.1799... Val Loss: 3.1088\n",
            "Epoch: 1/10... Step: 40... Loss: 3.1658... Val Loss: 3.1015\n",
            "Epoch: 1/10... Step: 50... Loss: 3.1607... Val Loss: 3.1026\n",
            "Epoch: 1/10... Step: 60... Loss: 3.1644... Val Loss: 3.1007\n",
            "Epoch: 1/10... Step: 70... Loss: 3.1567... Val Loss: 3.0994\n",
            "Epoch: 1/10... Step: 80... Loss: 3.1330... Val Loss: 3.0962\n",
            "Epoch: 1/10... Step: 90... Loss: 3.1437... Val Loss: 3.0921\n",
            "Epoch: 1/10... Step: 100... Loss: 3.1214... Val Loss: 3.0861\n",
            "Epoch: 1/10... Step: 110... Loss: 3.0975... Val Loss: 3.0711\n",
            "Epoch: 1/10... Step: 120... Loss: 3.0776... Val Loss: 3.0369\n",
            "Epoch: 1/10... Step: 130... Loss: 3.0455... Val Loss: 2.9767\n",
            "Epoch: 1/10... Step: 140... Loss: 2.9293... Val Loss: 2.8707\n",
            "Epoch: 1/10... Step: 150... Loss: 2.8035... Val Loss: 2.8105\n",
            "Epoch: 1/10... Step: 160... Loss: 2.7326... Val Loss: 2.6859\n",
            "Epoch: 1/10... Step: 170... Loss: 2.6807... Val Loss: 2.6071\n",
            "Epoch: 1/10... Step: 180... Loss: 2.6071... Val Loss: 2.5477\n",
            "Epoch: 1/10... Step: 190... Loss: 2.5688... Val Loss: 2.5087\n",
            "Epoch: 1/10... Step: 200... Loss: 2.5160... Val Loss: 2.4730\n",
            "Epoch: 1/10... Step: 210... Loss: 2.4769... Val Loss: 2.4495\n",
            "Epoch: 1/10... Step: 220... Loss: 2.4494... Val Loss: 2.4110\n",
            "Epoch: 2/10... Step: 230... Loss: 2.4503... Val Loss: 2.3898\n",
            "Epoch: 2/10... Step: 240... Loss: 2.4295... Val Loss: 2.3649\n",
            "Epoch: 2/10... Step: 250... Loss: 2.3798... Val Loss: 2.3519\n",
            "Epoch: 2/10... Step: 260... Loss: 2.3815... Val Loss: 2.3194\n",
            "Epoch: 2/10... Step: 270... Loss: 2.3556... Val Loss: 2.2970\n",
            "Epoch: 2/10... Step: 280... Loss: 2.3342... Val Loss: 2.2744\n",
            "Epoch: 2/10... Step: 290... Loss: 2.2832... Val Loss: 2.2601\n",
            "Epoch: 2/10... Step: 300... Loss: 2.2919... Val Loss: 2.2401\n",
            "Epoch: 2/10... Step: 310... Loss: 2.2579... Val Loss: 2.2169\n",
            "Epoch: 2/10... Step: 320... Loss: 2.2941... Val Loss: 2.2018\n",
            "Epoch: 2/10... Step: 330... Loss: 2.2837... Val Loss: 2.1886\n",
            "Epoch: 2/10... Step: 340... Loss: 2.2077... Val Loss: 2.1709\n",
            "Epoch: 2/10... Step: 350... Loss: 2.2106... Val Loss: 2.1562\n",
            "Epoch: 2/10... Step: 360... Loss: 2.1757... Val Loss: 2.1413\n",
            "Epoch: 2/10... Step: 370... Loss: 2.1622... Val Loss: 2.1247\n",
            "Epoch: 2/10... Step: 380... Loss: 2.1598... Val Loss: 2.1101\n",
            "Epoch: 2/10... Step: 390... Loss: 2.1250... Val Loss: 2.0962\n",
            "Epoch: 2/10... Step: 400... Loss: 2.1321... Val Loss: 2.0819\n",
            "Epoch: 2/10... Step: 410... Loss: 2.1294... Val Loss: 2.0674\n",
            "Epoch: 2/10... Step: 420... Loss: 2.1183... Val Loss: 2.0592\n",
            "Epoch: 2/10... Step: 430... Loss: 2.0897... Val Loss: 2.0428\n",
            "Epoch: 2/10... Step: 440... Loss: 2.1002... Val Loss: 2.0316\n",
            "Epoch: 2/10... Step: 450... Loss: 2.0530... Val Loss: 2.0254\n",
            "Epoch: 3/10... Step: 460... Loss: 2.0492... Val Loss: 2.0069\n",
            "Epoch: 3/10... Step: 470... Loss: 2.0237... Val Loss: 2.0014\n",
            "Epoch: 3/10... Step: 480... Loss: 2.0662... Val Loss: 1.9872\n",
            "Epoch: 3/10... Step: 490... Loss: 2.0146... Val Loss: 1.9785\n",
            "Epoch: 3/10... Step: 500... Loss: 1.9954... Val Loss: 1.9687\n",
            "Epoch: 3/10... Step: 510... Loss: 2.0176... Val Loss: 1.9599\n",
            "Epoch: 3/10... Step: 520... Loss: 1.9750... Val Loss: 1.9478\n",
            "Epoch: 3/10... Step: 530... Loss: 1.9884... Val Loss: 1.9427\n",
            "Epoch: 3/10... Step: 540... Loss: 1.9729... Val Loss: 1.9271\n",
            "Epoch: 3/10... Step: 550... Loss: 1.9843... Val Loss: 1.9199\n",
            "Epoch: 3/10... Step: 560... Loss: 1.9542... Val Loss: 1.9119\n",
            "Epoch: 3/10... Step: 570... Loss: 1.9854... Val Loss: 1.9002\n",
            "Epoch: 3/10... Step: 580... Loss: 1.9605... Val Loss: 1.8958\n",
            "Epoch: 3/10... Step: 590... Loss: 1.9157... Val Loss: 1.8852\n",
            "Epoch: 3/10... Step: 600... Loss: 1.9268... Val Loss: 1.8819\n",
            "Epoch: 3/10... Step: 610... Loss: 1.8895... Val Loss: 1.8710\n",
            "Epoch: 3/10... Step: 620... Loss: 1.9179... Val Loss: 1.8609\n",
            "Epoch: 3/10... Step: 630... Loss: 1.9193... Val Loss: 1.8544\n",
            "Epoch: 3/10... Step: 640... Loss: 1.9341... Val Loss: 1.8465\n",
            "Epoch: 3/10... Step: 650... Loss: 1.8622... Val Loss: 1.8390\n",
            "Epoch: 3/10... Step: 660... Loss: 1.8797... Val Loss: 1.8306\n",
            "Epoch: 3/10... Step: 670... Loss: 1.8874... Val Loss: 1.8198\n",
            "Epoch: 4/10... Step: 680... Loss: 1.8729... Val Loss: 1.8342\n",
            "Epoch: 4/10... Step: 690... Loss: 1.8778... Val Loss: 1.8116\n",
            "Epoch: 4/10... Step: 700... Loss: 1.8541... Val Loss: 1.8046\n",
            "Epoch: 4/10... Step: 710... Loss: 1.8530... Val Loss: 1.7954\n",
            "Epoch: 4/10... Step: 720... Loss: 1.8536... Val Loss: 1.7851\n",
            "Epoch: 4/10... Step: 730... Loss: 1.8172... Val Loss: 1.7811\n",
            "Epoch: 4/10... Step: 740... Loss: 1.8163... Val Loss: 1.7749\n",
            "Epoch: 4/10... Step: 750... Loss: 1.7813... Val Loss: 1.7678\n",
            "Epoch: 4/10... Step: 760... Loss: 1.8189... Val Loss: 1.7633\n",
            "Epoch: 4/10... Step: 770... Loss: 1.8290... Val Loss: 1.7575\n",
            "Epoch: 4/10... Step: 780... Loss: 1.8210... Val Loss: 1.7540\n",
            "Epoch: 4/10... Step: 790... Loss: 1.7570... Val Loss: 1.7467\n",
            "Epoch: 4/10... Step: 800... Loss: 1.7831... Val Loss: 1.7428\n",
            "Epoch: 4/10... Step: 810... Loss: 1.7368... Val Loss: 1.7378\n",
            "Epoch: 4/10... Step: 820... Loss: 1.7593... Val Loss: 1.7341\n",
            "Epoch: 4/10... Step: 830... Loss: 1.7494... Val Loss: 1.7309\n",
            "Epoch: 4/10... Step: 840... Loss: 1.7483... Val Loss: 1.7240\n",
            "Epoch: 4/10... Step: 850... Loss: 1.8015... Val Loss: 1.7162\n",
            "Epoch: 4/10... Step: 860... Loss: 1.7881... Val Loss: 1.7118\n",
            "Epoch: 4/10... Step: 870... Loss: 1.7639... Val Loss: 1.7123\n",
            "Epoch: 4/10... Step: 880... Loss: 1.7310... Val Loss: 1.7030\n",
            "Epoch: 4/10... Step: 890... Loss: 1.7551... Val Loss: 1.6980\n",
            "Epoch: 4/10... Step: 900... Loss: 1.7658... Val Loss: 1.6916\n",
            "Epoch: 5/10... Step: 910... Loss: 1.7587... Val Loss: 1.6866\n",
            "Epoch: 5/10... Step: 920... Loss: 1.7246... Val Loss: 1.6793\n",
            "Epoch: 5/10... Step: 930... Loss: 1.7386... Val Loss: 1.6757\n",
            "Epoch: 5/10... Step: 940... Loss: 1.7432... Val Loss: 1.6703\n",
            "Epoch: 5/10... Step: 950... Loss: 1.7490... Val Loss: 1.6673\n",
            "Epoch: 5/10... Step: 960... Loss: 1.6939... Val Loss: 1.6637\n",
            "Epoch: 5/10... Step: 970... Loss: 1.6955... Val Loss: 1.6608\n",
            "Epoch: 5/10... Step: 980... Loss: 1.7014... Val Loss: 1.6526\n",
            "Epoch: 5/10... Step: 990... Loss: 1.6991... Val Loss: 1.6505\n",
            "Epoch: 5/10... Step: 1000... Loss: 1.6965... Val Loss: 1.6468\n",
            "Epoch: 5/10... Step: 1010... Loss: 1.6745... Val Loss: 1.6432\n",
            "Epoch: 5/10... Step: 1020... Loss: 1.6898... Val Loss: 1.6390\n",
            "Epoch: 5/10... Step: 1030... Loss: 1.6736... Val Loss: 1.6385\n",
            "Epoch: 5/10... Step: 1040... Loss: 1.6561... Val Loss: 1.6334\n",
            "Epoch: 5/10... Step: 1050... Loss: 1.6281... Val Loss: 1.6320\n",
            "Epoch: 5/10... Step: 1060... Loss: 1.6523... Val Loss: 1.6299\n",
            "Epoch: 5/10... Step: 1070... Loss: 1.6735... Val Loss: 1.6292\n",
            "Epoch: 5/10... Step: 1080... Loss: 1.6568... Val Loss: 1.6183\n",
            "Epoch: 5/10... Step: 1090... Loss: 1.6757... Val Loss: 1.6166\n",
            "Epoch: 5/10... Step: 1100... Loss: 1.6558... Val Loss: 1.6154\n",
            "Epoch: 5/10... Step: 1110... Loss: 1.6537... Val Loss: 1.6103\n",
            "Epoch: 5/10... Step: 1120... Loss: 1.6515... Val Loss: 1.6058\n",
            "Epoch: 5/10... Step: 1130... Loss: 1.6510... Val Loss: 1.6040\n",
            "Epoch: 6/10... Step: 1140... Loss: 1.6288... Val Loss: 1.5932\n",
            "Epoch: 6/10... Step: 1150... Loss: 1.6411... Val Loss: 1.5954\n",
            "Epoch: 6/10... Step: 1160... Loss: 1.6258... Val Loss: 1.5940\n",
            "Epoch: 6/10... Step: 1170... Loss: 1.6304... Val Loss: 1.5850\n",
            "Epoch: 6/10... Step: 1180... Loss: 1.6175... Val Loss: 1.5868\n",
            "Epoch: 6/10... Step: 1190... Loss: 1.6045... Val Loss: 1.5831\n",
            "Epoch: 6/10... Step: 1200... Loss: 1.6316... Val Loss: 1.5806\n",
            "Epoch: 6/10... Step: 1210... Loss: 1.6027... Val Loss: 1.5784\n",
            "Epoch: 6/10... Step: 1220... Loss: 1.5864... Val Loss: 1.5738\n",
            "Epoch: 6/10... Step: 1230... Loss: 1.6233... Val Loss: 1.5709\n",
            "Epoch: 6/10... Step: 1240... Loss: 1.5833... Val Loss: 1.5679\n",
            "Epoch: 6/10... Step: 1250... Loss: 1.6117... Val Loss: 1.5664\n",
            "Epoch: 6/10... Step: 1260... Loss: 1.6038... Val Loss: 1.5662\n",
            "Epoch: 6/10... Step: 1270... Loss: 1.6149... Val Loss: 1.5621\n",
            "Epoch: 6/10... Step: 1280... Loss: 1.5543... Val Loss: 1.5606\n",
            "Epoch: 6/10... Step: 1290... Loss: 1.5880... Val Loss: 1.5575\n",
            "Epoch: 6/10... Step: 1300... Loss: 1.5748... Val Loss: 1.5546\n",
            "Epoch: 6/10... Step: 1310... Loss: 1.5945... Val Loss: 1.5504\n",
            "Epoch: 6/10... Step: 1320... Loss: 1.6007... Val Loss: 1.5513\n",
            "Epoch: 6/10... Step: 1330... Loss: 1.5760... Val Loss: 1.5458\n",
            "Epoch: 6/10... Step: 1340... Loss: 1.5929... Val Loss: 1.5479\n",
            "Epoch: 6/10... Step: 1350... Loss: 1.5766... Val Loss: 1.5393\n",
            "Epoch: 7/10... Step: 1360... Loss: 1.5762... Val Loss: 1.5368\n",
            "Epoch: 7/10... Step: 1370... Loss: 1.5655... Val Loss: 1.5346\n",
            "Epoch: 7/10... Step: 1380... Loss: 1.5534... Val Loss: 1.5294\n",
            "Epoch: 7/10... Step: 1390... Loss: 1.5576... Val Loss: 1.5292\n",
            "Epoch: 7/10... Step: 1400... Loss: 1.5866... Val Loss: 1.5299\n",
            "Epoch: 7/10... Step: 1410... Loss: 1.5785... Val Loss: 1.5243\n",
            "Epoch: 7/10... Step: 1420... Loss: 1.5403... Val Loss: 1.5249\n",
            "Epoch: 7/10... Step: 1430... Loss: 1.5616... Val Loss: 1.5227\n",
            "Epoch: 7/10... Step: 1440... Loss: 1.5319... Val Loss: 1.5210\n",
            "Epoch: 7/10... Step: 1450... Loss: 1.5943... Val Loss: 1.5174\n",
            "Epoch: 7/10... Step: 1460... Loss: 1.5662... Val Loss: 1.5165\n",
            "Epoch: 7/10... Step: 1470... Loss: 1.5374... Val Loss: 1.5138\n",
            "Epoch: 7/10... Step: 1480... Loss: 1.5390... Val Loss: 1.5142\n",
            "Epoch: 7/10... Step: 1490... Loss: 1.5277... Val Loss: 1.5133\n",
            "Epoch: 7/10... Step: 1500... Loss: 1.5374... Val Loss: 1.5127\n",
            "Epoch: 7/10... Step: 1510... Loss: 1.5227... Val Loss: 1.5082\n",
            "Epoch: 7/10... Step: 1520... Loss: 1.5224... Val Loss: 1.5085\n",
            "Epoch: 7/10... Step: 1530... Loss: 1.5413... Val Loss: 1.5055\n",
            "Epoch: 7/10... Step: 1540... Loss: 1.5345... Val Loss: 1.5022\n",
            "Epoch: 7/10... Step: 1550... Loss: 1.5579... Val Loss: 1.5016\n",
            "Epoch: 7/10... Step: 1560... Loss: 1.5156... Val Loss: 1.5020\n",
            "Epoch: 7/10... Step: 1570... Loss: 1.5158... Val Loss: 1.4949\n",
            "Epoch: 7/10... Step: 1580... Loss: 1.4986... Val Loss: 1.4918\n",
            "Epoch: 8/10... Step: 1590... Loss: 1.5085... Val Loss: 1.4938\n",
            "Epoch: 8/10... Step: 1600... Loss: 1.4915... Val Loss: 1.4877\n",
            "Epoch: 8/10... Step: 1610... Loss: 1.5264... Val Loss: 1.4851\n",
            "Epoch: 8/10... Step: 1620... Loss: 1.5063... Val Loss: 1.4831\n",
            "Epoch: 8/10... Step: 1630... Loss: 1.4953... Val Loss: 1.4825\n",
            "Epoch: 8/10... Step: 1640... Loss: 1.5110... Val Loss: 1.4847\n",
            "Epoch: 8/10... Step: 1650... Loss: 1.4678... Val Loss: 1.4810\n",
            "Epoch: 8/10... Step: 1660... Loss: 1.4989... Val Loss: 1.4812\n",
            "Epoch: 8/10... Step: 1670... Loss: 1.4840... Val Loss: 1.4837\n",
            "Epoch: 8/10... Step: 1680... Loss: 1.5052... Val Loss: 1.4766\n",
            "Epoch: 8/10... Step: 1690... Loss: 1.5056... Val Loss: 1.4784\n",
            "Epoch: 8/10... Step: 1700... Loss: 1.5140... Val Loss: 1.4726\n",
            "Epoch: 8/10... Step: 1710... Loss: 1.5117... Val Loss: 1.4703\n",
            "Epoch: 8/10... Step: 1720... Loss: 1.4611... Val Loss: 1.4744\n",
            "Epoch: 8/10... Step: 1730... Loss: 1.4783... Val Loss: 1.4715\n",
            "Epoch: 8/10... Step: 1740... Loss: 1.4568... Val Loss: 1.4681\n",
            "Epoch: 8/10... Step: 1750... Loss: 1.4739... Val Loss: 1.4690\n",
            "Epoch: 8/10... Step: 1760... Loss: 1.5130... Val Loss: 1.4620\n",
            "Epoch: 8/10... Step: 1770... Loss: 1.5381... Val Loss: 1.4645\n",
            "Epoch: 8/10... Step: 1780... Loss: 1.4776... Val Loss: 1.4686\n",
            "Epoch: 8/10... Step: 1790... Loss: 1.4768... Val Loss: 1.4629\n",
            "Epoch: 8/10... Step: 1800... Loss: 1.4950... Val Loss: 1.4580\n",
            "Epoch: 9/10... Step: 1810... Loss: 1.5007... Val Loss: 1.4580\n",
            "Epoch: 9/10... Step: 1820... Loss: 1.4845... Val Loss: 1.4519\n",
            "Epoch: 9/10... Step: 1830... Loss: 1.4659... Val Loss: 1.4518\n",
            "Epoch: 9/10... Step: 1840... Loss: 1.4739... Val Loss: 1.4494\n",
            "Epoch: 9/10... Step: 1850... Loss: 1.4852... Val Loss: 1.4473\n",
            "Epoch: 9/10... Step: 1860... Loss: 1.4495... Val Loss: 1.4476\n",
            "Epoch: 9/10... Step: 1870... Loss: 1.4572... Val Loss: 1.4468\n",
            "Epoch: 9/10... Step: 1880... Loss: 1.4369... Val Loss: 1.4452\n",
            "Epoch: 9/10... Step: 1890... Loss: 1.4559... Val Loss: 1.4454\n",
            "Epoch: 9/10... Step: 1900... Loss: 1.4864... Val Loss: 1.4458\n",
            "Epoch: 9/10... Step: 1910... Loss: 1.4709... Val Loss: 1.4447\n",
            "Epoch: 9/10... Step: 1920... Loss: 1.4289... Val Loss: 1.4434\n",
            "Epoch: 9/10... Step: 1930... Loss: 1.4512... Val Loss: 1.4452\n",
            "Epoch: 9/10... Step: 1940... Loss: 1.4137... Val Loss: 1.4408\n",
            "Epoch: 9/10... Step: 1950... Loss: 1.4355... Val Loss: 1.4435\n",
            "Epoch: 9/10... Step: 1960... Loss: 1.4229... Val Loss: 1.4426\n",
            "Epoch: 9/10... Step: 1970... Loss: 1.4301... Val Loss: 1.4412\n",
            "Epoch: 9/10... Step: 1980... Loss: 1.4947... Val Loss: 1.4395\n",
            "Epoch: 9/10... Step: 1990... Loss: 1.4846... Val Loss: 1.4334\n",
            "Epoch: 9/10... Step: 2000... Loss: 1.4612... Val Loss: 1.4370\n",
            "Epoch: 9/10... Step: 2010... Loss: 1.4465... Val Loss: 1.4333\n",
            "Epoch: 9/10... Step: 2020... Loss: 1.4607... Val Loss: 1.4304\n",
            "Epoch: 9/10... Step: 2030... Loss: 1.4880... Val Loss: 1.4290\n",
            "Epoch: 10/10... Step: 2040... Loss: 1.4876... Val Loss: 1.4238\n",
            "Epoch: 10/10... Step: 2050... Loss: 1.4290... Val Loss: 1.4230\n",
            "Epoch: 10/10... Step: 2060... Loss: 1.4701... Val Loss: 1.4210\n",
            "Epoch: 10/10... Step: 2070... Loss: 1.4717... Val Loss: 1.4249\n",
            "Epoch: 10/10... Step: 2080... Loss: 1.4880... Val Loss: 1.4238\n",
            "Epoch: 10/10... Step: 2090... Loss: 1.4106... Val Loss: 1.4215\n",
            "Epoch: 10/10... Step: 2100... Loss: 1.4413... Val Loss: 1.4225\n",
            "Epoch: 10/10... Step: 2110... Loss: 1.4374... Val Loss: 1.4195\n",
            "Epoch: 10/10... Step: 2120... Loss: 1.4459... Val Loss: 1.4186\n",
            "Epoch: 10/10... Step: 2130... Loss: 1.4448... Val Loss: 1.4216\n",
            "Epoch: 10/10... Step: 2140... Loss: 1.4139... Val Loss: 1.4168\n",
            "Epoch: 10/10... Step: 2150... Loss: 1.4401... Val Loss: 1.4168\n",
            "Epoch: 10/10... Step: 2160... Loss: 1.4374... Val Loss: 1.4153\n",
            "Epoch: 10/10... Step: 2170... Loss: 1.4089... Val Loss: 1.4180\n",
            "Epoch: 10/10... Step: 2180... Loss: 1.3834... Val Loss: 1.4193\n",
            "Epoch: 10/10... Step: 2190... Loss: 1.4247... Val Loss: 1.4147\n",
            "Epoch: 10/10... Step: 2200... Loss: 1.4342... Val Loss: 1.4150\n",
            "Epoch: 10/10... Step: 2210... Loss: 1.4276... Val Loss: 1.4141\n",
            "Epoch: 10/10... Step: 2220... Loss: 1.4457... Val Loss: 1.4143\n",
            "Epoch: 10/10... Step: 2230... Loss: 1.4316... Val Loss: 1.4112\n",
            "Epoch: 10/10... Step: 2240... Loss: 1.4294... Val Loss: 1.4094\n",
            "Epoch: 10/10... Step: 2250... Loss: 1.4284... Val Loss: 1.4089\n",
            "Epoch: 10/10... Step: 2260... Loss: 1.4314... Val Loss: 1.4089\n"
          ],
          "name": "stdout"
        }
      ]
    },
    {
      "cell_type": "markdown",
      "metadata": {
        "id": "n-Nqbv1CICR7"
      },
      "source": [
        "##Step 6. Making Predictions"
      ]
    },
    {
      "cell_type": "markdown",
      "metadata": {
        "id": "K2sJhx5iceEm"
      },
      "source": [
        "Now that the model is trained, we want to predict the next character for the sequence of input symbols. We pass a character as input, and the network predicts the next character. Then we take that character, pass it as input, and get another predicted character, and so on.\n",
        "\n",
        "### Details of a `predict`  function\n",
        "\n",
        "Our RNN's output comes from a fully connected layer and outputs the **distribution of the next character scores**. To actually get the next character, we use the softmax function, which gives us a **probability** distribution that we can then choose to predict the next character.\n",
        "\n",
        "**Top K sampling**\n",
        "\n",
        "Our predictions are based on a categorical distribution of probabilities for all possible characters. We can make the sampling process smarter by looking at only some of the most likely $K$ characters. This will prevent the network from giving us completely absurd characters, and will also allow some noise and randomness to be introduced into the selected text. This technique is called [top K](https://pytorch.org/docs/stable/generated/torch.topk.html#torch.topk) sampling."
      ]
    },
    {
      "cell_type": "code",
      "metadata": {
        "id": "QEIRW_B2ceEm"
      },
      "source": [
        "def predict(net, char, h=None, top_k=None):\n",
        "        ''' Given a character, predict the next character.\n",
        "            Returns the predicted character and the hidden state.\n",
        "        '''\n",
        "        \n",
        "        # tensor inputs\n",
        "        x = np.array([[net.char2int[char]]])\n",
        "        x = one_hot_encode(x, len(net.chars))\n",
        "        inputs = torch.from_numpy(x)\n",
        "        \n",
        "        if(train_on_gpu):\n",
        "            inputs = inputs.cuda()\n",
        "        \n",
        "        # detach hidden state from history\n",
        "        h = tuple([each.data for each in h])\n",
        "        # get the output of the model\n",
        "        out, h = net(inputs, h)\n",
        "\n",
        "        # get the character probabilities\n",
        "        p = F.softmax(out, dim=1).data\n",
        "        if(train_on_gpu):\n",
        "            p = p.cpu() # move to cpu\n",
        "        \n",
        "        # get top characters\n",
        "        if top_k is None:\n",
        "            top_ch = np.arange(len(net.chars))\n",
        "        else:\n",
        "            p, top_ch = p.topk(top_k)\n",
        "            top_ch = top_ch.numpy().squeeze()\n",
        "        \n",
        "        # select the likely next character with some element of randomness\n",
        "        p = p.numpy().squeeze()\n",
        "        char = np.random.choice(top_ch, p=p/p.sum())\n",
        "        \n",
        "        # return the encoded value of the predicted char and the hidden state\n",
        "        return net.int2char[char], h"
      ],
      "execution_count": 18,
      "outputs": []
    },
    {
      "cell_type": "markdown",
      "metadata": {
        "id": "OG38j3gQceEm"
      },
      "source": [
        "To generate the text, you need to feed the initial characters, let's call them `prime`."
      ]
    },
    {
      "cell_type": "code",
      "metadata": {
        "id": "P9vpB5gRceEm"
      },
      "source": [
        "def sample(net, size, prime='The', top_k=None):\n",
        "        \n",
        "    if(train_on_gpu):\n",
        "        net.cuda()\n",
        "    else:\n",
        "        net.cpu()\n",
        "    \n",
        "    net.eval() # eval mode\n",
        "    \n",
        "    # First off, run through the prime characters\n",
        "    chars = [ch for ch in prime]\n",
        "    h = net.init_hidden(1)\n",
        "    for ch in prime:\n",
        "        char, h = predict(net, ch, h, top_k=top_k)\n",
        "\n",
        "    chars.append(char)\n",
        "    \n",
        "    # Now pass in the previous character and get a new one\n",
        "    for ii in range(size):\n",
        "        char, h = predict(net, chars[-1], h, top_k=top_k)\n",
        "        chars.append(char)\n",
        "\n",
        "    return ''.join(chars)"
      ],
      "execution_count": 19,
      "outputs": []
    },
    {
      "cell_type": "code",
      "metadata": {
        "id": "BqmFA9eEceEm",
        "colab": {
          "base_uri": "https://localhost:8080/"
        },
        "outputId": "e43aa6e6-544e-4e7b-fae3-9482f772298c"
      },
      "source": [
        "print(sample(net, 1000, prime='Anna', top_k=5))"
      ],
      "execution_count": 20,
      "outputs": [
        {
          "output_type": "stream",
          "text": [
            "Anna\n",
            "Pávlovna\n",
            "and was a silent and however to see a moment.\n",
            "\n",
            "The countess was surprised to his seat,” said the sat for the care to be weated to the story for the fire a stirtly of the proposable of hands and seemed to the seem and shill be a commander of this porthal to ask the other.\n",
            "\n",
            "“Yas a sincere and the son’s, tower the same thin to say.”\n",
            "\n",
            "“Though they’s army that the princess would the burning all the soul and see him on the compary to the carried to\n",
            "to stay their\n",
            "man, asking... he asked the soldiers in the day, the old prince were to be truthing on him. And what a stranger and the sine, are they\n",
            "days or the military.”\n",
            "\n",
            "“I am the countess it in the death of your began, becais he should heard it,” she and and went in the door of a convincation.\n",
            "\n",
            "“I am such a street,” said the countess, “I see, I said the officers was says...” said\n",
            "the countess. Prunce Andrew ran ang reasons thereew the sighitic of all the streets, and the war and they showing\n",
            "herself\n",
            "to be as if any dispited out and sa\n"
          ],
          "name": "stdout"
        }
      ]
    },
    {
      "cell_type": "code",
      "metadata": {
        "id": "TH1ag4h1ceEm"
      },
      "source": [
        ""
      ],
      "execution_count": null,
      "outputs": []
    }
  ]
}