{
 "cells": [
  {
   "cell_type": "code",
   "execution_count": 6,
   "metadata": {},
   "outputs": [
    {
     "data": {
      "text/plain": [
       "Index(['2000q1', '2000q1', '2000q1', '2000q2', '2000q2', '2000q2', '2000q3',\n",
       "       '2000q3', '2000q3', '2000q4',\n",
       "       ...\n",
       "       '2015q4', '2015q4', '2016q1', '2016q1', '2016q1', '2016q2', '2016q2',\n",
       "       '2016q2', '2016q3', '2016q3'],\n",
       "      dtype='object', length=200)"
      ]
     },
     "execution_count": 6,
     "metadata": {},
     "output_type": "execute_result"
    }
   ],
   "source": [
    "import numpy as np\n",
    "import pandas as pd\n",
    "\n",
    "def convert_housing_data_to_quarters():\n",
    "    '''Converts the housing data to quarters and returns it as mean \n",
    "    values in a dataframe. The resulting dataframe should have 67 \n",
    "    columns, and 10,730 rows.\n",
    "    '''\n",
    "    all_homes = pd.read_csv('City_Zhvi_AllHomes.csv')\n",
    "    all_homes.drop(all_homes.filter(regex='19').columns, axis=1, inplace=True)\n",
    "    all_homes.columns = (all_homes.columns.str.replace('-01', 'q1').str.replace('-02', 'q1')\n",
    "                         .str.replace('-03', 'q1').str.replace('-04', 'q2').str.replace('-05', 'q2')\n",
    "                         .str.replace('-06', 'q2').str.replace('-07', 'q3').str.replace('-08', 'q3')\n",
    "                         .str.replace('-09', 'q3').str.replace('-10', 'q4').str.replace('-11', 'q4')\n",
    "                         .str.replace('-12', 'q4'))\n",
    "    all_homes = (all_homes.set_index(['State','RegionName'], drop=True)\n",
    "               .drop(['RegionID','Metro','CountyName','SizeRank'],axis=1))          \n",
    "    #all_homes = all_homes.groupby(by=all_homes.columns, axis=1).mean() \n",
    "    \n",
    "    return all_homes.columns\n",
    "convert_housing_data_to_quarters()"
   ]
  },
  {
   "cell_type": "code",
   "execution_count": null,
   "metadata": {
    "collapsed": true
   },
   "outputs": [],
   "source": []
  }
 ],
 "metadata": {
  "kernelspec": {
   "display_name": "Python 3",
   "language": "python",
   "name": "python3"
  },
  "language_info": {
   "codemirror_mode": {
    "name": "ipython",
    "version": 3
   },
   "file_extension": ".py",
   "mimetype": "text/x-python",
   "name": "python",
   "nbconvert_exporter": "python",
   "pygments_lexer": "ipython3",
   "version": "3.6.2"
  }
 },
 "nbformat": 4,
 "nbformat_minor": 2
}
