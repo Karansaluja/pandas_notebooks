{
 "cells": [
  {
   "cell_type": "code",
   "execution_count": 26,
   "metadata": {},
   "outputs": [
    {
     "name": "stdout",
     "output_type": "stream",
     "text": [
      "162\n"
     ]
    }
   ],
   "source": [
    "import pandas as pd\n",
    "import numpy as np\n",
    "    \n",
    "\n",
    "\n",
    "energy = pd.read_excel(\"Energy Indicators.xls\",skip_footer=38,skip_header=1,skiprows=17) # Skip header and footer\n",
    "\n",
    "energy.drop(energy.columns[[0,1]],axis=1,inplace=True) # Drop first 2 columns\n",
    "\n",
    "energy.columns = ['Country', 'Energy Supply', 'Energy Supply per Capita', '% Renewable']\n",
    "\n",
    "energy.dropna() # Drop rows with NaN values.\n",
    "\n",
    "energy['Country'] = energy['Country'].str.replace(r'\\(.*\\)', '') # Remove contents within parenthesis.\n",
    "energy['Country'] = energy['Country'].str.replace('\\d+', '') # Remove digits from names\n",
    "    \n",
    "energy['Country'] = energy['Country'].str.strip() # This brings the Iran energy values back!\n",
    "    \n",
    "\n",
    "    # Turn blank values into NaN\n",
    "for col in energy:\n",
    "    energy[col] = energy[col].replace('...',np.nan)\n",
    "\n",
    "energy['Country'] = energy['Country'].str.replace('Republic of Korea','South Korea')\n",
    "energy['Country'] = energy['Country'].str.replace('United States of America','United States')\n",
    "energy['Country'] = energy['Country'].str.replace('United Kingdom of Great Britain and Northern Ireland','United Kingdom')\n",
    "energy['Country'] = energy['Country'].str.replace('China, Hong Kong Special Administrative Region','Hong Kong')\n",
    "\n",
    "\n",
    "    # GDP:\n",
    "\n",
    "GDP = pd.read_csv('world_bank.csv', skiprows=3) # Skip header\n",
    "\n",
    "    # Make first row the column names\n",
    "new_header = GDP.iloc[0]\n",
    "GDP = GDP[1:]\n",
    "GDP.columns = new_header\n",
    "\n",
    "    #GDP = GDP.rename(index=str,columns = {\"Country Name\":\"Country\"})\n",
    "\n",
    "GDP['Country Name'] = GDP['Country Name'].str.replace('Korea, Rep.','South Korea')\n",
    "GDP['Country Name'] = GDP['Country Name'].str.replace('Iran, Islamic Rep.','Iran')\n",
    "GDP['Country Name'] = GDP['Country Name'].str.replace('Hong Kong SAR, China','Hong Kong')\n",
    "\n",
    "    # Change column name from 'Country Name' to 'Country' for merging 3 files on country name.\n",
    "names = GDP.columns.tolist()\n",
    "names[names.index('Country Name')] = 'Country'\n",
    "GDP.columns = names\n",
    "\n",
    "    # Only keep the columns from 2006-15. Drop column number 1 to 50. Don't need country code, etc.\n",
    "GDP = GDP.drop(GDP.iloc[:,1:50], axis=1)\n",
    "    \n",
    "GDP.columns = GDP.columns.astype(str).str.split('.').str[0] # Remove '.0' at the end of the year columns.    \n",
    "\n",
    "\n",
    "    # SCIMEN:\n",
    "ScimEn = pd.read_excel('scimagojr-3.xlsx')\n",
    "    \n",
    "    # LOST ENTRIES = LEN(OUTER JOIN) - LEN(INNER JOIN)\n",
    "    \n",
    "    # Need unique entries in all 3 sets so use concat. Can't do that with a left or right outer join!\n",
    "num_outer = len(pd.concat([ScimEn['Country'],energy['Country'],GDP['Country']]).unique())\n",
    "    \n",
    "num_inter = (GDP.merge(energy, left_on='Country', right_on='Country', how='inner').merge(ScimEn, left_on='Country', right_on='Country', how='inner').shape[0])\n",
    "\n",
    "print(num_inter)"
   ]
  },
  {
   "cell_type": "code",
   "execution_count": null,
   "metadata": {
    "collapsed": true
   },
   "outputs": [],
   "source": []
  }
 ],
 "metadata": {
  "kernelspec": {
   "display_name": "Python 3",
   "language": "python",
   "name": "python3"
  },
  "language_info": {
   "codemirror_mode": {
    "name": "ipython",
    "version": 3
   },
   "file_extension": ".py",
   "mimetype": "text/x-python",
   "name": "python",
   "nbconvert_exporter": "python",
   "pygments_lexer": "ipython3",
   "version": "3.6.2"
  }
 },
 "nbformat": 4,
 "nbformat_minor": 2
}
